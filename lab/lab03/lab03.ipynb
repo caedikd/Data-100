{
 "cells": [
  {
   "cell_type": "code",
   "execution_count": 1,
   "metadata": {
    "deletable": false,
    "editable": false
   },
   "outputs": [],
   "source": [
    "# Initialize Otter\n",
    "import otter\n",
    "grader = otter.Notebook(\"lab03.ipynb\")"
   ]
  },
  {
   "cell_type": "markdown",
   "metadata": {
    "nbgrader": {
     "grade": false,
     "grade_id": "intro",
     "locked": true,
     "schema_version": 2,
     "solution": false
    },
    "tags": []
   },
   "source": [
    "# Lab 3: Data Cleaning and EDA\n",
    "\n",
    "In this lab you will be working on visualizing a dataset from the City of Berkeley containing data on calls to the Berkeley Police Department. Information about the dataset can be found [at this link](https://data.cityofberkeley.info/Public-Safety/Berkeley-PD-Calls-for-Service/k2nh-s5h5).\n",
    "\n",
    "\n",
    "**Due Date: Tuesday, February 8, 11:59 PM PT.**\n",
    "\n",
    "### Content Warning\n",
    "This lab includes an analysis of crime in Berkeley. If you feel uncomfortable with this topic, **please contact your GSI or the instructors.**"
   ]
  },
  {
   "cell_type": "markdown",
   "metadata": {},
   "source": [
    "### Lab Walk-Through\n",
    "In addition to the lab notebook, we have also released a prerecorded walk-through video of the lab. We encourage you to reference this video as you work through the lab. Run the cell below to display the video."
   ]
  },
  {
   "cell_type": "code",
   "execution_count": 2,
   "metadata": {},
   "outputs": [
    {
     "data": {
      "image/jpeg": "[encoded data removed]",
      "text/html": [
       "\n",
       "        <iframe\n",
       "            width=\"400\"\n",
       "            height=\"300\"\n",
       "            src=\"https://www.youtube.com/embed/LcIXTx49o2A?list=PLQCcNQgUcDfrG1xueBsgwDy0x5vQmi5j0&listType=playlist\"\n",
       "            frameborder=\"0\"\n",
       "            allowfullscreen\n",
       "            \n",
       "        ></iframe>\n",
       "        "
      ],
      "text/plain": [
       "<IPython.lib.display.YouTubeVideo at 0x7f3d935be0d0>"
      ]
     },
     "execution_count": 2,
     "metadata": {},
     "output_type": "execute_result"
    }
   ],
   "source": [
    "from IPython.display import YouTubeVideo\n",
    "YouTubeVideo(\"LcIXTx49o2A\", list = 'PLQCcNQgUcDfrG1xueBsgwDy0x5vQmi5j0', listType = 'playlist')"
   ]
  },
  {
   "cell_type": "markdown",
   "metadata": {},
   "source": [
    "### Collaboration Policy\n",
    "\n",
    "Data science is a collaborative activity. While you may talk with others about this assignment, we ask that you **write your solutions individually**. If you discuss the assignment with others, please **include their names** in the cell below."
   ]
  },
  {
   "cell_type": "markdown",
   "metadata": {},
   "source": [
    "**Collaborators:** *list names here*"
   ]
  },
  {
   "cell_type": "markdown",
   "metadata": {
    "nbgrader": {
     "grade": false,
     "grade_id": "setup",
     "locked": true,
     "schema_version": 2,
     "solution": false
    }
   },
   "source": [
    "---\n",
    "## Setup\n",
    "\n",
    "In this lab, we'll perform Exploratory Data Analysis and learn some preliminary tips for working with matplotlib (a Python plotting library). Note that we configure a custom default figure size. Virtually every default aspect of matplotlib [can be customized](https://matplotlib.org/users/customizing.html)."
   ]
  },
  {
   "cell_type": "markdown",
   "metadata": {},
   "source": [
    "**Collaborators:** *list names here*"
   ]
  },
  {
   "cell_type": "code",
   "execution_count": 3,
   "metadata": {
    "nbgrader": {
     "grade": false,
     "grade_id": "imports",
     "locked": true,
     "schema_version": 2,
     "solution": false
    }
   },
   "outputs": [],
   "source": [
    "import pandas as pd\n",
    "import numpy as np\n",
    "import zipfile\n",
    "import matplotlib\n",
    "import matplotlib.pyplot as plt\n",
    "\n",
    "plt.rcParams['figure.figsize'] = (12, 9)"
   ]
  },
  {
   "cell_type": "code",
   "execution_count": 4,
   "metadata": {},
   "outputs": [
    {
     "data": {
      "text/plain": [
       "<Figure size 864x648 with 0 Axes>"
      ]
     },
     "metadata": {},
     "output_type": "display_data"
    }
   ],
   "source": [
    "fig = plt.figure()\n",
    "plt.show(fig)"
   ]
  },
  {
   "cell_type": "markdown",
   "metadata": {
    "nbgrader": {
     "grade": false,
     "grade_id": "part1",
     "locked": true,
     "schema_version": 2,
     "solution": false
    }
   },
   "source": [
    "<br/><br/>\n",
    "<hr style=\"border: 5px solid #003262;\" />\n",
    "<hr style=\"border: 1px solid #fdb515;\" />\n",
    "\n",
    "# Part 1: Acquire the Data\n",
    "\n",
    "**1. Obtain data**<br/>\n",
    "To retrieve the dataset, we will use the `ds100_utils.fetch_and_cache` utility."
   ]
  },
  {
   "cell_type": "code",
   "execution_count": 5,
   "metadata": {
    "collapsed": false,
    "jupyter": {
     "outputs_hidden": false
    }
   },
   "outputs": [
    {
     "name": "stdout",
     "output_type": "stream",
     "text": [
      "Using cached version that was downloaded (UTC): Sun Feb  6 23:13:21 2022\n",
      "Located at data/lab03_data_sp22.zip\n"
     ]
    }
   ],
   "source": [
    "# just run this cell\n",
    "import ds100_utils\n",
    "\n",
    "data_dir = 'data'\n",
    "data_url = 'http://www.ds100.org/sp22/resources/assets/datasets/lab03_data_sp22.zip'\n",
    "file_name = 'lab03_data_sp22.zip'\n",
    "\n",
    "dest_path = ds100_utils.fetch_and_cache(data_url=data_url, file=file_name, data_dir=data_dir)\n",
    "print(f'Located at {dest_path}')"
   ]
  },
  {
   "cell_type": "markdown",
   "metadata": {
    "nbgrader": {
     "grade": false,
     "grade_id": "unzip-data-1",
     "locked": true,
     "schema_version": 2,
     "solution": false
    }
   },
   "source": [
    "**2. Unzip file**<br/>\n",
    "We will now directly unzip the ZIP archive and start working with the uncompressed files."
   ]
  },
  {
   "cell_type": "code",
   "execution_count": 6,
   "metadata": {},
   "outputs": [],
   "source": [
    "# just run this cell\n",
    "my_zip = zipfile.ZipFile(dest_path, 'r')\n",
    "my_zip.extractall(data_dir)"
   ]
  },
  {
   "cell_type": "markdown",
   "metadata": {},
   "source": [
    "Note: There is no single right answer regarding whether to work with compressed files in their compressed state or to uncompress them on disk permanently. For example, if you need to work with multiple tools on the same files, or write many notebooks to analyze them—and they are not too large—it may be more convenient to uncompress them once.  But you may also have situations where you find it preferable to work with the compressed data directly.  \n",
    "\n",
    "Python gives you tools for both approaches, and you should know how to perform both tasks in order to choose the one that best suits the problem at hand."
   ]
  },
  {
   "cell_type": "markdown",
   "metadata": {
    "nbgrader": {
     "grade": false,
     "grade_id": "q0",
     "locked": true,
     "schema_version": 2,
     "solution": false
    }
   },
   "source": [
    "**3. View files**\n",
    "\n",
    "Now, we'll use the `os` package to list all files in the `data` directory. `os.walk()` recursively traverses the directory, and `os.path.join()` creates the full pathname of each file.\n",
    "\n",
    "If you're interested in learning more, check out the Python3 documentation pages for `os.walk` ([link](https://docs.python.org/3/library/os.html#os.walk)) and `os.path` ([link](https://docs.python.org/3/library/os.path.html#os.path.join)).\n",
    "\n",
    "We use Python 3 [format strings](https://docs.python.org/3/tutorial/inputoutput.html) to nicely format the printed variables `dpath` and `fpath`."
   ]
  },
  {
   "cell_type": "code",
   "execution_count": 7,
   "metadata": {
    "collapsed": false,
    "jupyter": {
     "outputs_hidden": false
    }
   },
   "outputs": [
    {
     "name": "stdout",
     "output_type": "stream",
     "text": [
      "d data/secret\n",
      "  data/lab03_data_sp22.zip\n",
      "  data/Berkeley_PD_-_Calls_for_Service.csv\n",
      "  data/ben_kurtovic.py\n",
      "  data/dummy.txt\n",
      "  data/hello_world.py\n",
      "  data/secret/do_not_readme.md\n"
     ]
    }
   ],
   "source": [
    "# just run this cell\n",
    "import os\n",
    "\n",
    "for root, directories, filenames in os.walk(data_dir):\n",
    "    # first, print out all directories\n",
    "    for directory in directories:\n",
    "        dpath = os.path.join(root, directory)\n",
    "        print(f\"d {dpath}\")\n",
    "        \n",
    "    # next, print out all files\n",
    "    for filename in filenames:  \n",
    "        fpath = os.path.join(root,filename)\n",
    "        print(f\"  {fpath}\")"
   ]
  },
  {
   "cell_type": "markdown",
   "metadata": {
    "nbgrader": {
     "grade": false,
     "grade_id": "explore-0",
     "locked": true,
     "schema_version": 2,
     "solution": false
    }
   },
   "source": [
    "In this Lab, we'll be working with the `Berkeley_PD_-_Calls_for_Service.csv` file. Feel free to check out the other files, though."
   ]
  },
  {
   "cell_type": "markdown",
   "metadata": {},
   "source": [
    "<br/><br/>\n",
    "<hr style=\"border: 5px solid #003262;\" />\n",
    "<hr style=\"border: 1px solid #fdb515;\" />\n",
    "\n",
    "# Part 2: Clean and Explore the Data\n",
    "\n",
    "Let's now load the CSV file we have into a `pandas.DataFrame` object and start exploring the data."
   ]
  },
  {
   "cell_type": "code",
   "execution_count": 8,
   "metadata": {
    "collapsed": false,
    "jupyter": {
     "outputs_hidden": false
    }
   },
   "outputs": [
    {
     "data": {
      "text/html": [
       "<div>\n",
       "<style scoped>\n",
       "    .dataframe tbody tr th:only-of-type {\n",
       "        vertical-align: middle;\n",
       "    }\n",
       "\n",
       "    .dataframe tbody tr th {\n",
       "        vertical-align: top;\n",
       "    }\n",
       "\n",
       "    .dataframe thead th {\n",
       "        text-align: right;\n",
       "    }\n",
       "</style>\n",
       "<table border=\"1\" class=\"dataframe\">\n",
       "  <thead>\n",
       "    <tr style=\"text-align: right;\">\n",
       "      <th></th>\n",
       "      <th>CASENO</th>\n",
       "      <th>OFFENSE</th>\n",
       "      <th>EVENTDT</th>\n",
       "      <th>EVENTTM</th>\n",
       "      <th>CVLEGEND</th>\n",
       "      <th>CVDOW</th>\n",
       "      <th>InDbDate</th>\n",
       "      <th>Block_Location</th>\n",
       "      <th>BLKADDR</th>\n",
       "      <th>City</th>\n",
       "      <th>State</th>\n",
       "    </tr>\n",
       "  </thead>\n",
       "  <tbody>\n",
       "    <tr>\n",
       "      <th>0</th>\n",
       "      <td>21014296</td>\n",
       "      <td>THEFT MISD. (UNDER $950)</td>\n",
       "      <td>04/01/2021 12:00:00 AM</td>\n",
       "      <td>10:58</td>\n",
       "      <td>LARCENY</td>\n",
       "      <td>4</td>\n",
       "      <td>06/15/2021 12:00:00 AM</td>\n",
       "      <td>Berkeley, CA\\n(37.869058, -122.270455)</td>\n",
       "      <td>NaN</td>\n",
       "      <td>Berkeley</td>\n",
       "      <td>CA</td>\n",
       "    </tr>\n",
       "    <tr>\n",
       "      <th>1</th>\n",
       "      <td>21014391</td>\n",
       "      <td>THEFT MISD. (UNDER $950)</td>\n",
       "      <td>04/01/2021 12:00:00 AM</td>\n",
       "      <td>10:38</td>\n",
       "      <td>LARCENY</td>\n",
       "      <td>4</td>\n",
       "      <td>06/15/2021 12:00:00 AM</td>\n",
       "      <td>Berkeley, CA\\n(37.869058, -122.270455)</td>\n",
       "      <td>NaN</td>\n",
       "      <td>Berkeley</td>\n",
       "      <td>CA</td>\n",
       "    </tr>\n",
       "    <tr>\n",
       "      <th>2</th>\n",
       "      <td>21090494</td>\n",
       "      <td>THEFT MISD. (UNDER $950)</td>\n",
       "      <td>04/19/2021 12:00:00 AM</td>\n",
       "      <td>12:15</td>\n",
       "      <td>LARCENY</td>\n",
       "      <td>1</td>\n",
       "      <td>06/15/2021 12:00:00 AM</td>\n",
       "      <td>2100 BLOCK HASTE ST\\nBerkeley, CA\\n(37.864908,...</td>\n",
       "      <td>2100 BLOCK HASTE ST</td>\n",
       "      <td>Berkeley</td>\n",
       "      <td>CA</td>\n",
       "    </tr>\n",
       "    <tr>\n",
       "      <th>3</th>\n",
       "      <td>21090204</td>\n",
       "      <td>THEFT FELONY (OVER $950)</td>\n",
       "      <td>02/13/2021 12:00:00 AM</td>\n",
       "      <td>17:00</td>\n",
       "      <td>LARCENY</td>\n",
       "      <td>6</td>\n",
       "      <td>06/15/2021 12:00:00 AM</td>\n",
       "      <td>2600 BLOCK WARRING ST\\nBerkeley, CA\\n(37.86393...</td>\n",
       "      <td>2600 BLOCK WARRING ST</td>\n",
       "      <td>Berkeley</td>\n",
       "      <td>CA</td>\n",
       "    </tr>\n",
       "    <tr>\n",
       "      <th>4</th>\n",
       "      <td>21090179</td>\n",
       "      <td>BURGLARY AUTO</td>\n",
       "      <td>02/08/2021 12:00:00 AM</td>\n",
       "      <td>6:20</td>\n",
       "      <td>BURGLARY - VEHICLE</td>\n",
       "      <td>1</td>\n",
       "      <td>06/15/2021 12:00:00 AM</td>\n",
       "      <td>2700 BLOCK GARBER ST\\nBerkeley, CA\\n(37.86066,...</td>\n",
       "      <td>2700 BLOCK GARBER ST</td>\n",
       "      <td>Berkeley</td>\n",
       "      <td>CA</td>\n",
       "    </tr>\n",
       "  </tbody>\n",
       "</table>\n",
       "</div>"
      ],
      "text/plain": [
       "     CASENO                   OFFENSE                 EVENTDT EVENTTM  \\\n",
       "0  21014296  THEFT MISD. (UNDER $950)  04/01/2021 12:00:00 AM   10:58   \n",
       "1  21014391  THEFT MISD. (UNDER $950)  04/01/2021 12:00:00 AM   10:38   \n",
       "2  21090494  THEFT MISD. (UNDER $950)  04/19/2021 12:00:00 AM   12:15   \n",
       "3  21090204  THEFT FELONY (OVER $950)  02/13/2021 12:00:00 AM   17:00   \n",
       "4  21090179             BURGLARY AUTO  02/08/2021 12:00:00 AM    6:20   \n",
       "\n",
       "             CVLEGEND  CVDOW                InDbDate  \\\n",
       "0             LARCENY      4  06/15/2021 12:00:00 AM   \n",
       "1             LARCENY      4  06/15/2021 12:00:00 AM   \n",
       "2             LARCENY      1  06/15/2021 12:00:00 AM   \n",
       "3             LARCENY      6  06/15/2021 12:00:00 AM   \n",
       "4  BURGLARY - VEHICLE      1  06/15/2021 12:00:00 AM   \n",
       "\n",
       "                                      Block_Location                BLKADDR  \\\n",
       "0             Berkeley, CA\\n(37.869058, -122.270455)                    NaN   \n",
       "1             Berkeley, CA\\n(37.869058, -122.270455)                    NaN   \n",
       "2  2100 BLOCK HASTE ST\\nBerkeley, CA\\n(37.864908,...    2100 BLOCK HASTE ST   \n",
       "3  2600 BLOCK WARRING ST\\nBerkeley, CA\\n(37.86393...  2600 BLOCK WARRING ST   \n",
       "4  2700 BLOCK GARBER ST\\nBerkeley, CA\\n(37.86066,...   2700 BLOCK GARBER ST   \n",
       "\n",
       "       City State  \n",
       "0  Berkeley    CA  \n",
       "1  Berkeley    CA  \n",
       "2  Berkeley    CA  \n",
       "3  Berkeley    CA  \n",
       "4  Berkeley    CA  "
      ]
     },
     "execution_count": 8,
     "metadata": {},
     "output_type": "execute_result"
    }
   ],
   "source": [
    "# just run this cell\n",
    "calls = pd.read_csv(\"data/Berkeley_PD_-_Calls_for_Service.csv\")\n",
    "calls.head()"
   ]
  },
  {
   "cell_type": "markdown",
   "metadata": {},
   "source": [
    "We see that the fields include a case number, the offense type, the date and time of the offense, the \"CVLEGEND\" which appears to be related to the offense type, a \"CVDOW\" which has no apparent meaning, a date added to the database, and the location spread across four fields. We can read more about each field from the City of the Berkeley's [open dataset webpage](https://data.cityofberkeley.info/Public-Safety/Berkeley-PD-Calls-for-Service/k2nh-s5h5).\n",
    "\n",
    "Let's also check some basic information about this DataFrame using the `DataFrame.info` ([documentation](https://pandas.pydata.org/pandas-docs/stable/reference/api/pandas.DataFrame.info.html)) and `DataFrame.describe` methods ([documentation](https://pandas.pydata.org/pandas-docs/stable/reference/api/pandas.DataFrame.describe.html))."
   ]
  },
  {
   "cell_type": "code",
   "execution_count": 9,
   "metadata": {
    "collapsed": false,
    "jupyter": {
     "outputs_hidden": false
    }
   },
   "outputs": [
    {
     "name": "stdout",
     "output_type": "stream",
     "text": [
      "<class 'pandas.core.frame.DataFrame'>\n",
      "RangeIndex: 2632 entries, 0 to 2631\n",
      "Data columns (total 11 columns):\n",
      " #   Column          Non-Null Count  Dtype \n",
      "---  ------          --------------  ----- \n",
      " 0   CASENO          2632 non-null   int64 \n",
      " 1   OFFENSE         2632 non-null   object\n",
      " 2   EVENTDT         2632 non-null   object\n",
      " 3   EVENTTM         2632 non-null   object\n",
      " 4   CVLEGEND        2632 non-null   object\n",
      " 5   CVDOW           2632 non-null   int64 \n",
      " 6   InDbDate        2632 non-null   object\n",
      " 7   Block_Location  2632 non-null   object\n",
      " 8   BLKADDR         2612 non-null   object\n",
      " 9   City            2632 non-null   object\n",
      " 10  State           2632 non-null   object\n",
      "dtypes: int64(2), object(9)\n",
      "memory usage: 226.3+ KB\n"
     ]
    }
   ],
   "source": [
    "# df.info() displays \n",
    "# name and type of each column,\n",
    "# number of non-null entries, and\n",
    "# size of dataframe\n",
    "calls.info()"
   ]
  },
  {
   "cell_type": "markdown",
   "metadata": {},
   "source": [
    "Note that the `BLKADDR` column only has 2612 non-null entries, while the other columns all have 2632 entries. This is because the `.info()` method only counts non-null entries."
   ]
  },
  {
   "cell_type": "code",
   "execution_count": 10,
   "metadata": {
    "collapsed": false,
    "jupyter": {
     "outputs_hidden": false
    }
   },
   "outputs": [
    {
     "data": {
      "text/html": [
       "<div>\n",
       "<style scoped>\n",
       "    .dataframe tbody tr th:only-of-type {\n",
       "        vertical-align: middle;\n",
       "    }\n",
       "\n",
       "    .dataframe tbody tr th {\n",
       "        vertical-align: top;\n",
       "    }\n",
       "\n",
       "    .dataframe thead th {\n",
       "        text-align: right;\n",
       "    }\n",
       "</style>\n",
       "<table border=\"1\" class=\"dataframe\">\n",
       "  <thead>\n",
       "    <tr style=\"text-align: right;\">\n",
       "      <th></th>\n",
       "      <th>CASENO</th>\n",
       "      <th>CVDOW</th>\n",
       "    </tr>\n",
       "  </thead>\n",
       "  <tbody>\n",
       "    <tr>\n",
       "      <th>count</th>\n",
       "      <td>2.632000e+03</td>\n",
       "      <td>2632.000000</td>\n",
       "    </tr>\n",
       "    <tr>\n",
       "      <th>mean</th>\n",
       "      <td>2.095978e+07</td>\n",
       "      <td>3.071049</td>\n",
       "    </tr>\n",
       "    <tr>\n",
       "      <th>std</th>\n",
       "      <td>2.452665e+05</td>\n",
       "      <td>1.984136</td>\n",
       "    </tr>\n",
       "    <tr>\n",
       "      <th>min</th>\n",
       "      <td>2.005721e+07</td>\n",
       "      <td>0.000000</td>\n",
       "    </tr>\n",
       "    <tr>\n",
       "      <th>25%</th>\n",
       "      <td>2.100568e+07</td>\n",
       "      <td>1.000000</td>\n",
       "    </tr>\n",
       "    <tr>\n",
       "      <th>50%</th>\n",
       "      <td>2.101431e+07</td>\n",
       "      <td>3.000000</td>\n",
       "    </tr>\n",
       "    <tr>\n",
       "      <th>75%</th>\n",
       "      <td>2.102256e+07</td>\n",
       "      <td>5.000000</td>\n",
       "    </tr>\n",
       "    <tr>\n",
       "      <th>max</th>\n",
       "      <td>2.109066e+07</td>\n",
       "      <td>6.000000</td>\n",
       "    </tr>\n",
       "  </tbody>\n",
       "</table>\n",
       "</div>"
      ],
      "text/plain": [
       "             CASENO        CVDOW\n",
       "count  2.632000e+03  2632.000000\n",
       "mean   2.095978e+07     3.071049\n",
       "std    2.452665e+05     1.984136\n",
       "min    2.005721e+07     0.000000\n",
       "25%    2.100568e+07     1.000000\n",
       "50%    2.101431e+07     3.000000\n",
       "75%    2.102256e+07     5.000000\n",
       "max    2.109066e+07     6.000000"
      ]
     },
     "execution_count": 10,
     "metadata": {},
     "output_type": "execute_result"
    }
   ],
   "source": [
    "calls.describe()"
   ]
  },
  {
   "cell_type": "markdown",
   "metadata": {
    "nbgrader": {
     "grade": false,
     "grade_id": "explore-4",
     "locked": true,
     "schema_version": 2,
     "solution": false
    }
   },
   "source": [
    "Notice that the functions above reveal type information for the columns, as well as some basic statistics about the numerical columns found in the DataFrame. However, we still need more information about what each column represents. Let's explore the data further in Question 1.\n",
    "\n",
    "Before we go over the fields to see their meanings, the cell below will verify that all the events happened in Berkeley by grouping on the `City` and `State` columns. You should see that all of our data falls into one group."
   ]
  },
  {
   "cell_type": "code",
   "execution_count": 11,
   "metadata": {
    "collapsed": false,
    "jupyter": {
     "outputs_hidden": false
    }
   },
   "outputs": [
    {
     "data": {
      "text/html": [
       "<div>\n",
       "<style scoped>\n",
       "    .dataframe tbody tr th:only-of-type {\n",
       "        vertical-align: middle;\n",
       "    }\n",
       "\n",
       "    .dataframe tbody tr th {\n",
       "        vertical-align: top;\n",
       "    }\n",
       "\n",
       "    .dataframe thead th {\n",
       "        text-align: right;\n",
       "    }\n",
       "</style>\n",
       "<table border=\"1\" class=\"dataframe\">\n",
       "  <thead>\n",
       "    <tr style=\"text-align: right;\">\n",
       "      <th></th>\n",
       "      <th></th>\n",
       "      <th>CASENO</th>\n",
       "      <th>OFFENSE</th>\n",
       "      <th>EVENTDT</th>\n",
       "      <th>EVENTTM</th>\n",
       "      <th>CVLEGEND</th>\n",
       "      <th>CVDOW</th>\n",
       "      <th>InDbDate</th>\n",
       "      <th>Block_Location</th>\n",
       "      <th>BLKADDR</th>\n",
       "    </tr>\n",
       "    <tr>\n",
       "      <th>City</th>\n",
       "      <th>State</th>\n",
       "      <th></th>\n",
       "      <th></th>\n",
       "      <th></th>\n",
       "      <th></th>\n",
       "      <th></th>\n",
       "      <th></th>\n",
       "      <th></th>\n",
       "      <th></th>\n",
       "      <th></th>\n",
       "    </tr>\n",
       "  </thead>\n",
       "  <tbody>\n",
       "    <tr>\n",
       "      <th>Berkeley</th>\n",
       "      <th>CA</th>\n",
       "      <td>2632</td>\n",
       "      <td>2632</td>\n",
       "      <td>2632</td>\n",
       "      <td>2632</td>\n",
       "      <td>2632</td>\n",
       "      <td>2632</td>\n",
       "      <td>2632</td>\n",
       "      <td>2632</td>\n",
       "      <td>2612</td>\n",
       "    </tr>\n",
       "  </tbody>\n",
       "</table>\n",
       "</div>"
      ],
      "text/plain": [
       "                CASENO  OFFENSE  EVENTDT  EVENTTM  CVLEGEND  CVDOW  InDbDate  \\\n",
       "City     State                                                                 \n",
       "Berkeley CA       2632     2632     2632     2632      2632   2632      2632   \n",
       "\n",
       "                Block_Location  BLKADDR  \n",
       "City     State                           \n",
       "Berkeley CA               2632     2612  "
      ]
     },
     "execution_count": 11,
     "metadata": {},
     "output_type": "execute_result"
    }
   ],
   "source": [
    "calls.groupby([\"City\",\"State\"]).count()"
   ]
  },
  {
   "cell_type": "markdown",
   "metadata": {
    "nbgrader": {
     "grade": false,
     "grade_id": "q1",
     "locked": true,
     "schema_version": 2,
     "solution": false
    }
   },
   "source": [
    "When we called `head()` on the Dataframe `calls`, it seemed like `OFFENSE` and `CVLEGEND` both contained information about the type of event reported. What is the difference in meaning between the two columns? One way to probe this is to look at the `value_counts` for each Series."
   ]
  },
  {
   "cell_type": "code",
   "execution_count": 12,
   "metadata": {
    "collapsed": false,
    "jupyter": {
     "outputs_hidden": false
    }
   },
   "outputs": [
    {
     "data": {
      "text/plain": [
       "THEFT MISD. (UNDER $950)    559\n",
       "VEHICLE STOLEN              277\n",
       "BURGLARY AUTO               218\n",
       "THEFT FELONY (OVER $950)    215\n",
       "DISTURBANCE                 204\n",
       "BURGLARY RESIDENTIAL        178\n",
       "VANDALISM                   166\n",
       "THEFT FROM AUTO             163\n",
       "ASSAULT/BATTERY MISD.       116\n",
       "ROBBERY                      90\n",
       "Name: OFFENSE, dtype: int64"
      ]
     },
     "execution_count": 12,
     "metadata": {},
     "output_type": "execute_result"
    }
   ],
   "source": [
    "calls['OFFENSE'].value_counts().head(10)"
   ]
  },
  {
   "cell_type": "code",
   "execution_count": 13,
   "metadata": {
    "collapsed": false,
    "jupyter": {
     "outputs_hidden": false
    }
   },
   "outputs": [
    {
     "data": {
      "text/plain": [
       "LARCENY                   782\n",
       "MOTOR VEHICLE THEFT       277\n",
       "BURGLARY - VEHICLE        218\n",
       "DISORDERLY CONDUCT        204\n",
       "BURGLARY - RESIDENTIAL    178\n",
       "VANDALISM                 166\n",
       "LARCENY - FROM VEHICLE    163\n",
       "ASSAULT                   150\n",
       "FRAUD                      93\n",
       "ROBBERY                    90\n",
       "Name: CVLEGEND, dtype: int64"
      ]
     },
     "execution_count": 13,
     "metadata": {},
     "output_type": "execute_result"
    }
   ],
   "source": [
    "calls['CVLEGEND'].value_counts().head(10)"
   ]
  },
  {
   "cell_type": "markdown",
   "metadata": {
    "nbgrader": {
     "grade": false,
     "grade_id": "q1a",
     "locked": true,
     "schema_version": 2,
     "solution": false
    }
   },
   "source": [
    "It seems like `OFFENSE` is more specific than `CVLEGEND`, e.g. \"LARCENY\" vs. \"THEFT FELONY (OVER $950)\". If you're unfamiliar with the term, \"larceny\" is a legal term for theft of personal property.\n",
    "\n",
    "To get a sense of how many subcategories there are for each `OFFENSE`, we will set `calls_by_cvlegend_and_offense` equal to a multi-indexed series where the data is first indexed on the `CVLEGEND` and then on the `OFFENSE`, and the data is equal to the number of offenses in the database that match the respective `CVLEGEND` and `OFFENSE`. As you can see, `calls_by_cvlegend_and_offense[\"LARCENY\", \"THEFT FROM PERSON\"]` returns 8 which means there are 8 instances of larceny with offense of type \"THEFT FROM PERSON\" in the database."
   ]
  },
  {
   "cell_type": "code",
   "execution_count": 14,
   "metadata": {},
   "outputs": [
    {
     "data": {
      "text/plain": [
       "8"
      ]
     },
     "execution_count": 14,
     "metadata": {},
     "output_type": "execute_result"
    }
   ],
   "source": [
    "calls_by_cvlegend_and_offense = calls.groupby([\"CVLEGEND\", \"OFFENSE\"]).size()\n",
    "calls_by_cvlegend_and_offense[\"LARCENY\", \"THEFT FROM PERSON\"]"
   ]
  },
  {
   "cell_type": "markdown",
   "metadata": {
    "deletable": false,
    "editable": false,
    "nbgrader": {
     "grade": false,
     "grade_id": "q1b",
     "locked": true,
     "schema_version": 2,
     "solution": false
    }
   },
   "source": [
    "<br/>\n",
    "\n",
    "<hr style=\"border: 1px solid #fdb515;\" />\n",
    "\n",
    "## Question 1\n",
    "\n",
    "In the cell below, set `answer1` equal to a list of strings corresponding to the possible values for `OFFENSE` when `CVLEGEND` is \"LARCENY\". You can type the answer manually, or you can create an expression that automatically extracts the names.\n",
    "\n",
    "<!--\n",
    "BEGIN QUESTION\n",
    "name: q1\n",
    "-->"
   ]
  },
  {
   "cell_type": "code",
   "execution_count": 15,
   "metadata": {
    "collapsed": false,
    "jupyter": {
     "outputs_hidden": false
    }
   },
   "outputs": [
    {
     "data": {
      "text/plain": [
       "['THEFT FELONY (OVER $950)', 'THEFT FROM PERSON', 'THEFT MISD. (UNDER $950)']"
      ]
     },
     "execution_count": 15,
     "metadata": {},
     "output_type": "execute_result"
    }
   ],
   "source": [
    "answer1 = list(calls_by_cvlegend_and_offense['LARCENY'].index)\n",
    "answer1"
   ]
  },
  {
   "cell_type": "code",
   "execution_count": 16,
   "metadata": {
    "deletable": false,
    "editable": false
   },
   "outputs": [
    {
     "data": {
      "text/html": [
       "<p><strong><pre style='display: inline;'>q1</pre></strong> passed!</p>"
      ],
      "text/plain": [
       "q1 results: All test cases passed!"
      ]
     },
     "execution_count": 16,
     "metadata": {},
     "output_type": "execute_result"
    }
   ],
   "source": [
    "grader.check(\"q1\")"
   ]
  },
  {
   "cell_type": "markdown",
   "metadata": {
    "nbgrader": {
     "grade": false,
     "grade_id": "setup",
     "locked": true,
     "schema_version": 2,
     "solution": false
    }
   },
   "source": [
    "<br/><br/>\n",
    "<hr style=\"border: 5px solid #003262;\" />\n",
    "<hr style=\"border: 1px solid #fdb515;\" />\n",
    "\n",
    "# Part 3: Visualize the Data\n"
   ]
  },
  {
   "cell_type": "markdown",
   "metadata": {
    "nbgrader": {
     "grade": false,
     "grade_id": "part2",
     "locked": true,
     "schema_version": 2,
     "solution": false
    }
   },
   "source": [
    "### Matplotlib demo\n",
    "\n",
    "You've seen some `matplotlib` in this class already, but now we will explain how to work with the object-oriented plotting API mentioned in this [matplotlib.pyplot tutorial](https://matplotlib.org/tutorials/introductory/pyplot.html) useful. In matplotlib, plotting occurs on a set of Axes which are associated with a Figure. An analogy is that on a blank canvas (Figure), you choose a location to plot (`Axes`) and then fill it in (plot).\n",
    "\n",
    "There are two approaches to labeling and manipulating figure contents, which we'll discuss below. Approach 1 is closest to the plotting paradigm of MATLAB, the namesake of matplotlib; Approach 2 is also common because many matplotlib-based packages (such as Seaborn) explicitly return the current set of axes after plotting data. Both are essentially equivalent, and at the end of this class you'll be comfortable with both. \n",
    "\n",
    "**Approach 1**: matplotlib (or Seaborn) will auto-plot onto the current set of Axes or (if none exists) create a new figure/set of default axes. You can plot data using methods from `plt`, which is shorthand for the `matplotlib.pyplot` package. Then subsequent `plt` calls all edit the same set of default-created axes.\n",
    "\n",
    "**Approach 2**:  \n",
    "After creating the initial plot, you can also use `plt.gca()` to explicitly get the current set of axes, and then edit those specific axes using axes methods. Note the method naming is slightly different!\n"
   ]
  },
  {
   "cell_type": "markdown",
   "metadata": {
    "nbgrader": {
     "grade": false,
     "grade_id": "plot-demo",
     "locked": true,
     "schema_version": 2,
     "solution": false
    }
   },
   "source": [
    "As an example of the built-in plotting functionality of pandas, the following example uses `plot` method of the `Series` class to generate a `barh` plot type to visually display the value counts for `CVLEGEND`.\n",
    "\n",
    "There are also many other plots that we will explore throughout the lab."
   ]
  },
  {
   "cell_type": "markdown",
   "metadata": {},
   "source": [
    "**Side note:** Pandas also offers basic functionality for plotting. For example, the `DataFrame` and `Series` classes both have a `plot` method, which uses matplotlib under the hood. For now we'll focus on matplotlib itself so you get used to the syntax, but just know that convenient Pandas plotting methods exist for your own future data science exploration.\n",
    "\n",
    "Below, we show both approaches by generating a horizontal bar plot to visually display the value counts for `CVLEGEND`. See the `barh`[documentation](https://matplotlib.org/stable/api/_as_gen/matplotlib.pyplot.barh.html?highlight=barh#matplotlib.pyplot.barh) for more details."
   ]
  },
  {
   "cell_type": "code",
   "execution_count": 17,
   "metadata": {},
   "outputs": [
    {
     "name": "stdout",
     "output_type": "stream",
     "text": [
      "Demo 1: Using plt methods to update plot\n"
     ]
    },
    {
     "data": {
      "image/png": "[encoded data removed]",
      "text/plain": [
       "<Figure size 864x648 with 1 Axes>"
      ]
     },
     "metadata": {
      "needs_background": "light"
     },
     "output_type": "display_data"
    }
   ],
   "source": [
    "# DEMO CELL: assign demo to 1 or 2.\n",
    "demo = 1\n",
    "\n",
    "calls_cvlegend = calls['CVLEGEND'].value_counts()\n",
    "\n",
    "if demo == 1:\n",
    "    plt.barh(calls_cvlegend.index, calls_cvlegend) # creates figure and axes\n",
    "    print(f\"Demo {demo}: Using plt methods to update plot\")\n",
    "    plt.ylabel(\"Crime Category\")               # uses most recently plotted axes\n",
    "    plt.xlabel(\"Number of Calls\")\n",
    "    plt.title(\"Number of Calls by Crime Type\")\n",
    "elif demo == 2:\n",
    "    print(f\"Demo {demo}: Using axes methods to update plot\")\n",
    "    plt.barh(calls_cvlegend.index, calls_cvlegend) # creates figure and axes\n",
    "    ax = plt.gca()\n",
    "    ax.set_ylabel(\"Crime Category\")\n",
    "    ax.set_xlabel(\"Number of Calls\")\n",
    "    ax.set_title(\"Axes methods: Number of Calls by Crime Type\")\n",
    "else:\n",
    "    print(\"Error: Please assign the demo variable to 1 or 2.\")\n",
    "\n",
    "plt.show()"
   ]
  },
  {
   "cell_type": "markdown",
   "metadata": {
    "nbgrader": {
     "grade": false,
     "grade_id": "plot-demo6",
     "locked": true,
     "schema_version": 2,
     "solution": false
    }
   },
   "source": [
    "<br/>\n",
    "\n",
    "### An Additional Note on Plotting in Jupyter Notebooks\n",
    "\n",
    "You may have noticed that many of our plotting code cells end with a semicolon `;` or `plt.show()`. The former prevents any extra output from the last line of the cell; the latter explicitly returns (and outputs) the figure. Try adding this to your own code in the following questions!"
   ]
  },
  {
   "cell_type": "markdown",
   "metadata": {
    "deletable": false,
    "editable": false,
    "nbgrader": {
     "grade": false,
     "grade_id": "q3",
     "locked": true,
     "schema_version": 2,
     "solution": false
    }
   },
   "source": [
    "<br/>\n",
    "<hr style=\"border: 1px solid #fdb515;\" />\n",
    "\n",
    "## Question 2\n",
    "\n",
    "Now it is your turn to make a plot using `matplotlib`.  Let's start by transforming the data so that it is easier to work with.\n",
    "\n",
    "The `CVDOW` field isn't named helpfully and it is hard to see the meaning from the data alone. According to the website [linked](https://data.cityofberkeley.info/Public-Safety/Berkeley-PD-Calls-for-Service/k2nh-s5h5) at the top of this notebook, `CVDOW` is actually indicating the day that events happened. 0->Sunday, 1->Monday ... 6->Saturday. \n",
    "\n",
    "## Question 2a\n",
    "\n",
    "Add a new column `Day` into the `calls` dataframe that has the string weekday (eg. 'Sunday') for the corresponding value in CVDOW. For example, if the first 3 values of `CVDOW` are `[3, 6, 0]`, then the first 3 values of the `Day` column should be `[\"Wednesday\", \"Saturday\", \"Sunday\"]`.\n",
    "\n",
    "**Hint:** *Try using the [Series.map](https://pandas.pydata.org/pandas-docs/stable/reference/api/pandas.Series.map.html) function on `calls[\"CVDOW\"]`.  Can you assign this to the new column `calls[\"Day\"]`?*\n",
    "\n",
    "<!--\n",
    "BEGIN QUESTION\n",
    "name: q2a\n",
    "-->"
   ]
  },
  {
   "cell_type": "code",
   "execution_count": 18,
   "metadata": {
    "nbgrader": {
     "grade": false,
     "grade_id": "q3a-answer",
     "locked": false,
     "schema_version": 2,
     "solution": true
    }
   },
   "outputs": [],
   "source": [
    "days = [\"Sunday\", \"Monday\", \"Tuesday\", \"Wednesday\", \"Thursday\", \"Friday\", \"Saturday\"]\n",
    "day_indices = range(7)\n",
    "indices_to_days_dict = dict(zip(day_indices, days)) # Should look like {0:\"Sunday\", 1:\"Monday\", ..., 6:\"Saturday\"}\n",
    "\n",
    "calls[\"Day\"] = calls['CVDOW'].map(indices_to_days_dict)"
   ]
  },
  {
   "cell_type": "code",
   "execution_count": 19,
   "metadata": {
    "deletable": false,
    "editable": false
   },
   "outputs": [
    {
     "data": {
      "text/html": [
       "<p><strong><pre style='display: inline;'>q2a</pre></strong> passed!</p>"
      ],
      "text/plain": [
       "q2a results: All test cases passed!"
      ]
     },
     "execution_count": 19,
     "metadata": {},
     "output_type": "execute_result"
    }
   ],
   "source": [
    "grader.check(\"q2a\")"
   ]
  },
  {
   "cell_type": "code",
   "execution_count": 20,
   "metadata": {},
   "outputs": [
    {
     "data": {
      "image/png": "[encoded data removed]",
      "text/plain": [
       "<Figure size 864x648 with 1 Axes>"
      ]
     },
     "metadata": {
      "needs_background": "light"
     },
     "output_type": "display_data"
    }
   ],
   "source": [
    "# just run this example cell\n",
    "ax = calls['CVLEGEND'].value_counts().plot(kind='barh')\n",
    "ax.set_ylabel(\"Crime Category\")\n",
    "ax.set_xlabel(\"Number of Calls\")\n",
    "ax.set_title(\"Number of Calls By Crime Type\");"
   ]
  },
  {
   "cell_type": "markdown",
   "metadata": {},
   "source": [
    "**Challenge (OPTIONAL):** You could also accomplish this part as a table left join with `pd.merge` ([documentation](https://pandas.pydata.org/pandas-docs/stable/reference/api/pandas.merge.html?highlight=merge#pandas.merge)), instead of using `Series.map`. You would need to merge `calls` with a new dataframe that just contains the days of the week. If you have time, try it out in the below cell!"
   ]
  },
  {
   "cell_type": "code",
   "execution_count": 21,
   "metadata": {},
   "outputs": [
    {
     "data": {
      "text/plain": [
       "Ellipsis"
      ]
     },
     "execution_count": 21,
     "metadata": {},
     "output_type": "execute_result"
    }
   ],
   "source": [
    "# scratch space for optional challenge\n",
    "dow_df = pd.DataFrame(days, columns=[\"Day\"])\n",
    "\n",
    "..."
   ]
  },
  {
   "cell_type": "markdown",
   "metadata": {
    "deletable": false,
    "editable": false
   },
   "source": [
    "---\n",
    "## Question 2b\n",
    "\n",
    "Now let's look at the `EVENTTM` column which indicates the time for events. Since it contains hour and minute information, let's extract the hour info and create a new column named `Hour` in the `calls` dataframe. You should save the hour as an `int`.\n",
    "\n",
    "\n",
    "**Hint:** *Your code should only require one line*.<br/>\n",
    "**Hint 2:** The vectorized `Series.str[ind]` performs integer indexing on an array entry.\n",
    "\n",
    "<!--\n",
    "BEGIN QUESTION\n",
    "name: q2b\n",
    "-->"
   ]
  },
  {
   "cell_type": "code",
   "execution_count": 22,
   "metadata": {},
   "outputs": [
    {
     "data": {
      "text/plain": [
       "0       10\n",
       "1       10\n",
       "2       12\n",
       "3       17\n",
       "4        6\n",
       "        ..\n",
       "2627    12\n",
       "2628    15\n",
       "2629     0\n",
       "2630    18\n",
       "2631     2\n",
       "Name: Hour, Length: 2632, dtype: int64"
      ]
     },
     "execution_count": 22,
     "metadata": {},
     "output_type": "execute_result"
    }
   ],
   "source": [
    "calls[\"Hour\"] = calls[\"EVENTTM\"].str.split(\":\", expand=True)[0].astype(int)\n",
    "calls[\"Hour\"]"
   ]
  },
  {
   "cell_type": "code",
   "execution_count": 23,
   "metadata": {
    "deletable": false,
    "editable": false
   },
   "outputs": [
    {
     "data": {
      "text/html": [
       "<p><strong><pre style='display: inline;'>q2b</pre></strong> passed!</p>"
      ],
      "text/plain": [
       "q2b results: All test cases passed!"
      ]
     },
     "execution_count": 23,
     "metadata": {},
     "output_type": "execute_result"
    }
   ],
   "source": [
    "grader.check(\"q2b\")"
   ]
  },
  {
   "cell_type": "markdown",
   "metadata": {
    "deletable": false,
    "editable": false
   },
   "source": [
    "---\n",
    "## Question 2c\n",
    "\n",
    "Using `matplotlib`, construct a line plot with the count of the number of calls (entries in the table) for each hour of the day  **ordered by the time** (eg. `12:00 AM`, `1:00 AM`, ...). Please use the provided variable `hours` in your answer. Be sure that your axes are labeled and that your plot is titled.\n",
    "\n",
    "**Hint**: Check out the `plt.plot` method in the matplotlib [tutorial](https://matplotlib.org/stable/tutorials/introductory/pyplot.html#intro-to-pyplot), as well as our demo above.\n",
    "\n",
    "<!--\n",
    "BEGIN QUESTION\n",
    "name: q2c\n",
    "\n",
    "-->"
   ]
  },
  {
   "cell_type": "code",
   "execution_count": 24,
   "metadata": {
    "collapsed": false,
    "jupyter": {
     "outputs_hidden": false
    }
   },
   "outputs": [
    {
     "data": {
      "text/plain": [
       "Text(0.5, 0, 'Time')"
      ]
     },
     "execution_count": 24,
     "metadata": {},
     "output_type": "execute_result"
    },
    {
     "data": {
      "image/png": "[encoded data removed]",
      "text/plain": [
       "<Figure size 864x648 with 1 Axes>"
      ]
     },
     "metadata": {
      "needs_background": "light"
     },
     "output_type": "display_data"
    }
   ],
   "source": [
    "hours = list(range(24))\n",
    "\n",
    "countBy = calls.groupby('Hour').size()\n",
    "plt.plot(hours, countBy)\n",
    "\n",
    "\n",
    "#construct a line plot with the count of the number of calls (entries in the table) for each hour of the day ordered by the time\n",
    "\n",
    "# Leave this for grading purposes\n",
    "ax_3d = plt.gca()\n",
    "\n",
    "ax_3d.set_ylabel(\"Count\")\n",
    "ax_3d.set_xlabel(\"Time\")\n"
   ]
  },
  {
   "cell_type": "code",
   "execution_count": 25,
   "metadata": {
    "deletable": false,
    "editable": false
   },
   "outputs": [
    {
     "data": {
      "text/html": [
       "<p><strong><pre style='display: inline;'>q2c</pre></strong> passed!</p>"
      ],
      "text/plain": [
       "q2c results: All test cases passed!"
      ]
     },
     "execution_count": 25,
     "metadata": {},
     "output_type": "execute_result"
    }
   ],
   "source": [
    "grader.check(\"q2c\")"
   ]
  },
  {
   "cell_type": "markdown",
   "metadata": {},
   "source": [
    "\n",
    "\n",
    "To better understand the time of day a report occurs we could **stratify the analysis by the day of the week.**  To do this we will use **violin plots** (a variation of a **box plot**), which you will learn in more detail next week.\n",
    "\n",
    "For now, just know that a violin plot shows an estimated distribution of quantitative data (e.g., distribution of calls by hour) over a categorical variable (day of the week). More calls occur in hours corresponding to the fatter part of each violin; the median hour of all calls in a particular day is marked by the white dot in the corresponding violin."
   ]
  },
  {
   "cell_type": "code",
   "execution_count": 26,
   "metadata": {},
   "outputs": [
    {
     "data": {
      "image/png": "[encoded data removed]",
      "text/plain": [
       "<Figure size 864x648 with 1 Axes>"
      ]
     },
     "metadata": {
      "needs_background": "light"
     },
     "output_type": "display_data"
    }
   ],
   "source": [
    "# for now, just run this cell.\n",
    "# we will learn the seaborn visualization library next week.\n",
    "\n",
    "import seaborn as sns\n",
    "ax = sns.violinplot(data=calls.sort_values(\"CVDOW\"),\n",
    "                    x=\"Day\", y=\"Hour\",\n",
    "                    saturation=0.5, palette=\"Set2\")\n",
    "ax.set_title(\"Stratified Analysis of Phone Calls by Day\");"
   ]
  },
  {
   "cell_type": "markdown",
   "metadata": {
    "deletable": false,
    "editable": false
   },
   "source": [
    "---\n",
    "## Question 2d\n",
    "\n",
    "Based on your line plot and our violin plot above, what observations can you make about the patterns of calls? Here are some dimensions to consider:\n",
    "* Are there more calls in the day or at night?\n",
    "* What are the most and least popular times?\n",
    "* Do call patterns vary by day of the week?\n",
    "\n",
    "<!--\n",
    "BEGIN QUESTION\n",
    "name: q2d\n",
    "-->"
   ]
  },
  {
   "cell_type": "markdown",
   "metadata": {},
   "source": [
    "It looks like there is more phone calls during the day/afternoon hours than the early morning hours. The least popular times are hour 0 and the most popular times are hour 15. They are mostly the same every day of the week. "
   ]
  },
  {
   "cell_type": "markdown",
   "metadata": {},
   "source": [
    "<br/>\n",
    "<hr style=\"border: 1px solid #fdb515;\" />\n",
    "\n",
    "## Question 3\n",
    "In this last part of the lab, let's extract the GPS coordinates (latitude, longitude) from the `Block_Location` of each record."
   ]
  },
  {
   "cell_type": "code",
   "execution_count": 27,
   "metadata": {},
   "outputs": [
    {
     "data": {
      "text/plain": [
       "'2700 BLOCK GARBER ST\\nBerkeley, CA\\n(37.86066, -122.253407)'"
      ]
     },
     "execution_count": 27,
     "metadata": {},
     "output_type": "execute_result"
    }
   ],
   "source": [
    "# an example block location entry\n",
    "calls.loc[4, 'Block_Location']"
   ]
  },
  {
   "cell_type": "markdown",
   "metadata": {
    "deletable": false,
    "editable": false
   },
   "source": [
    "---\n",
    "## Question 3a: Regular Expressions\n",
    "\n",
    "\n",
    "Use regular expressions to create a dataframe `calls_lat_lon` that has two columns titled `Lat` and `Lon`, containing the respective latitude and longitude of each record in `calls`. You should use the `Block_Location` column to extract the latitude and longitude coordinates.\n",
    "\n",
    "**Hint**: Check out the `Series.str.extract` [documentation](https://pandas.pydata.org/pandas-docs/stable/reference/api/pandas.Series.str.extract.html?highlight=extract#pandas.Series.str.extract).\n",
    "\n",
    "\n",
    "<!--\n",
    "BEGIN QUESTION\n",
    "name: q3a\n",
    "-->"
   ]
  },
  {
   "cell_type": "code",
   "execution_count": 28,
   "metadata": {},
   "outputs": [
    {
     "data": {
      "text/html": [
       "<div>\n",
       "<style scoped>\n",
       "    .dataframe tbody tr th:only-of-type {\n",
       "        vertical-align: middle;\n",
       "    }\n",
       "\n",
       "    .dataframe tbody tr th {\n",
       "        vertical-align: top;\n",
       "    }\n",
       "\n",
       "    .dataframe thead th {\n",
       "        text-align: right;\n",
       "    }\n",
       "</style>\n",
       "<table border=\"1\" class=\"dataframe\">\n",
       "  <thead>\n",
       "    <tr style=\"text-align: right;\">\n",
       "      <th></th>\n",
       "      <th>CASENO</th>\n",
       "      <th>OFFENSE</th>\n",
       "      <th>EVENTDT</th>\n",
       "      <th>EVENTTM</th>\n",
       "      <th>CVLEGEND</th>\n",
       "      <th>CVDOW</th>\n",
       "      <th>InDbDate</th>\n",
       "      <th>Block_Location</th>\n",
       "      <th>BLKADDR</th>\n",
       "      <th>City</th>\n",
       "      <th>State</th>\n",
       "      <th>Day</th>\n",
       "      <th>Hour</th>\n",
       "    </tr>\n",
       "  </thead>\n",
       "  <tbody>\n",
       "    <tr>\n",
       "      <th>0</th>\n",
       "      <td>21014296</td>\n",
       "      <td>THEFT MISD. (UNDER $950)</td>\n",
       "      <td>04/01/2021 12:00:00 AM</td>\n",
       "      <td>10:58</td>\n",
       "      <td>LARCENY</td>\n",
       "      <td>4</td>\n",
       "      <td>06/15/2021 12:00:00 AM</td>\n",
       "      <td>Berkeley, CA\\n(37.869058, -122.270455)</td>\n",
       "      <td>NaN</td>\n",
       "      <td>Berkeley</td>\n",
       "      <td>CA</td>\n",
       "      <td>Thursday</td>\n",
       "      <td>10</td>\n",
       "    </tr>\n",
       "    <tr>\n",
       "      <th>1</th>\n",
       "      <td>21014391</td>\n",
       "      <td>THEFT MISD. (UNDER $950)</td>\n",
       "      <td>04/01/2021 12:00:00 AM</td>\n",
       "      <td>10:38</td>\n",
       "      <td>LARCENY</td>\n",
       "      <td>4</td>\n",
       "      <td>06/15/2021 12:00:00 AM</td>\n",
       "      <td>Berkeley, CA\\n(37.869058, -122.270455)</td>\n",
       "      <td>NaN</td>\n",
       "      <td>Berkeley</td>\n",
       "      <td>CA</td>\n",
       "      <td>Thursday</td>\n",
       "      <td>10</td>\n",
       "    </tr>\n",
       "    <tr>\n",
       "      <th>2</th>\n",
       "      <td>21090494</td>\n",
       "      <td>THEFT MISD. (UNDER $950)</td>\n",
       "      <td>04/19/2021 12:00:00 AM</td>\n",
       "      <td>12:15</td>\n",
       "      <td>LARCENY</td>\n",
       "      <td>1</td>\n",
       "      <td>06/15/2021 12:00:00 AM</td>\n",
       "      <td>2100 BLOCK HASTE ST\\nBerkeley, CA\\n(37.864908,...</td>\n",
       "      <td>2100 BLOCK HASTE ST</td>\n",
       "      <td>Berkeley</td>\n",
       "      <td>CA</td>\n",
       "      <td>Monday</td>\n",
       "      <td>12</td>\n",
       "    </tr>\n",
       "    <tr>\n",
       "      <th>3</th>\n",
       "      <td>21090204</td>\n",
       "      <td>THEFT FELONY (OVER $950)</td>\n",
       "      <td>02/13/2021 12:00:00 AM</td>\n",
       "      <td>17:00</td>\n",
       "      <td>LARCENY</td>\n",
       "      <td>6</td>\n",
       "      <td>06/15/2021 12:00:00 AM</td>\n",
       "      <td>2600 BLOCK WARRING ST\\nBerkeley, CA\\n(37.86393...</td>\n",
       "      <td>2600 BLOCK WARRING ST</td>\n",
       "      <td>Berkeley</td>\n",
       "      <td>CA</td>\n",
       "      <td>Saturday</td>\n",
       "      <td>17</td>\n",
       "    </tr>\n",
       "    <tr>\n",
       "      <th>4</th>\n",
       "      <td>21090179</td>\n",
       "      <td>BURGLARY AUTO</td>\n",
       "      <td>02/08/2021 12:00:00 AM</td>\n",
       "      <td>6:20</td>\n",
       "      <td>BURGLARY - VEHICLE</td>\n",
       "      <td>1</td>\n",
       "      <td>06/15/2021 12:00:00 AM</td>\n",
       "      <td>2700 BLOCK GARBER ST\\nBerkeley, CA\\n(37.86066,...</td>\n",
       "      <td>2700 BLOCK GARBER ST</td>\n",
       "      <td>Berkeley</td>\n",
       "      <td>CA</td>\n",
       "      <td>Monday</td>\n",
       "      <td>6</td>\n",
       "    </tr>\n",
       "    <tr>\n",
       "      <th>...</th>\n",
       "      <td>...</td>\n",
       "      <td>...</td>\n",
       "      <td>...</td>\n",
       "      <td>...</td>\n",
       "      <td>...</td>\n",
       "      <td>...</td>\n",
       "      <td>...</td>\n",
       "      <td>...</td>\n",
       "      <td>...</td>\n",
       "      <td>...</td>\n",
       "      <td>...</td>\n",
       "      <td>...</td>\n",
       "      <td>...</td>\n",
       "    </tr>\n",
       "    <tr>\n",
       "      <th>2627</th>\n",
       "      <td>20058742</td>\n",
       "      <td>BURGLARY RESIDENTIAL</td>\n",
       "      <td>12/21/2020 12:00:00 AM</td>\n",
       "      <td>12:45</td>\n",
       "      <td>BURGLARY - RESIDENTIAL</td>\n",
       "      <td>1</td>\n",
       "      <td>06/15/2021 12:00:00 AM</td>\n",
       "      <td>1300 BLOCK UNIVERSITY AVE\\nBerkeley, CA\\n(37.8...</td>\n",
       "      <td>1300 BLOCK UNIVERSITY AVE</td>\n",
       "      <td>Berkeley</td>\n",
       "      <td>CA</td>\n",
       "      <td>Monday</td>\n",
       "      <td>12</td>\n",
       "    </tr>\n",
       "    <tr>\n",
       "      <th>2628</th>\n",
       "      <td>21008017</td>\n",
       "      <td>BRANDISHING</td>\n",
       "      <td>02/24/2021 12:00:00 AM</td>\n",
       "      <td>15:06</td>\n",
       "      <td>WEAPONS OFFENSE</td>\n",
       "      <td>3</td>\n",
       "      <td>06/15/2021 12:00:00 AM</td>\n",
       "      <td>100 BLOCK SEAWALL DR\\nBerkeley, CA\\n(37.863611...</td>\n",
       "      <td>100 BLOCK SEAWALL DR</td>\n",
       "      <td>Berkeley</td>\n",
       "      <td>CA</td>\n",
       "      <td>Wednesday</td>\n",
       "      <td>15</td>\n",
       "    </tr>\n",
       "    <tr>\n",
       "      <th>2629</th>\n",
       "      <td>21013239</td>\n",
       "      <td>THEFT FELONY (OVER $950)</td>\n",
       "      <td>03/24/2021 12:00:00 AM</td>\n",
       "      <td>0:00</td>\n",
       "      <td>LARCENY</td>\n",
       "      <td>3</td>\n",
       "      <td>06/15/2021 12:00:00 AM</td>\n",
       "      <td>2800 BLOCK HILLEGASS AVE\\nBerkeley, CA\\n(37.85...</td>\n",
       "      <td>2800 BLOCK HILLEGASS AVE</td>\n",
       "      <td>Berkeley</td>\n",
       "      <td>CA</td>\n",
       "      <td>Wednesday</td>\n",
       "      <td>0</td>\n",
       "    </tr>\n",
       "    <tr>\n",
       "      <th>2630</th>\n",
       "      <td>21018143</td>\n",
       "      <td>THEFT MISD. (UNDER $950)</td>\n",
       "      <td>04/24/2021 12:00:00 AM</td>\n",
       "      <td>18:35</td>\n",
       "      <td>LARCENY</td>\n",
       "      <td>6</td>\n",
       "      <td>06/15/2021 12:00:00 AM</td>\n",
       "      <td>2500 BLOCK TELEGRAPH AVE\\nBerkeley, CA\\n(37.86...</td>\n",
       "      <td>2500 BLOCK TELEGRAPH AVE</td>\n",
       "      <td>Berkeley</td>\n",
       "      <td>CA</td>\n",
       "      <td>Saturday</td>\n",
       "      <td>18</td>\n",
       "    </tr>\n",
       "    <tr>\n",
       "      <th>2631</th>\n",
       "      <td>21090258</td>\n",
       "      <td>BURGLARY AUTO</td>\n",
       "      <td>02/26/2021 12:00:00 AM</td>\n",
       "      <td>2:00</td>\n",
       "      <td>BURGLARY - VEHICLE</td>\n",
       "      <td>5</td>\n",
       "      <td>06/15/2021 12:00:00 AM</td>\n",
       "      <td>Berkeley, CA\\n(37.869058, -122.270455)</td>\n",
       "      <td>NaN</td>\n",
       "      <td>Berkeley</td>\n",
       "      <td>CA</td>\n",
       "      <td>Friday</td>\n",
       "      <td>2</td>\n",
       "    </tr>\n",
       "  </tbody>\n",
       "</table>\n",
       "<p>2632 rows × 13 columns</p>\n",
       "</div>"
      ],
      "text/plain": [
       "        CASENO                   OFFENSE                 EVENTDT EVENTTM  \\\n",
       "0     21014296  THEFT MISD. (UNDER $950)  04/01/2021 12:00:00 AM   10:58   \n",
       "1     21014391  THEFT MISD. (UNDER $950)  04/01/2021 12:00:00 AM   10:38   \n",
       "2     21090494  THEFT MISD. (UNDER $950)  04/19/2021 12:00:00 AM   12:15   \n",
       "3     21090204  THEFT FELONY (OVER $950)  02/13/2021 12:00:00 AM   17:00   \n",
       "4     21090179             BURGLARY AUTO  02/08/2021 12:00:00 AM    6:20   \n",
       "...        ...                       ...                     ...     ...   \n",
       "2627  20058742      BURGLARY RESIDENTIAL  12/21/2020 12:00:00 AM   12:45   \n",
       "2628  21008017               BRANDISHING  02/24/2021 12:00:00 AM   15:06   \n",
       "2629  21013239  THEFT FELONY (OVER $950)  03/24/2021 12:00:00 AM    0:00   \n",
       "2630  21018143  THEFT MISD. (UNDER $950)  04/24/2021 12:00:00 AM   18:35   \n",
       "2631  21090258             BURGLARY AUTO  02/26/2021 12:00:00 AM    2:00   \n",
       "\n",
       "                    CVLEGEND  CVDOW                InDbDate  \\\n",
       "0                    LARCENY      4  06/15/2021 12:00:00 AM   \n",
       "1                    LARCENY      4  06/15/2021 12:00:00 AM   \n",
       "2                    LARCENY      1  06/15/2021 12:00:00 AM   \n",
       "3                    LARCENY      6  06/15/2021 12:00:00 AM   \n",
       "4         BURGLARY - VEHICLE      1  06/15/2021 12:00:00 AM   \n",
       "...                      ...    ...                     ...   \n",
       "2627  BURGLARY - RESIDENTIAL      1  06/15/2021 12:00:00 AM   \n",
       "2628         WEAPONS OFFENSE      3  06/15/2021 12:00:00 AM   \n",
       "2629                 LARCENY      3  06/15/2021 12:00:00 AM   \n",
       "2630                 LARCENY      6  06/15/2021 12:00:00 AM   \n",
       "2631      BURGLARY - VEHICLE      5  06/15/2021 12:00:00 AM   \n",
       "\n",
       "                                         Block_Location  \\\n",
       "0                Berkeley, CA\\n(37.869058, -122.270455)   \n",
       "1                Berkeley, CA\\n(37.869058, -122.270455)   \n",
       "2     2100 BLOCK HASTE ST\\nBerkeley, CA\\n(37.864908,...   \n",
       "3     2600 BLOCK WARRING ST\\nBerkeley, CA\\n(37.86393...   \n",
       "4     2700 BLOCK GARBER ST\\nBerkeley, CA\\n(37.86066,...   \n",
       "...                                                 ...   \n",
       "2627  1300 BLOCK UNIVERSITY AVE\\nBerkeley, CA\\n(37.8...   \n",
       "2628  100 BLOCK SEAWALL DR\\nBerkeley, CA\\n(37.863611...   \n",
       "2629  2800 BLOCK HILLEGASS AVE\\nBerkeley, CA\\n(37.85...   \n",
       "2630  2500 BLOCK TELEGRAPH AVE\\nBerkeley, CA\\n(37.86...   \n",
       "2631             Berkeley, CA\\n(37.869058, -122.270455)   \n",
       "\n",
       "                        BLKADDR      City State        Day  Hour  \n",
       "0                           NaN  Berkeley    CA   Thursday    10  \n",
       "1                           NaN  Berkeley    CA   Thursday    10  \n",
       "2           2100 BLOCK HASTE ST  Berkeley    CA     Monday    12  \n",
       "3         2600 BLOCK WARRING ST  Berkeley    CA   Saturday    17  \n",
       "4          2700 BLOCK GARBER ST  Berkeley    CA     Monday     6  \n",
       "...                         ...       ...   ...        ...   ...  \n",
       "2627  1300 BLOCK UNIVERSITY AVE  Berkeley    CA     Monday    12  \n",
       "2628       100 BLOCK SEAWALL DR  Berkeley    CA  Wednesday    15  \n",
       "2629   2800 BLOCK HILLEGASS AVE  Berkeley    CA  Wednesday     0  \n",
       "2630   2500 BLOCK TELEGRAPH AVE  Berkeley    CA   Saturday    18  \n",
       "2631                        NaN  Berkeley    CA     Friday     2  \n",
       "\n",
       "[2632 rows x 13 columns]"
      ]
     },
     "execution_count": 28,
     "metadata": {},
     "output_type": "execute_result"
    }
   ],
   "source": [
    "calls"
   ]
  },
  {
   "cell_type": "code",
   "execution_count": 29,
   "metadata": {},
   "outputs": [
    {
     "data": {
      "text/html": [
       "<div>\n",
       "<style scoped>\n",
       "    .dataframe tbody tr th:only-of-type {\n",
       "        vertical-align: middle;\n",
       "    }\n",
       "\n",
       "    .dataframe tbody tr th {\n",
       "        vertical-align: top;\n",
       "    }\n",
       "\n",
       "    .dataframe thead th {\n",
       "        text-align: right;\n",
       "    }\n",
       "</style>\n",
       "<table border=\"1\" class=\"dataframe\">\n",
       "  <thead>\n",
       "    <tr style=\"text-align: right;\">\n",
       "      <th></th>\n",
       "      <th>Lat</th>\n",
       "      <th>Lon</th>\n",
       "    </tr>\n",
       "  </thead>\n",
       "  <tbody>\n",
       "    <tr>\n",
       "      <th>0</th>\n",
       "      <td>37.869058</td>\n",
       "      <td>-122.270455</td>\n",
       "    </tr>\n",
       "    <tr>\n",
       "      <th>1</th>\n",
       "      <td>37.869058</td>\n",
       "      <td>-122.270455</td>\n",
       "    </tr>\n",
       "    <tr>\n",
       "      <th>2</th>\n",
       "      <td>37.864908</td>\n",
       "      <td>-122.267289</td>\n",
       "    </tr>\n",
       "    <tr>\n",
       "      <th>3</th>\n",
       "      <td>37.863934</td>\n",
       "      <td>-122.250262</td>\n",
       "    </tr>\n",
       "    <tr>\n",
       "      <th>4</th>\n",
       "      <td>37.86066</td>\n",
       "      <td>-122.253407</td>\n",
       "    </tr>\n",
       "    <tr>\n",
       "      <th>5</th>\n",
       "      <td>37.881957</td>\n",
       "      <td>-122.269551</td>\n",
       "    </tr>\n",
       "    <tr>\n",
       "      <th>6</th>\n",
       "      <td>37.867426</td>\n",
       "      <td>-122.269138</td>\n",
       "    </tr>\n",
       "    <tr>\n",
       "      <th>7</th>\n",
       "      <td>37.858116</td>\n",
       "      <td>-122.268002</td>\n",
       "    </tr>\n",
       "    <tr>\n",
       "      <th>8</th>\n",
       "      <td>37.868355</td>\n",
       "      <td>-122.274953</td>\n",
       "    </tr>\n",
       "    <tr>\n",
       "      <th>9</th>\n",
       "      <td>37.851491</td>\n",
       "      <td>-122.28563</td>\n",
       "    </tr>\n",
       "  </tbody>\n",
       "</table>\n",
       "</div>"
      ],
      "text/plain": [
       "         Lat          Lon\n",
       "0  37.869058  -122.270455\n",
       "1  37.869058  -122.270455\n",
       "2  37.864908  -122.267289\n",
       "3  37.863934  -122.250262\n",
       "4   37.86066  -122.253407\n",
       "5  37.881957  -122.269551\n",
       "6  37.867426  -122.269138\n",
       "7  37.858116  -122.268002\n",
       "8  37.868355  -122.274953\n",
       "9  37.851491   -122.28563"
      ]
     },
     "execution_count": 29,
     "metadata": {},
     "output_type": "execute_result"
    }
   ],
   "source": [
    "import re\n",
    "#calls_lat_lon = pd.DataFrame({\"Lat\", \"Lon\"})\n",
    "#sr = re.findall(pattern, calls['Block_Location'])\n",
    "calls_lat_lon = calls['Block_Location'].str.extract(\"\\((\\d*\\.\\d*)\\, (\\-*\\d*\\.\\d*)\\)\",expand=True)\n",
    "calls_lat_lon = calls_lat_lon.rename(columns={0: 'Lat', 1: 'Lon'})\n",
    "calls_lat_lon.head(10)"
   ]
  },
  {
   "cell_type": "code",
   "execution_count": 30,
   "metadata": {
    "deletable": false,
    "editable": false
   },
   "outputs": [
    {
     "data": {
      "text/html": [
       "<p><strong><pre style='display: inline;'>q3a</pre></strong> passed!</p>"
      ],
      "text/plain": [
       "q3a results: All test cases passed!"
      ]
     },
     "execution_count": 30,
     "metadata": {},
     "output_type": "execute_result"
    }
   ],
   "source": [
    "grader.check(\"q3a\")"
   ]
  },
  {
   "cell_type": "markdown",
   "metadata": {
    "deletable": false,
    "editable": false
   },
   "source": [
    "---\n",
    "\n",
    "## Question 3b: Join Tables\n",
    "\n",
    "Let's include the GPS data into our `calls` data. In the below cell, use `calls_lat_lon` to add two new columns called `Lat` and `Lon` to the `calls` dataframe.\n",
    "\n",
    "**Hint**: `pd.merge` ([documentation](https://pandas.pydata.org/pandas-docs/stable/reference/api/pandas.DataFrame.merge.html?highlight=merge#pandas.DataFrame.merge)) could be useful here. Note that the order of records in `calls` and `calls_lat_lon` are the same.\n",
    "\n",
    "<!--\n",
    "BEGIN QUESTION\n",
    "name: q3b\n",
    "-->"
   ]
  },
  {
   "cell_type": "code",
   "execution_count": 31,
   "metadata": {
    "scrolled": true
   },
   "outputs": [
    {
     "data": {
      "text/html": [
       "<div>\n",
       "<style scoped>\n",
       "    .dataframe tbody tr th:only-of-type {\n",
       "        vertical-align: middle;\n",
       "    }\n",
       "\n",
       "    .dataframe tbody tr th {\n",
       "        vertical-align: top;\n",
       "    }\n",
       "\n",
       "    .dataframe thead th {\n",
       "        text-align: right;\n",
       "    }\n",
       "</style>\n",
       "<table border=\"1\" class=\"dataframe\">\n",
       "  <thead>\n",
       "    <tr style=\"text-align: right;\">\n",
       "      <th></th>\n",
       "      <th>CASENO</th>\n",
       "      <th>OFFENSE</th>\n",
       "      <th>EVENTDT</th>\n",
       "      <th>EVENTTM</th>\n",
       "      <th>CVLEGEND</th>\n",
       "      <th>CVDOW</th>\n",
       "      <th>InDbDate</th>\n",
       "      <th>Block_Location</th>\n",
       "      <th>BLKADDR</th>\n",
       "      <th>City</th>\n",
       "      <th>State</th>\n",
       "      <th>Day</th>\n",
       "      <th>Hour</th>\n",
       "      <th>Lat</th>\n",
       "      <th>Lon</th>\n",
       "    </tr>\n",
       "  </thead>\n",
       "  <tbody>\n",
       "    <tr>\n",
       "      <th>1920</th>\n",
       "      <td>21002561</td>\n",
       "      <td>THEFT MISD. (UNDER $950)</td>\n",
       "      <td>01/19/2021 12:00:00 AM</td>\n",
       "      <td>19:21</td>\n",
       "      <td>LARCENY</td>\n",
       "      <td>2</td>\n",
       "      <td>06/15/2021 12:00:00 AM</td>\n",
       "      <td>2000 BLOCK SAN PABLO AVE\\nBerkeley, CA\\n(37.86...</td>\n",
       "      <td>2000 BLOCK SAN PABLO AVE</td>\n",
       "      <td>Berkeley</td>\n",
       "      <td>CA</td>\n",
       "      <td>Tuesday</td>\n",
       "      <td>19</td>\n",
       "      <td>37.868815</td>\n",
       "      <td>-122.292131</td>\n",
       "    </tr>\n",
       "    <tr>\n",
       "      <th>2247</th>\n",
       "      <td>21010184</td>\n",
       "      <td>THEFT MISD. (UNDER $950)</td>\n",
       "      <td>03/08/2021 12:00:00 AM</td>\n",
       "      <td>16:10</td>\n",
       "      <td>LARCENY</td>\n",
       "      <td>1</td>\n",
       "      <td>06/15/2021 12:00:00 AM</td>\n",
       "      <td>2300 SHATTUCK AVE\\nBerkeley, CA\\n(37.867176, -...</td>\n",
       "      <td>2300 SHATTUCK AVE</td>\n",
       "      <td>Berkeley</td>\n",
       "      <td>CA</td>\n",
       "      <td>Monday</td>\n",
       "      <td>16</td>\n",
       "      <td>37.867176</td>\n",
       "      <td>-122.267802</td>\n",
       "    </tr>\n",
       "    <tr>\n",
       "      <th>1716</th>\n",
       "      <td>21021007</td>\n",
       "      <td>ASSAULT/BATTERY MISD.</td>\n",
       "      <td>05/12/2021 12:00:00 AM</td>\n",
       "      <td>7:20</td>\n",
       "      <td>ASSAULT</td>\n",
       "      <td>3</td>\n",
       "      <td>06/15/2021 12:00:00 AM</td>\n",
       "      <td>1600 BLOCK SPRUCE ST\\nBerkeley, CA\\n(37.878864...</td>\n",
       "      <td>1600 BLOCK SPRUCE ST</td>\n",
       "      <td>Berkeley</td>\n",
       "      <td>CA</td>\n",
       "      <td>Wednesday</td>\n",
       "      <td>7</td>\n",
       "      <td>37.878864</td>\n",
       "      <td>-122.265718</td>\n",
       "    </tr>\n",
       "    <tr>\n",
       "      <th>1282</th>\n",
       "      <td>21090473</td>\n",
       "      <td>BURGLARY AUTO</td>\n",
       "      <td>04/22/2021 12:00:00 AM</td>\n",
       "      <td>22:30</td>\n",
       "      <td>BURGLARY - VEHICLE</td>\n",
       "      <td>4</td>\n",
       "      <td>06/15/2021 12:00:00 AM</td>\n",
       "      <td>2300 BLOCK DERBY ST\\nBerkeley, CA\\n(37.860993,...</td>\n",
       "      <td>2300 BLOCK DERBY ST</td>\n",
       "      <td>Berkeley</td>\n",
       "      <td>CA</td>\n",
       "      <td>Thursday</td>\n",
       "      <td>22</td>\n",
       "      <td>37.860993</td>\n",
       "      <td>-122.262104</td>\n",
       "    </tr>\n",
       "    <tr>\n",
       "      <th>1083</th>\n",
       "      <td>21090331</td>\n",
       "      <td>BURGLARY AUTO</td>\n",
       "      <td>03/10/2021 12:00:00 AM</td>\n",
       "      <td>14:35</td>\n",
       "      <td>BURGLARY - VEHICLE</td>\n",
       "      <td>3</td>\n",
       "      <td>06/15/2021 12:00:00 AM</td>\n",
       "      <td>2900 BLOCK FLORENCE ST\\nBerkeley, CA\\n(37.8577...</td>\n",
       "      <td>2900 BLOCK FLORENCE ST</td>\n",
       "      <td>Berkeley</td>\n",
       "      <td>CA</td>\n",
       "      <td>Wednesday</td>\n",
       "      <td>14</td>\n",
       "      <td>37.857792</td>\n",
       "      <td>-122.258537</td>\n",
       "    </tr>\n",
       "  </tbody>\n",
       "</table>\n",
       "</div>"
      ],
      "text/plain": [
       "        CASENO                   OFFENSE                 EVENTDT EVENTTM  \\\n",
       "1920  21002561  THEFT MISD. (UNDER $950)  01/19/2021 12:00:00 AM   19:21   \n",
       "2247  21010184  THEFT MISD. (UNDER $950)  03/08/2021 12:00:00 AM   16:10   \n",
       "1716  21021007     ASSAULT/BATTERY MISD.  05/12/2021 12:00:00 AM    7:20   \n",
       "1282  21090473             BURGLARY AUTO  04/22/2021 12:00:00 AM   22:30   \n",
       "1083  21090331             BURGLARY AUTO  03/10/2021 12:00:00 AM   14:35   \n",
       "\n",
       "                CVLEGEND  CVDOW                InDbDate  \\\n",
       "1920             LARCENY      2  06/15/2021 12:00:00 AM   \n",
       "2247             LARCENY      1  06/15/2021 12:00:00 AM   \n",
       "1716             ASSAULT      3  06/15/2021 12:00:00 AM   \n",
       "1282  BURGLARY - VEHICLE      4  06/15/2021 12:00:00 AM   \n",
       "1083  BURGLARY - VEHICLE      3  06/15/2021 12:00:00 AM   \n",
       "\n",
       "                                         Block_Location  \\\n",
       "1920  2000 BLOCK SAN PABLO AVE\\nBerkeley, CA\\n(37.86...   \n",
       "2247  2300 SHATTUCK AVE\\nBerkeley, CA\\n(37.867176, -...   \n",
       "1716  1600 BLOCK SPRUCE ST\\nBerkeley, CA\\n(37.878864...   \n",
       "1282  2300 BLOCK DERBY ST\\nBerkeley, CA\\n(37.860993,...   \n",
       "1083  2900 BLOCK FLORENCE ST\\nBerkeley, CA\\n(37.8577...   \n",
       "\n",
       "                       BLKADDR      City State        Day  Hour        Lat  \\\n",
       "1920  2000 BLOCK SAN PABLO AVE  Berkeley    CA    Tuesday    19  37.868815   \n",
       "2247         2300 SHATTUCK AVE  Berkeley    CA     Monday    16  37.867176   \n",
       "1716      1600 BLOCK SPRUCE ST  Berkeley    CA  Wednesday     7  37.878864   \n",
       "1282       2300 BLOCK DERBY ST  Berkeley    CA   Thursday    22  37.860993   \n",
       "1083    2900 BLOCK FLORENCE ST  Berkeley    CA  Wednesday    14  37.857792   \n",
       "\n",
       "              Lon  \n",
       "1920  -122.292131  \n",
       "2247  -122.267802  \n",
       "1716  -122.265718  \n",
       "1282  -122.262104  \n",
       "1083  -122.258537  "
      ]
     },
     "execution_count": 31,
     "metadata": {},
     "output_type": "execute_result"
    }
   ],
   "source": [
    "calls.drop([\"Lat\", \"Lon\"], axis=1, inplace=True, errors=\"ignore\")\n",
    "calls = calls.join(calls_lat_lon)\n",
    "calls.sample(5)      # random rows"
   ]
  },
  {
   "cell_type": "code",
   "execution_count": 32,
   "metadata": {
    "deletable": false,
    "editable": false
   },
   "outputs": [
    {
     "data": {
      "text/html": [
       "<p><strong><pre style='display: inline;'>q3b</pre></strong> passed!</p>"
      ],
      "text/plain": [
       "q3b results: All test cases passed!"
      ]
     },
     "execution_count": 32,
     "metadata": {},
     "output_type": "execute_result"
    }
   ],
   "source": [
    "grader.check(\"q3b\")"
   ]
  },
  {
   "cell_type": "markdown",
   "metadata": {},
   "source": [
    "---\n",
    "## Question 3c: Check for Missing Values\n",
    "\n",
    "It seems like every record has valid GPS coordinates:"
   ]
  },
  {
   "cell_type": "code",
   "execution_count": 33,
   "metadata": {},
   "outputs": [
    {
     "data": {
      "text/plain": [
       "Lat    1.0\n",
       "Lon    1.0\n",
       "dtype: float64"
      ]
     },
     "execution_count": 33,
     "metadata": {},
     "output_type": "execute_result"
    }
   ],
   "source": [
    "# just run this cell\n",
    "# fraction of valid lat/lon entries\n",
    "(~calls[[\"Lat\", \"Lon\"]].isna()).mean()"
   ]
  },
  {
   "cell_type": "markdown",
   "metadata": {},
   "source": [
    "However, a closer examination of the data reveals something else. Here's the first few records of our data again:"
   ]
  },
  {
   "cell_type": "code",
   "execution_count": 34,
   "metadata": {
    "scrolled": true
   },
   "outputs": [
    {
     "data": {
      "text/html": [
       "<div>\n",
       "<style scoped>\n",
       "    .dataframe tbody tr th:only-of-type {\n",
       "        vertical-align: middle;\n",
       "    }\n",
       "\n",
       "    .dataframe tbody tr th {\n",
       "        vertical-align: top;\n",
       "    }\n",
       "\n",
       "    .dataframe thead th {\n",
       "        text-align: right;\n",
       "    }\n",
       "</style>\n",
       "<table border=\"1\" class=\"dataframe\">\n",
       "  <thead>\n",
       "    <tr style=\"text-align: right;\">\n",
       "      <th></th>\n",
       "      <th>CASENO</th>\n",
       "      <th>OFFENSE</th>\n",
       "      <th>EVENTDT</th>\n",
       "      <th>EVENTTM</th>\n",
       "      <th>CVLEGEND</th>\n",
       "      <th>CVDOW</th>\n",
       "      <th>InDbDate</th>\n",
       "      <th>Block_Location</th>\n",
       "      <th>BLKADDR</th>\n",
       "      <th>City</th>\n",
       "      <th>State</th>\n",
       "      <th>Day</th>\n",
       "      <th>Hour</th>\n",
       "      <th>Lat</th>\n",
       "      <th>Lon</th>\n",
       "    </tr>\n",
       "  </thead>\n",
       "  <tbody>\n",
       "    <tr>\n",
       "      <th>0</th>\n",
       "      <td>21014296</td>\n",
       "      <td>THEFT MISD. (UNDER $950)</td>\n",
       "      <td>04/01/2021 12:00:00 AM</td>\n",
       "      <td>10:58</td>\n",
       "      <td>LARCENY</td>\n",
       "      <td>4</td>\n",
       "      <td>06/15/2021 12:00:00 AM</td>\n",
       "      <td>Berkeley, CA\\n(37.869058, -122.270455)</td>\n",
       "      <td>NaN</td>\n",
       "      <td>Berkeley</td>\n",
       "      <td>CA</td>\n",
       "      <td>Thursday</td>\n",
       "      <td>10</td>\n",
       "      <td>37.869058</td>\n",
       "      <td>-122.270455</td>\n",
       "    </tr>\n",
       "    <tr>\n",
       "      <th>1</th>\n",
       "      <td>21014391</td>\n",
       "      <td>THEFT MISD. (UNDER $950)</td>\n",
       "      <td>04/01/2021 12:00:00 AM</td>\n",
       "      <td>10:38</td>\n",
       "      <td>LARCENY</td>\n",
       "      <td>4</td>\n",
       "      <td>06/15/2021 12:00:00 AM</td>\n",
       "      <td>Berkeley, CA\\n(37.869058, -122.270455)</td>\n",
       "      <td>NaN</td>\n",
       "      <td>Berkeley</td>\n",
       "      <td>CA</td>\n",
       "      <td>Thursday</td>\n",
       "      <td>10</td>\n",
       "      <td>37.869058</td>\n",
       "      <td>-122.270455</td>\n",
       "    </tr>\n",
       "    <tr>\n",
       "      <th>2</th>\n",
       "      <td>21090494</td>\n",
       "      <td>THEFT MISD. (UNDER $950)</td>\n",
       "      <td>04/19/2021 12:00:00 AM</td>\n",
       "      <td>12:15</td>\n",
       "      <td>LARCENY</td>\n",
       "      <td>1</td>\n",
       "      <td>06/15/2021 12:00:00 AM</td>\n",
       "      <td>2100 BLOCK HASTE ST\\nBerkeley, CA\\n(37.864908,...</td>\n",
       "      <td>2100 BLOCK HASTE ST</td>\n",
       "      <td>Berkeley</td>\n",
       "      <td>CA</td>\n",
       "      <td>Monday</td>\n",
       "      <td>12</td>\n",
       "      <td>37.864908</td>\n",
       "      <td>-122.267289</td>\n",
       "    </tr>\n",
       "    <tr>\n",
       "      <th>3</th>\n",
       "      <td>21090204</td>\n",
       "      <td>THEFT FELONY (OVER $950)</td>\n",
       "      <td>02/13/2021 12:00:00 AM</td>\n",
       "      <td>17:00</td>\n",
       "      <td>LARCENY</td>\n",
       "      <td>6</td>\n",
       "      <td>06/15/2021 12:00:00 AM</td>\n",
       "      <td>2600 BLOCK WARRING ST\\nBerkeley, CA\\n(37.86393...</td>\n",
       "      <td>2600 BLOCK WARRING ST</td>\n",
       "      <td>Berkeley</td>\n",
       "      <td>CA</td>\n",
       "      <td>Saturday</td>\n",
       "      <td>17</td>\n",
       "      <td>37.863934</td>\n",
       "      <td>-122.250262</td>\n",
       "    </tr>\n",
       "    <tr>\n",
       "      <th>4</th>\n",
       "      <td>21090179</td>\n",
       "      <td>BURGLARY AUTO</td>\n",
       "      <td>02/08/2021 12:00:00 AM</td>\n",
       "      <td>6:20</td>\n",
       "      <td>BURGLARY - VEHICLE</td>\n",
       "      <td>1</td>\n",
       "      <td>06/15/2021 12:00:00 AM</td>\n",
       "      <td>2700 BLOCK GARBER ST\\nBerkeley, CA\\n(37.86066,...</td>\n",
       "      <td>2700 BLOCK GARBER ST</td>\n",
       "      <td>Berkeley</td>\n",
       "      <td>CA</td>\n",
       "      <td>Monday</td>\n",
       "      <td>6</td>\n",
       "      <td>37.86066</td>\n",
       "      <td>-122.253407</td>\n",
       "    </tr>\n",
       "  </tbody>\n",
       "</table>\n",
       "</div>"
      ],
      "text/plain": [
       "     CASENO                   OFFENSE                 EVENTDT EVENTTM  \\\n",
       "0  21014296  THEFT MISD. (UNDER $950)  04/01/2021 12:00:00 AM   10:58   \n",
       "1  21014391  THEFT MISD. (UNDER $950)  04/01/2021 12:00:00 AM   10:38   \n",
       "2  21090494  THEFT MISD. (UNDER $950)  04/19/2021 12:00:00 AM   12:15   \n",
       "3  21090204  THEFT FELONY (OVER $950)  02/13/2021 12:00:00 AM   17:00   \n",
       "4  21090179             BURGLARY AUTO  02/08/2021 12:00:00 AM    6:20   \n",
       "\n",
       "             CVLEGEND  CVDOW                InDbDate  \\\n",
       "0             LARCENY      4  06/15/2021 12:00:00 AM   \n",
       "1             LARCENY      4  06/15/2021 12:00:00 AM   \n",
       "2             LARCENY      1  06/15/2021 12:00:00 AM   \n",
       "3             LARCENY      6  06/15/2021 12:00:00 AM   \n",
       "4  BURGLARY - VEHICLE      1  06/15/2021 12:00:00 AM   \n",
       "\n",
       "                                      Block_Location                BLKADDR  \\\n",
       "0             Berkeley, CA\\n(37.869058, -122.270455)                    NaN   \n",
       "1             Berkeley, CA\\n(37.869058, -122.270455)                    NaN   \n",
       "2  2100 BLOCK HASTE ST\\nBerkeley, CA\\n(37.864908,...    2100 BLOCK HASTE ST   \n",
       "3  2600 BLOCK WARRING ST\\nBerkeley, CA\\n(37.86393...  2600 BLOCK WARRING ST   \n",
       "4  2700 BLOCK GARBER ST\\nBerkeley, CA\\n(37.86066,...   2700 BLOCK GARBER ST   \n",
       "\n",
       "       City State       Day  Hour        Lat          Lon  \n",
       "0  Berkeley    CA  Thursday    10  37.869058  -122.270455  \n",
       "1  Berkeley    CA  Thursday    10  37.869058  -122.270455  \n",
       "2  Berkeley    CA    Monday    12  37.864908  -122.267289  \n",
       "3  Berkeley    CA  Saturday    17  37.863934  -122.250262  \n",
       "4  Berkeley    CA    Monday     6   37.86066  -122.253407  "
      ]
     },
     "execution_count": 34,
     "metadata": {},
     "output_type": "execute_result"
    }
   ],
   "source": [
    "calls.head(5)"
   ]
  },
  {
   "cell_type": "markdown",
   "metadata": {
    "deletable": false,
    "editable": false
   },
   "source": [
    "There is another field that tells us whether we have a valid `Block_Location` entry per record---i.e., with GPS coordinates (latitude, longitude) that match the listed block location. What is it?\n",
    "\n",
    "In the below cell, use the field you found to create a new dataframe, `missing_lat_lon`, that contains only the rows of `calls` that have invalid latitude and longitude data. Your new dataframe should have all the same columns of `calls`.\n",
    "\n",
    "<!--\n",
    "BEGIN QUESTION\n",
    "name: q3c\n",
    "-->"
   ]
  },
  {
   "cell_type": "code",
   "execution_count": 35,
   "metadata": {},
   "outputs": [
    {
     "data": {
      "text/html": [
       "<div>\n",
       "<style scoped>\n",
       "    .dataframe tbody tr th:only-of-type {\n",
       "        vertical-align: middle;\n",
       "    }\n",
       "\n",
       "    .dataframe tbody tr th {\n",
       "        vertical-align: top;\n",
       "    }\n",
       "\n",
       "    .dataframe thead th {\n",
       "        text-align: right;\n",
       "    }\n",
       "</style>\n",
       "<table border=\"1\" class=\"dataframe\">\n",
       "  <thead>\n",
       "    <tr style=\"text-align: right;\">\n",
       "      <th></th>\n",
       "      <th>CASENO</th>\n",
       "      <th>OFFENSE</th>\n",
       "      <th>EVENTDT</th>\n",
       "      <th>EVENTTM</th>\n",
       "      <th>CVLEGEND</th>\n",
       "      <th>CVDOW</th>\n",
       "      <th>InDbDate</th>\n",
       "      <th>Block_Location</th>\n",
       "      <th>BLKADDR</th>\n",
       "      <th>City</th>\n",
       "      <th>State</th>\n",
       "      <th>Day</th>\n",
       "      <th>Hour</th>\n",
       "      <th>Lat</th>\n",
       "      <th>Lon</th>\n",
       "    </tr>\n",
       "  </thead>\n",
       "  <tbody>\n",
       "    <tr>\n",
       "      <th>0</th>\n",
       "      <td>21014296</td>\n",
       "      <td>THEFT MISD. (UNDER $950)</td>\n",
       "      <td>04/01/2021 12:00:00 AM</td>\n",
       "      <td>10:58</td>\n",
       "      <td>LARCENY</td>\n",
       "      <td>4</td>\n",
       "      <td>06/15/2021 12:00:00 AM</td>\n",
       "      <td>Berkeley, CA\\n(37.869058, -122.270455)</td>\n",
       "      <td>NaN</td>\n",
       "      <td>Berkeley</td>\n",
       "      <td>CA</td>\n",
       "      <td>Thursday</td>\n",
       "      <td>10</td>\n",
       "      <td>37.869058</td>\n",
       "      <td>-122.270455</td>\n",
       "    </tr>\n",
       "    <tr>\n",
       "      <th>1</th>\n",
       "      <td>21014391</td>\n",
       "      <td>THEFT MISD. (UNDER $950)</td>\n",
       "      <td>04/01/2021 12:00:00 AM</td>\n",
       "      <td>10:38</td>\n",
       "      <td>LARCENY</td>\n",
       "      <td>4</td>\n",
       "      <td>06/15/2021 12:00:00 AM</td>\n",
       "      <td>Berkeley, CA\\n(37.869058, -122.270455)</td>\n",
       "      <td>NaN</td>\n",
       "      <td>Berkeley</td>\n",
       "      <td>CA</td>\n",
       "      <td>Thursday</td>\n",
       "      <td>10</td>\n",
       "      <td>37.869058</td>\n",
       "      <td>-122.270455</td>\n",
       "    </tr>\n",
       "    <tr>\n",
       "      <th>215</th>\n",
       "      <td>21019124</td>\n",
       "      <td>BURGLARY RESIDENTIAL</td>\n",
       "      <td>04/30/2021 12:00:00 AM</td>\n",
       "      <td>10:00</td>\n",
       "      <td>BURGLARY - RESIDENTIAL</td>\n",
       "      <td>5</td>\n",
       "      <td>06/15/2021 12:00:00 AM</td>\n",
       "      <td>Berkeley, CA\\n(37.869058, -122.270455)</td>\n",
       "      <td>NaN</td>\n",
       "      <td>Berkeley</td>\n",
       "      <td>CA</td>\n",
       "      <td>Friday</td>\n",
       "      <td>10</td>\n",
       "      <td>37.869058</td>\n",
       "      <td>-122.270455</td>\n",
       "    </tr>\n",
       "    <tr>\n",
       "      <th>260</th>\n",
       "      <td>21000289</td>\n",
       "      <td>VEHICLE STOLEN</td>\n",
       "      <td>01/01/2021 12:00:00 AM</td>\n",
       "      <td>12:00</td>\n",
       "      <td>MOTOR VEHICLE THEFT</td>\n",
       "      <td>5</td>\n",
       "      <td>06/15/2021 12:00:00 AM</td>\n",
       "      <td>Berkeley, CA\\n(37.869058, -122.270455)</td>\n",
       "      <td>NaN</td>\n",
       "      <td>Berkeley</td>\n",
       "      <td>CA</td>\n",
       "      <td>Friday</td>\n",
       "      <td>12</td>\n",
       "      <td>37.869058</td>\n",
       "      <td>-122.270455</td>\n",
       "    </tr>\n",
       "    <tr>\n",
       "      <th>633</th>\n",
       "      <td>21013362</td>\n",
       "      <td>BURGLARY AUTO</td>\n",
       "      <td>03/27/2021 12:00:00 AM</td>\n",
       "      <td>4:20</td>\n",
       "      <td>BURGLARY - VEHICLE</td>\n",
       "      <td>6</td>\n",
       "      <td>06/15/2021 12:00:00 AM</td>\n",
       "      <td>Berkeley, CA\\n(37.869058, -122.270455)</td>\n",
       "      <td>NaN</td>\n",
       "      <td>Berkeley</td>\n",
       "      <td>CA</td>\n",
       "      <td>Saturday</td>\n",
       "      <td>4</td>\n",
       "      <td>37.869058</td>\n",
       "      <td>-122.270455</td>\n",
       "    </tr>\n",
       "  </tbody>\n",
       "</table>\n",
       "</div>"
      ],
      "text/plain": [
       "       CASENO                   OFFENSE                 EVENTDT EVENTTM  \\\n",
       "0    21014296  THEFT MISD. (UNDER $950)  04/01/2021 12:00:00 AM   10:58   \n",
       "1    21014391  THEFT MISD. (UNDER $950)  04/01/2021 12:00:00 AM   10:38   \n",
       "215  21019124      BURGLARY RESIDENTIAL  04/30/2021 12:00:00 AM   10:00   \n",
       "260  21000289            VEHICLE STOLEN  01/01/2021 12:00:00 AM   12:00   \n",
       "633  21013362             BURGLARY AUTO  03/27/2021 12:00:00 AM    4:20   \n",
       "\n",
       "                   CVLEGEND  CVDOW                InDbDate  \\\n",
       "0                   LARCENY      4  06/15/2021 12:00:00 AM   \n",
       "1                   LARCENY      4  06/15/2021 12:00:00 AM   \n",
       "215  BURGLARY - RESIDENTIAL      5  06/15/2021 12:00:00 AM   \n",
       "260     MOTOR VEHICLE THEFT      5  06/15/2021 12:00:00 AM   \n",
       "633      BURGLARY - VEHICLE      6  06/15/2021 12:00:00 AM   \n",
       "\n",
       "                             Block_Location BLKADDR      City State       Day  \\\n",
       "0    Berkeley, CA\\n(37.869058, -122.270455)     NaN  Berkeley    CA  Thursday   \n",
       "1    Berkeley, CA\\n(37.869058, -122.270455)     NaN  Berkeley    CA  Thursday   \n",
       "215  Berkeley, CA\\n(37.869058, -122.270455)     NaN  Berkeley    CA    Friday   \n",
       "260  Berkeley, CA\\n(37.869058, -122.270455)     NaN  Berkeley    CA    Friday   \n",
       "633  Berkeley, CA\\n(37.869058, -122.270455)     NaN  Berkeley    CA  Saturday   \n",
       "\n",
       "     Hour        Lat          Lon  \n",
       "0      10  37.869058  -122.270455  \n",
       "1      10  37.869058  -122.270455  \n",
       "215    10  37.869058  -122.270455  \n",
       "260    12  37.869058  -122.270455  \n",
       "633     4  37.869058  -122.270455  "
      ]
     },
     "execution_count": 35,
     "metadata": {},
     "output_type": "execute_result"
    }
   ],
   "source": [
    "missing_lat_lon = calls[~calls.BLKADDR.notnull()]\n",
    "missing_lat_lon.head()"
   ]
  },
  {
   "cell_type": "code",
   "execution_count": 36,
   "metadata": {
    "deletable": false,
    "editable": false
   },
   "outputs": [
    {
     "data": {
      "text/html": [
       "<p><strong><pre style='display: inline;'>q3c</pre></strong> passed!</p>"
      ],
      "text/plain": [
       "q3c results: All test cases passed!"
      ]
     },
     "execution_count": 36,
     "metadata": {},
     "output_type": "execute_result"
    }
   ],
   "source": [
    "grader.check(\"q3c\")"
   ]
  },
  {
   "cell_type": "markdown",
   "metadata": {},
   "source": [
    "---\n",
    "\n",
    "## Question 3d: Check Missing Values\n",
    "\n",
    "Now let us explore if there is a pattern to which types of records have missing latitude and longitude entries.\n",
    "\n",
    "We've implemented the plotting code for you below, but read through it and verify you understand what we're doing (we've thrown in a bonus `plt.subplots()` call, documentation [here](https://matplotlib.org/stable/gallery/subplots_axes_and_figures/subplots_demo.html#stacking-subplots-in-one-direction))."
   ]
  },
  {
   "cell_type": "code",
   "execution_count": 37,
   "metadata": {},
   "outputs": [
    {
     "data": {
      "image/png": "[encoded data removed]",
      "text/plain": [
       "<Figure size 864x648 with 2 Axes>"
      ]
     },
     "metadata": {
      "needs_background": "light"
     },
     "output_type": "display_data"
    }
   ],
   "source": [
    "# just run this cell\n",
    "missing_by_time = (pd.to_datetime(missing_lat_lon['EVENTDT'])\n",
    "                   .value_counts()\n",
    "                   .sort_index()\n",
    "                  )\n",
    "missing_by_crime = (missing_lat_lon['CVLEGEND']\n",
    "                    .value_counts() \n",
    "                    / calls['CVLEGEND'].value_counts()\n",
    "                   ).dropna().sort_values(ascending=False)\n",
    "\n",
    "fig, ax = plt.subplots(2)\n",
    "ax[0].bar(missing_by_time.index, missing_by_time)\n",
    "ax[0].set_ylabel(\"Calls with Missing Data\")\n",
    "ax[1].barh(missing_by_crime.index, missing_by_crime)\n",
    "ax[1].set_xlabel(\"Fraction of Missing Data per Event Type\")\n",
    "fig.suptitle(\"Characteristics of Missing Lat/Lon Data\")\n",
    "plt.show()"
   ]
  },
  {
   "cell_type": "markdown",
   "metadata": {
    "deletable": false,
    "editable": false
   },
   "source": [
    "<!--\n",
    "BEGIN QUESTION\n",
    "name: q3d\n",
    "-->\n",
    "\n",
    "Based on the plots above, are there any patterns among entries that are missing latitude/longitude data? The dataset information [linked](https://data.cityofberkeley.info/Public-Safety/Berkeley-PD-Calls-for-Service/k2nh-s5h5) at the top of this notebook may also give more context."
   ]
  },
  {
   "cell_type": "markdown",
   "metadata": {},
   "source": [
    "It does seem like there are missing addresses from more crime labeled as fraud which is likely due to the way fraud can be committed virtually rather than physically."
   ]
  },
  {
   "cell_type": "markdown",
   "metadata": {},
   "source": [
    "## Question 3d: Explore\n",
    "\n",
    "The below cell plots a map of phonecalls by GPS coordinates (latitude, longitude); we drop missing location data."
   ]
  },
  {
   "cell_type": "code",
   "execution_count": 38,
   "metadata": {},
   "outputs": [
    {
     "data": {
      "text/html": [
       "<div style=\"width:100%;\"><div style=\"position:relative;width:100%;height:0;padding-bottom:60%;\"><span style=\"color:#565656\">Make this Notebook Trusted to load map: File -> Trust Notebook</span><iframe src=\"about:blank\" style=\"position:absolute;width:100%;height:100%;left:0;top:0;border:none !important;\" data-html=%3C%21DOCTYPE%20html%3E%0A%3Chead%3E%20%20%20%20%0A%20%20%20%20%3Cmeta%20http-equiv%3D%22content-type%22%20content%3D%22text/html%3B%20charset%3DUTF-8%22%20/%3E%0A%20%20%20%20%0A%20%20%20%20%20%20%20%20%3Cscript%3E%0A%20%20%20%20%20%20%20%20%20%20%20%20L_NO_TOUCH%20%3D%20false%3B%0A%20%20%20%20%20%20%20%20%20%20%20%20L_DISABLE_3D%20%3D%20false%3B%0A%20%20%20%20%20%20%20%20%3C/script%3E%0A%20%20%20%20%0A%20%20%20%20%3Cstyle%3Ehtml%2C%20body%20%7Bwidth%3A%20100%25%3Bheight%3A%20100%25%3Bmargin%3A%200%3Bpadding%3A%200%3B%7D%3C/style%3E%0A%20%20%20%20%3Cstyle%3E%23map%20%7Bposition%3Aabsolute%3Btop%3A0%3Bbottom%3A0%3Bright%3A0%3Bleft%3A0%3B%7D%3C/style%3E%0A%20%20%20%20%3Cscript%20src%3D%22https%3A//cdn.jsdelivr.net/npm/leaflet%401.6.0/dist/leaflet.js%22%3E%3C/script%3E%0A%20%20%20%20%3Cscript%20src%3D%22https%3A//code.jquery.com/jquery-1.12.4.min.js%22%3E%3C/script%3E%0A%20%20%20%20%3Cscript%20src%3D%22https%3A//maxcdn.bootstrapcdn.com/bootstrap/3.2.0/js/bootstrap.min.js%22%3E%3C/script%3E%0A%20%20%20%20%3Cscript%20src%3D%22https%3A//cdnjs.cloudflare.com/ajax/libs/Leaflet.awesome-markers/2.0.2/leaflet.awesome-markers.js%22%3E%3C/script%3E%0A%20%20%20%20%3Clink%20rel%3D%22stylesheet%22%20href%3D%22https%3A//cdn.jsdelivr.net/npm/leaflet%401.6.0/dist/leaflet.css%22/%3E%0A%20%20%20%20%3Clink%20rel%3D%22stylesheet%22%20href%3D%22https%3A//maxcdn.bootstrapcdn.com/bootstrap/3.2.0/css/bootstrap.min.css%22/%3E%0A%20%20%20%20%3Clink%20rel%3D%22stylesheet%22%20href%3D%22https%3A//maxcdn.bootstrapcdn.com/bootstrap/3.2.0/css/bootstrap-theme.min.css%22/%3E%0A%20%20%20%20%3Clink%20rel%3D%22stylesheet%22%20href%3D%22https%3A//maxcdn.bootstrapcdn.com/font-awesome/4.6.3/css/font-awesome.min.css%22/%3E%0A%20%20%20%20%3Clink%20rel%3D%22stylesheet%22%20href%3D%22https%3A//cdnjs.cloudflare.com/ajax/libs/Leaflet.awesome-markers/2.0.2/leaflet.awesome-markers.css%22/%3E%0A%20%20%20%20%3Clink%20rel%3D%22stylesheet%22%20href%3D%22https%3A//cdn.jsdelivr.net/gh/python-visualization/folium/folium/templates/leaflet.awesome.rotate.min.css%22/%3E%0A%20%20%20%20%0A%20%20%20%20%20%20%20%20%20%20%20%20%3Cmeta%20name%3D%22viewport%22%20content%3D%22width%3Ddevice-width%2C%0A%20%20%20%20%20%20%20%20%20%20%20%20%20%20%20%20initial-scale%3D1.0%2C%20maximum-scale%3D1.0%2C%20user-scalable%3Dno%22%20/%3E%0A%20%20%20%20%20%20%20%20%20%20%20%20%3Cstyle%3E%0A%20%20%20%20%20%20%20%20%20%20%20%20%20%20%20%20%23map_d0456689ec3740188429afe80d743a54%20%7B%0A%20%20%20%20%20%20%20%20%20%20%20%20%20%20%20%20%20%20%20%20position%3A%20relative%3B%0A%20%20%20%20%20%20%20%20%20%20%20%20%20%20%20%20%20%20%20%20width%3A%20100.0%25%3B%0A%20%20%20%20%20%20%20%20%20%20%20%20%20%20%20%20%20%20%20%20height%3A%20100.0%25%3B%0A%20%20%20%20%20%20%20%20%20%20%20%20%20%20%20%20%20%20%20%20left%3A%200.0%25%3B%0A%20%20%20%20%20%20%20%20%20%20%20%20%20%20%20%20%20%20%20%20top%3A%200.0%25%3B%0A%20%20%20%20%20%20%20%20%20%20%20%20%20%20%20%20%7D%0A%20%20%20%20%20%20%20%20%20%20%20%20%3C/style%3E%0A%20%20%20%20%20%20%20%20%0A%20%20%20%20%3Cscript%20src%3D%22https%3A//cdn.jsdelivr.net/gh/python-visualization/folium%40master/folium/templates/leaflet_heat.min.js%22%3E%3C/script%3E%0A%3C/head%3E%0A%3Cbody%3E%20%20%20%20%0A%20%20%20%20%0A%20%20%20%20%20%20%20%20%20%20%20%20%3Cdiv%20class%3D%22folium-map%22%20id%3D%22map_d0456689ec3740188429afe80d743a54%22%20%3E%3C/div%3E%0A%20%20%20%20%20%20%20%20%0A%3C/body%3E%0A%3Cscript%3E%20%20%20%20%0A%20%20%20%20%0A%20%20%20%20%20%20%20%20%20%20%20%20var%20map_d0456689ec3740188429afe80d743a54%20%3D%20L.map%28%0A%20%20%20%20%20%20%20%20%20%20%20%20%20%20%20%20%22map_d0456689ec3740188429afe80d743a54%22%2C%0A%20%20%20%20%20%20%20%20%20%20%20%20%20%20%20%20%7B%0A%20%20%20%20%20%20%20%20%20%20%20%20%20%20%20%20%20%20%20%20center%3A%20%5B37.87%2C%20-122.28%5D%2C%0A%20%20%20%20%20%20%20%20%20%20%20%20%20%20%20%20%20%20%20%20crs%3A%20L.CRS.EPSG3857%2C%0A%20%20%20%20%20%20%20%20%20%20%20%20%20%20%20%20%20%20%20%20zoom%3A%2013%2C%0A%20%20%20%20%20%20%20%20%20%20%20%20%20%20%20%20%20%20%20%20zoomControl%3A%20true%2C%0A%20%20%20%20%20%20%20%20%20%20%20%20%20%20%20%20%20%20%20%20preferCanvas%3A%20false%2C%0A%20%20%20%20%20%20%20%20%20%20%20%20%20%20%20%20%7D%0A%20%20%20%20%20%20%20%20%20%20%20%20%29%3B%0A%0A%20%20%20%20%20%20%20%20%20%20%20%20%0A%0A%20%20%20%20%20%20%20%20%0A%20%20%20%20%0A%20%20%20%20%20%20%20%20%20%20%20%20var%20tile_layer_80b7f1a1ec5d47adb19643b2af08142f%20%3D%20L.tileLayer%28%0A%20%20%20%20%20%20%20%20%20%20%20%20%20%20%20%20%22https%3A//%7Bs%7D.tile.openstreetmap.org/%7Bz%7D/%7Bx%7D/%7By%7D.png%22%2C%0A%20%20%20%20%20%20%20%20%20%20%20%20%20%20%20%20%7B%22attribution%22%3A%20%22Data%20by%20%5Cu0026copy%3B%20%5Cu003ca%20href%3D%5C%22http%3A//openstreetmap.org%5C%22%5Cu003eOpenStreetMap%5Cu003c/a%5Cu003e%2C%20under%20%5Cu003ca%20href%3D%5C%22http%3A//www.openstreetmap.org/copyright%5C%22%5Cu003eODbL%5Cu003c/a%5Cu003e.%22%2C%20%22detectRetina%22%3A%20false%2C%20%22maxNativeZoom%22%3A%2018%2C%20%22maxZoom%22%3A%2018%2C%20%22minZoom%22%3A%200%2C%20%22noWrap%22%3A%20false%2C%20%22opacity%22%3A%201%2C%20%22subdomains%22%3A%20%22abc%22%2C%20%22tms%22%3A%20false%7D%0A%20%20%20%20%20%20%20%20%20%20%20%20%29.addTo%28map_d0456689ec3740188429afe80d743a54%29%3B%0A%20%20%20%20%20%20%20%20%0A%20%20%20%20%0A%20%20%20%20%20%20%20%20%20%20%20%20var%20heat_map_c9ad02392e3d4763a79ebe4b71c953ca%20%3D%20L.heatLayer%28%0A%20%20%20%20%20%20%20%20%20%20%20%20%20%20%20%20%5B%5B37.864908%2C%20-122.267289%5D%2C%20%5B37.863934%2C%20-122.250262%5D%2C%20%5B37.86066%2C%20-122.253407%5D%2C%20%5B37.881957%2C%20-122.269551%5D%2C%20%5B37.867426%2C%20-122.269138%5D%2C%20%5B37.858116%2C%20-122.268002%5D%2C%20%5B37.868355%2C%20-122.274953%5D%2C%20%5B37.851491%2C%20-122.28563%5D%2C%20%5B37.882033%2C%20-122.296381%5D%2C%20%5B37.868714%2C%20-122.259189%5D%2C%20%5B37.868785%2C%20-122.272701%5D%2C%20%5B37.871828%2C%20-122.270516%5D%2C%20%5B37.855076%2C%20-122.292412%5D%2C%20%5B37.880376%2C%20-122.268183%5D%2C%20%5B37.856769%2C%20-122.27984%5D%2C%20%5B37.887344%2C%20-122.277321%5D%2C%20%5B37.851516%2C%20-122.280088%5D%2C%20%5B37.876897%2C%20-122.28868%5D%2C%20%5B37.8719%2C%20-122.268389%5D%2C%20%5B37.852174%2C%20-122.267824%5D%2C%20%5B37.878642%2C%20-122.279173%5D%2C%20%5B37.876595%2C%20-122.267789%5D%2C%20%5B37.850001%2C%20-122.275963%5D%2C%20%5B37.857876%2C%20-122.286598%5D%2C%20%5B37.858116%2C%20-122.268002%5D%2C%20%5B37.862059%2C%20-122.281167%5D%2C%20%5B37.868667%2C%20-122.313656%5D%2C%20%5B37.868913%2C%20-122.28608%5D%2C%20%5B37.87325%2C%20-122.293558%5D%2C%20%5B37.885691%2C%20-122.27282%5D%2C%20%5B37.88383%2C%20-122.266309%5D%2C%20%5B37.879689%2C%20-122.271614%5D%2C%20%5B37.858116%2C%20-122.268002%5D%2C%20%5B37.875084%2C%20-122.300897%5D%2C%20%5B37.858145%2C%20-122.277491%5D%2C%20%5B37.868714%2C%20-122.259189%5D%2C%20%5B37.864061%2C%20-122.29877%5D%2C%20%5B37.856488%2C%20-122.257329%5D%2C%20%5B37.856111%2C%20-122.260248%5D%2C%20%5B37.870107%2C%20-122.276593%5D%2C%20%5B37.892804%2C%20-122.285696%5D%2C%20%5B37.850434%2C%20-122.272607%5D%2C%20%5B37.848606%2C%20-122.279588%5D%2C%20%5B37.867972%2C%20-122.263699%5D%2C%20%5B37.871167%2C%20-122.268285%5D%2C%20%5B37.870948%2C%20-122.27733%5D%2C%20%5B37.859802%2C%20-122.267177%5D%2C%20%5B37.870054%2C%20-122.284263%5D%2C%20%5B37.887843%2C%20-122.270011%5D%2C%20%5B37.865202%2C%20-122.257795%5D%2C%20%5B37.881003%2C%20-122.293212%5D%2C%20%5B37.847442%2C%20-122.281175%5D%2C%20%5B37.852174%2C%20-122.267824%5D%2C%20%5B37.862927%2C%20-122.258784%5D%2C%20%5B37.871246%2C%20-122.274991%5D%2C%20%5B37.871461%2C%20-122.270706%5D%2C%20%5B37.869363%2C%20-122.268028%5D%2C%20%5B37.868815%2C%20-122.292131%5D%2C%20%5B37.864535%2C%20-122.262993%5D%2C%20%5B37.876428%2C%20-122.291736%5D%2C%20%5B37.857745%2C%20-122.23991%5D%2C%20%5B37.858673%2C%20-122.273365%5D%2C%20%5B37.881003%2C%20-122.293212%5D%2C%20%5B37.877863%2C%20-122.308855%5D%2C%20%5B37.857336%2C%20-122.290797%5D%2C%20%5B37.891214%2C%20-122.282158%5D%2C%20%5B37.870096%2C%20-122.283932%5D%2C%20%5B37.870054%2C%20-122.284263%5D%2C%20%5B37.872725%2C%20-122.277729%5D%2C%20%5B37.858116%2C%20-122.268002%5D%2C%20%5B37.880228%2C%20-122.295798%5D%2C%20%5B37.861843%2C%20-122.269644%5D%2C%20%5B37.866426%2C%20-122.269762%5D%2C%20%5B37.871167%2C%20-122.268285%5D%2C%20%5B37.867501%2C%20-122.291709%5D%2C%20%5B37.88014%2C%20-122.297498%5D%2C%20%5B37.878373%2C%20-122.262902%5D%2C%20%5B37.876897%2C%20-122.28868%5D%2C%20%5B37.858116%2C%20-122.268002%5D%2C%20%5B37.886766%2C%20-122.282493%5D%2C%20%5B37.88014%2C%20-122.297498%5D%2C%20%5B37.847908%2C%20-122.277685%5D%2C%20%5B37.871167%2C%20-122.268285%5D%2C%20%5B37.871167%2C%20-122.268285%5D%2C%20%5B37.852683%2C%20-122.276556%5D%2C%20%5B37.85948%2C%20-122.266689%5D%2C%20%5B37.882033%2C%20-122.296381%5D%2C%20%5B37.88014%2C%20-122.297498%5D%2C%20%5B37.88014%2C%20-122.297498%5D%2C%20%5B37.860372%2C%20-122.25981%5D%2C%20%5B37.863823%2C%20-122.252575%5D%2C%20%5B37.868263%2C%20-122.296013%5D%2C%20%5B37.86825%2C%20-122.300093%5D%2C%20%5B37.871246%2C%20-122.274991%5D%2C%20%5B37.891214%2C%20-122.282158%5D%2C%20%5B37.865793%2C%20-122.301779%5D%2C%20%5B37.861285%2C%20-122.259979%5D%2C%20%5B37.871369%2C%20-122.292954%5D%2C%20%5B37.853861%2C%20-122.26598%5D%2C%20%5B37.870054%2C%20-122.284263%5D%2C%20%5B37.878629%2C%20-122.260883%5D%2C%20%5B37.851503%2C%20-122.278518%5D%2C%20%5B37.871167%2C%20-122.268285%5D%2C%20%5B37.85968%2C%20-122.255796%5D%2C%20%5B37.852079%2C%20-122.278653%5D%2C%20%5B37.873288%2C%20-122.299396%5D%2C%20%5B37.885744%2C%20-122.278017%5D%2C%20%5B37.857099%2C%20-122.263785%5D%2C%20%5B37.865529%2C%20-122.282628%5D%2C%20%5B37.865748%2C%20-122.253396%5D%2C%20%5B37.862024%2C%20-122.251212%5D%2C%20%5B37.863611%2C%20-122.317566%5D%2C%20%5B37.871246%2C%20-122.274991%5D%2C%20%5B37.887344%2C%20-122.277321%5D%2C%20%5B37.857387%2C%20-122.261536%5D%2C%20%5B37.862169%2C%20-122.267084%5D%2C%20%5B37.866296%2C%20-122.28996%5D%2C%20%5B37.88014%2C%20-122.297498%5D%2C%20%5B37.853203%2C%20-122.279642%5D%2C%20%5B37.849376%2C%20-122.294952%5D%2C%20%5B37.865772%2C%20-122.267643%5D%2C%20%5B37.88055%2C%20-122.304962%5D%2C%20%5B37.855435%2C%20-122.259841%5D%2C%20%5B37.87325%2C%20-122.293558%5D%2C%20%5B37.858116%2C%20-122.268002%5D%2C%20%5B37.870054%2C%20-122.284263%5D%2C%20%5B37.904235%2C%20-122.26951%5D%2C%20%5B37.865202%2C%20-122.257795%5D%2C%20%5B37.858116%2C%20-122.268002%5D%2C%20%5B37.856614%2C%20-122.267596%5D%2C%20%5B37.852136%2C%20-122.273695%5D%2C%20%5B37.855935%2C%20-122.250579%5D%2C%20%5B37.868785%2C%20-122.272701%5D%2C%20%5B37.862927%2C%20-122.258784%5D%2C%20%5B37.875505%2C%20-122.298797%5D%2C%20%5B37.865511%2C%20-122.309967%5D%2C%20%5B37.868913%2C%20-122.28608%5D%2C%20%5B37.871246%2C%20-122.274991%5D%2C%20%5B37.866761%2C%20-122.258779%5D%2C%20%5B37.88308%2C%20-122.274259%5D%2C%20%5B37.881366%2C%20-122.289688%5D%2C%20%5B37.868641%2C%20-122.29415%5D%2C%20%5B37.867176%2C%20-122.267802%5D%2C%20%5B37.860189%2C%20-122.294048%5D%2C%20%5B37.868532%2C%20-122.274764%5D%2C%20%5B37.875053%2C%20-122.26548%5D%2C%20%5B37.860105%2C%20-122.261901%5D%2C%20%5B37.864385%2C%20-122.290697%5D%2C%20%5B37.862927%2C%20-122.258784%5D%2C%20%5B37.881149%2C%20-122.267124%5D%2C%20%5B37.856121%2C%20-122.26876%5D%2C%20%5B37.855684%2C%20-122.263491%5D%2C%20%5B37.891867%2C%20-122.272043%5D%2C%20%5B37.870311%2C%20-122.300756%5D%2C%20%5B37.882033%2C%20-122.296381%5D%2C%20%5B37.875308%2C%20-122.30592%5D%2C%20%5B37.8808%2C%20-122.294036%5D%2C%20%5B37.871167%2C%20-122.268285%5D%2C%20%5B37.868714%2C%20-122.259189%5D%2C%20%5B37.86825%2C%20-122.300093%5D%2C%20%5B37.857254%2C%20-122.262649%5D%2C%20%5B37.858116%2C%20-122.268002%5D%2C%20%5B37.884902%2C%20-122.24847%5D%2C%20%5B37.880312%2C%20-122.296641%5D%2C%20%5B37.867513%2C%20-122.26127%5D%2C%20%5B37.869167%2C%20-122.284138%5D%2C%20%5B37.867176%2C%20-122.267802%5D%2C%20%5B37.891095%2C%20-122.284252%5D%2C%20%5B37.867307%2C%20-122.300468%5D%2C%20%5B37.852435%2C%20-122.270917%5D%2C%20%5B37.877696%2C%20-122.273684%5D%2C%20%5B37.871246%2C%20-122.274991%5D%2C%20%5B37.870054%2C%20-122.284263%5D%2C%20%5B37.868263%2C%20-122.296013%5D%2C%20%5B37.871167%2C%20-122.268285%5D%2C%20%5B37.863679%2C%20-122.269631%5D%2C%20%5B37.898747%2C%20-122.266109%5D%2C%20%5B37.873157%2C%20-122.274468%5D%2C%20%5B37.870639%2C%20-122.272468%5D%2C%20%5B37.861387%2C%20-122.259001%5D%2C%20%5B37.891594%2C%20-122.264883%5D%2C%20%5B37.878373%2C%20-122.262902%5D%2C%20%5B37.865795%2C%20-122.28044%5D%2C%20%5B37.882033%2C%20-122.296381%5D%2C%20%5B37.870538%2C%20-122.297407%5D%2C%20%5B37.867176%2C%20-122.267802%5D%2C%20%5B37.869105%2C%20-122.270064%5D%2C%20%5B37.871167%2C%20-122.268285%5D%2C%20%5B37.866563%2C%20-122.297217%5D%2C%20%5B37.870054%2C%20-122.284263%5D%2C%20%5B37.870205%2C%20-122.292581%5D%2C%20%5B37.862927%2C%20-122.258784%5D%2C%20%5B37.862024%2C%20-122.251212%5D%2C%20%5B37.85177%2C%20-122.276489%5D%2C%20%5B37.865748%2C%20-122.253396%5D%2C%20%5B37.860993%2C%20-122.262104%5D%2C%20%5B37.862927%2C%20-122.258784%5D%2C%20%5B37.862118%2C%20-122.25338%5D%2C%20%5B37.858525%2C%20-122.266906%5D%2C%20%5B37.874254%2C%20-122.272927%5D%2C%20%5B37.869363%2C%20-122.268028%5D%2C%20%5B37.880075%2C%20-122.270476%5D%2C%20%5B37.857776%2C%20-122.286576%5D%2C%20%5B37.863369%2C%20-122.257622%5D%2C%20%5B37.867176%2C%20-122.267802%5D%2C%20%5B37.882033%2C%20-122.296381%5D%2C%20%5B37.863415%2C%20-122.256801%5D%2C%20%5B37.869993%2C%20-122.294774%5D%2C%20%5B37.885559%2C%20-122.258485%5D%2C%20%5B37.867176%2C%20-122.267802%5D%2C%20%5B37.870054%2C%20-122.284263%5D%2C%20%5B37.854318%2C%20-122.287777%5D%2C%20%5B37.876897%2C%20-122.28868%5D%2C%20%5B37.853552%2C%20-122.291561%5D%2C%20%5B37.879921%2C%20-122.271646%5D%2C%20%5B37.878868%2C%20-122.290083%5D%2C%20%5B37.88014%2C%20-122.297498%5D%2C%20%5B37.868641%2C%20-122.29415%5D%2C%20%5B37.858116%2C%20-122.268002%5D%2C%20%5B37.871246%2C%20-122.274991%5D%2C%20%5B37.869363%2C%20-122.268028%5D%2C%20%5B37.853221%2C%20-122.280832%5D%2C%20%5B37.867176%2C%20-122.267802%5D%2C%20%5B37.893448%2C%20-122.272137%5D%2C%20%5B37.847908%2C%20-122.277685%5D%2C%20%5B37.855435%2C%20-122.259841%5D%2C%20%5B37.878935%2C%20-122.293437%5D%2C%20%5B37.858116%2C%20-122.268002%5D%2C%20%5B37.860993%2C%20-122.262104%5D%2C%20%5B37.880636%2C%20-122.264757%5D%2C%20%5B37.893213%2C%20-122.280436%5D%2C%20%5B37.869105%2C%20-122.270064%5D%2C%20%5B37.868641%2C%20-122.29415%5D%2C%20%5B37.858448%2C%20-122.282308%5D%2C%20%5B37.871607%2C%20-122.284336%5D%2C%20%5B37.868913%2C%20-122.28608%5D%2C%20%5B37.867513%2C%20-122.281165%5D%2C%20%5B37.863679%2C%20-122.269631%5D%2C%20%5B37.880522%2C%20-122.26245%5D%2C%20%5B37.870145%2C%20-122.276287%5D%2C%20%5B37.88014%2C%20-122.297498%5D%2C%20%5B37.857856%2C%20-122.279721%5D%2C%20%5B37.858116%2C%20-122.268002%5D%2C%20%5B37.869363%2C%20-122.268028%5D%2C%20%5B37.850809%2C%20-122.291042%5D%2C%20%5B37.870205%2C%20-122.292581%5D%2C%20%5B37.850114%2C%20-122.27974%5D%2C%20%5B37.861843%2C%20-122.269644%5D%2C%20%5B37.875053%2C%20-122.26548%5D%2C%20%5B37.865772%2C%20-122.267643%5D%2C%20%5B37.86825%2C%20-122.300093%5D%2C%20%5B37.855671%2C%20-122.262461%5D%2C%20%5B37.881957%2C%20-122.269551%5D%2C%20%5B37.886936%2C%20-122.249198%5D%2C%20%5B37.856088%2C%20-122.29274%5D%2C%20%5B37.86542%2C%20-122.25618%5D%2C%20%5B37.849244%2C%20-122.294722%5D%2C%20%5B37.869764%2C%20-122.28655%5D%2C%20%5B37.870298%2C%20-122.275101%5D%2C%20%5B37.868641%2C%20-122.29415%5D%2C%20%5B37.86769%2C%20-122.259939%5D%2C%20%5B37.860212%2C%20-122.249833%5D%2C%20%5B37.857336%2C%20-122.290797%5D%2C%20%5B37.85062%2C%20-122.278313%5D%2C%20%5B37.869293%2C%20-122.296976%5D%2C%20%5B37.889295%2C%20-122.278407%5D%2C%20%5B37.878407%2C%20-122.267962%5D%2C%20%5B37.863157%2C%20-122.283185%5D%2C%20%5B37.857784%2C%20-122.272998%5D%2C%20%5B37.864827%2C%20-122.258577%5D%2C%20%5B37.849099%2C%20-122.275932%5D%2C%20%5B37.859006%2C%20-122.277874%5D%2C%20%5B37.862763%2C%20-122.262639%5D%2C%20%5B37.858047%2C%20-122.245306%5D%2C%20%5B37.875738%2C%20-122.275607%5D%2C%20%5B37.868108%2C%20-122.277222%5D%2C%20%5B37.869067%2C%20-122.292043%5D%2C%20%5B37.860459%2C%20-122.266139%5D%2C%20%5B37.870054%2C%20-122.284263%5D%2C%20%5B37.863443%2C%20-122.256304%5D%2C%20%5B37.903991%2C%20-122.26953%5D%2C%20%5B37.863679%2C%20-122.269631%5D%2C%20%5B37.8598%2C%20-122.264351%5D%2C%20%5B37.862763%2C%20-122.262639%5D%2C%20%5B37.870417%2C%20-122.292485%5D%2C%20%5B37.895819%2C%20-122.263384%5D%2C%20%5B37.858392%2C%20-122.275421%5D%2C%20%5B37.870054%2C%20-122.284263%5D%2C%20%5B37.862927%2C%20-122.258784%5D%2C%20%5B37.871501%2C%20-122.301134%5D%2C%20%5B37.850899%2C%20-122.276174%5D%2C%20%5B37.861118%2C%20-122.259948%5D%2C%20%5B37.858535%2C%20-122.274368%5D%2C%20%5B37.857714%2C%20-122.288536%5D%2C%20%5B37.870054%2C%20-122.284263%5D%2C%20%5B37.878239%2C%20-122.288374%5D%2C%20%5B37.891867%2C%20-122.272043%5D%2C%20%5B37.881004%2C%20-122.283225%5D%2C%20%5B37.873327%2C%20-122.273214%5D%2C%20%5B37.865511%2C%20-122.309967%5D%2C%20%5B37.864079%2C%20-122.266509%5D%2C%20%5B37.853864%2C%20-122.285643%5D%2C%20%5B37.874787%2C%20-122.276046%5D%2C%20%5B37.861677%2C%20-122.26716%5D%2C%20%5B37.862927%2C%20-122.258784%5D%2C%20%5B37.868058%2C%20-122.278332%5D%2C%20%5B37.870924%2C%20-122.277518%5D%2C%20%5B37.868356%2C%20-122.268904%5D%2C%20%5B37.869293%2C%20-122.296976%5D%2C%20%5B37.893448%2C%20-122.272137%5D%2C%20%5B37.87965%2C%20-122.273873%5D%2C%20%5B37.861387%2C%20-122.259001%5D%2C%20%5B37.863292%2C%20-122.256293%5D%2C%20%5B37.870205%2C%20-122.292581%5D%2C%20%5B37.859589%2C%20-122.257019%5D%2C%20%5B37.865816%2C%20-122.281601%5D%2C%20%5B37.867176%2C%20-122.267802%5D%2C%20%5B37.889482%2C%20-122.281718%5D%2C%20%5B37.865945%2C%20-122.250471%5D%2C%20%5B37.8719%2C%20-122.268389%5D%2C%20%5B37.873687%2C%20-122.268616%5D%2C%20%5B37.881445%2C%20-122.274077%5D%2C%20%5B37.857869%2C%20-122.248398%5D%2C%20%5B37.848812%2C%20-122.278043%5D%2C%20%5B37.853576%2C%20-122.287202%5D%2C%20%5B37.853221%2C%20-122.280832%5D%2C%20%5B37.860768%2C%20-122.278249%5D%2C%20%5B37.888064%2C%20-122.256304%5D%2C%20%5B37.848606%2C%20-122.279588%5D%2C%20%5B37.891095%2C%20-122.284252%5D%2C%20%5B37.867513%2C%20-122.25195%5D%2C%20%5B37.862927%2C%20-122.258784%5D%2C%20%5B37.862927%2C%20-122.258784%5D%2C%20%5B37.856111%2C%20-122.260248%5D%2C%20%5B37.857495%2C%20-122.275256%5D%2C%20%5B37.863353%2C%20-122.272097%5D%2C%20%5B37.858628%2C%20-122.250783%5D%2C%20%5B37.85717%2C%20-122.252209%5D%2C%20%5B37.866936%2C%20-122.296218%5D%2C%20%5B37.851569%2C%20-122.286424%5D%2C%20%5B37.864701%2C%20-122.260693%5D%2C%20%5B37.871167%2C%20-122.268285%5D%2C%20%5B37.862927%2C%20-122.258784%5D%2C%20%5B37.858116%2C%20-122.268002%5D%2C%20%5B37.868641%2C%20-122.29415%5D%2C%20%5B37.884257%2C%20-122.262636%5D%2C%20%5B37.870054%2C%20-122.284263%5D%2C%20%5B37.855678%2C%20-122.274429%5D%2C%20%5B37.862927%2C%20-122.258784%5D%2C%20%5B37.865845%2C%20-122.260009%5D%2C%20%5B37.858116%2C%20-122.268002%5D%2C%20%5B37.855824%2C%20-122.25502%5D%2C%20%5B37.868913%2C%20-122.28608%5D%2C%20%5B37.87304%2C%20-122.289659%5D%2C%20%5B37.85489%2C%20-122.252564%5D%2C%20%5B37.8598%2C%20-122.264351%5D%2C%20%5B37.868815%2C%20-122.292131%5D%2C%20%5B37.873976%2C%20-122.282257%5D%2C%20%5B37.867708%2C%20-122.250801%5D%2C%20%5B37.868667%2C%20-122.313656%5D%2C%20%5B37.858116%2C%20-122.268002%5D%2C%20%5B37.862927%2C%20-122.258784%5D%2C%20%5B37.869764%2C%20-122.28655%5D%2C%20%5B37.904331%2C%20-122.269512%5D%2C%20%5B37.865868%2C%20-122.251595%5D%2C%20%5B37.871167%2C%20-122.268285%5D%2C%20%5B37.868641%2C%20-122.29415%5D%2C%20%5B37.862938%2C%20-122.274352%5D%2C%20%5B37.8531%2C%20-122.266131%5D%2C%20%5B37.848453%2C%20-122.273607%5D%2C%20%5B37.864707%2C%20-122.261652%5D%2C%20%5B37.868164%2C%20-122.256314%5D%2C%20%5B37.862927%2C%20-122.258784%5D%2C%20%5B37.876045%2C%20-122.260336%5D%2C%20%5B37.849609%2C%20-122.282%5D%2C%20%5B37.894676%2C%20-122.285563%5D%2C%20%5B37.867852%2C%20-122.258699%5D%2C%20%5B37.887747%2C%20-122.264514%5D%2C%20%5B37.86604%2C%20-122.2836%5D%2C%20%5B37.872725%2C%20-122.277729%5D%2C%20%5B37.879968%2C%20-122.296885%5D%2C%20%5B37.868714%2C%20-122.259189%5D%2C%20%5B37.88427%2C%20-122.276737%5D%2C%20%5B37.88014%2C%20-122.297498%5D%2C%20%5B37.868815%2C%20-122.292131%5D%2C%20%5B37.872757%2C%20-122.291886%5D%2C%20%5B37.870603%2C%20-122.270612%5D%2C%20%5B37.868356%2C%20-122.268904%5D%2C%20%5B37.881957%2C%20-122.269551%5D%2C%20%5B37.899985%2C%20-122.265733%5D%2C%20%5B37.846404%2C%20-122.275263%5D%2C%20%5B37.876897%2C%20-122.28868%5D%2C%20%5B37.869888%2C%20-122.300618%5D%2C%20%5B37.871167%2C%20-122.268285%5D%2C%20%5B37.867852%2C%20-122.258699%5D%2C%20%5B37.858116%2C%20-122.268002%5D%2C%20%5B37.858116%2C%20-122.268002%5D%2C%20%5B37.870652%2C%20-122.27958%5D%2C%20%5B37.865748%2C%20-122.253396%5D%2C%20%5B37.871246%2C%20-122.274991%5D%2C%20%5B37.876307%2C%20-122.268923%5D%2C%20%5B37.879273%2C%20-122.255986%5D%2C%20%5B37.860225%2C%20-122.269453%5D%2C%20%5B37.854517%2C%20-122.281755%5D%2C%20%5B37.883153%2C%20-122.292104%5D%2C%20%5B37.864701%2C%20-122.260693%5D%2C%20%5B37.859881%2C%20-122.285128%5D%2C%20%5B37.863893%2C%20-122.251422%5D%2C%20%5B37.876045%2C%20-122.260336%5D%2C%20%5B37.880803%2C%20-122.274005%5D%2C%20%5B37.862927%2C%20-122.258784%5D%2C%20%5B37.880756%2C%20-122.303056%5D%2C%20%5B37.850809%2C%20-122.291042%5D%2C%20%5B37.868667%2C%20-122.313656%5D%2C%20%5B37.869448%2C%20-122.281783%5D%2C%20%5B37.869293%2C%20-122.296976%5D%2C%20%5B37.870924%2C%20-122.277518%5D%2C%20%5B37.858116%2C%20-122.268002%5D%2C%20%5B37.887843%2C%20-122.270011%5D%2C%20%5B37.856132%2C%20-122.271292%5D%2C%20%5B37.853959%2C%20-122.284067%5D%2C%20%5B37.872656%2C%20-122.292748%5D%2C%20%5B37.880787%2C%20-122.277865%5D%2C%20%5B37.858392%2C%20-122.275421%5D%2C%20%5B37.849609%2C%20-122.282%5D%2C%20%5B37.870054%2C%20-122.284263%5D%2C%20%5B37.871246%2C%20-122.274991%5D%2C%20%5B37.865511%2C%20-122.309967%5D%2C%20%5B37.883948%2C%20-122.296991%5D%2C%20%5B37.858525%2C%20-122.266906%5D%2C%20%5B37.867176%2C%20-122.267802%5D%2C%20%5B37.890977%2C%20-122.259745%5D%2C%20%5B37.872499%2C%20-122.286632%5D%2C%20%5B37.867176%2C%20-122.267802%5D%2C%20%5B37.871698%2C%20-122.300095%5D%2C%20%5B37.868913%2C%20-122.28608%5D%2C%20%5B37.858116%2C%20-122.268002%5D%2C%20%5B37.871265%2C%20-122.295043%5D%2C%20%5B37.8719%2C%20-122.268389%5D%2C%20%5B37.872175%2C%20-122.267835%5D%2C%20%5B37.873976%2C%20-122.282257%5D%2C%20%5B37.862927%2C%20-122.258784%5D%2C%20%5B37.878405%2C%20-122.306072%5D%2C%20%5B37.868785%2C%20-122.272701%5D%2C%20%5B37.870205%2C%20-122.292581%5D%2C%20%5B37.880245%2C%20-122.296973%5D%2C%20%5B37.877863%2C%20-122.308855%5D%2C%20%5B37.854534%2C%20-122.281798%5D%2C%20%5B37.869764%2C%20-122.28655%5D%2C%20%5B37.868532%2C%20-122.274764%5D%2C%20%5B37.869113%2C%20-122.250903%5D%2C%20%5B37.863611%2C%20-122.317566%5D%2C%20%5B37.86939%2C%20-122.267883%5D%2C%20%5B37.870287%2C%20-122.316238%5D%2C%20%5B37.868667%2C%20-122.313656%5D%2C%20%5B37.881957%2C%20-122.269551%5D%2C%20%5B37.859259%2C%20-122.275787%5D%2C%20%5B37.85968%2C%20-122.255796%5D%2C%20%5B37.871167%2C%20-122.268285%5D%2C%20%5B37.858392%2C%20-122.275421%5D%2C%20%5B37.864036%2C%20-122.250272%5D%2C%20%5B37.88014%2C%20-122.297498%5D%2C%20%5B37.867822%2C%20-122.266003%5D%2C%20%5B37.868815%2C%20-122.292131%5D%2C%20%5B37.878571%2C%20-122.282954%5D%2C%20%5B37.870054%2C%20-122.284263%5D%2C%20%5B37.854534%2C%20-122.281798%5D%2C%20%5B37.870054%2C%20-122.284263%5D%2C%20%5B37.875113%2C%20-122.273413%5D%2C%20%5B37.856848%2C%20-122.288122%5D%2C%20%5B37.878407%2C%20-122.267962%5D%2C%20%5B37.869688%2C%20-122.272805%5D%2C%20%5B37.871167%2C%20-122.268285%5D%2C%20%5B37.869105%2C%20-122.270064%5D%2C%20%5B37.88014%2C%20-122.297498%5D%2C%20%5B37.873687%2C%20-122.268616%5D%2C%20%5B37.878571%2C%20-122.282954%5D%2C%20%5B37.88014%2C%20-122.297498%5D%2C%20%5B37.864827%2C%20-122.258577%5D%2C%20%5B37.883072%2C%20-122.291168%5D%2C%20%5B37.868815%2C%20-122.292131%5D%2C%20%5B37.865443%2C%20-122.263189%5D%2C%20%5B37.856111%2C%20-122.260248%5D%2C%20%5B37.881788%2C%20-122.270678%5D%2C%20%5B37.865748%2C%20-122.253396%5D%2C%20%5B37.899602%2C%20-122.271102%5D%2C%20%5B37.867513%2C%20-122.281165%5D%2C%20%5B37.87325%2C%20-122.293558%5D%2C%20%5B37.877309%2C%20-122.266712%5D%2C%20%5B37.863839%2C%20-122.281391%5D%2C%20%5B37.876307%2C%20-122.268923%5D%2C%20%5B37.869067%2C%20-122.292043%5D%2C%20%5B37.861129%2C%20-122.273879%5D%2C%20%5B37.851017%2C%20-122.291088%5D%2C%20%5B37.887298%2C%20-122.264457%5D%2C%20%5B37.870287%2C%20-122.316238%5D%2C%20%5B37.869363%2C%20-122.268028%5D%2C%20%5B37.871167%2C%20-122.268285%5D%2C%20%5B37.867843%2C%20-122.247802%5D%2C%20%5B37.853552%2C%20-122.291561%5D%2C%20%5B37.868164%2C%20-122.256314%5D%2C%20%5B37.861573%2C%20-122.257452%5D%2C%20%5B37.860732%2C%20-122.291369%5D%2C%20%5B37.880228%2C%20-122.295798%5D%2C%20%5B37.878239%2C%20-122.288374%5D%2C%20%5B37.892524%2C%20-122.256323%5D%2C%20%5B37.861677%2C%20-122.26716%5D%2C%20%5B37.879273%2C%20-122.255986%5D%2C%20%5B37.876428%2C%20-122.291736%5D%2C%20%5B37.870948%2C%20-122.27733%5D%2C%20%5B37.880228%2C%20-122.295798%5D%2C%20%5B37.864827%2C%20-122.258577%5D%2C%20%5B37.852304%2C%20-122.270045%5D%2C%20%5B37.856088%2C%20-122.29274%5D%2C%20%5B37.868641%2C%20-122.29415%5D%2C%20%5B37.881957%2C%20-122.269551%5D%2C%20%5B37.870054%2C%20-122.284263%5D%2C%20%5B37.871167%2C%20-122.268285%5D%2C%20%5B37.878056%2C%20-122.258553%5D%2C%20%5B37.870639%2C%20-122.272468%5D%2C%20%5B37.873807%2C%20-122.269211%5D%2C%20%5B37.894661%2C%20-122.27503%5D%2C%20%5B37.869067%2C%20-122.292043%5D%2C%20%5B37.865772%2C%20-122.267643%5D%2C%20%5B37.864701%2C%20-122.260693%5D%2C%20%5B37.854833%2C%20-122.279839%5D%2C%20%5B37.878997%2C%20-122.264607%5D%2C%20%5B37.869688%2C%20-122.272805%5D%2C%20%5B37.858116%2C%20-122.268002%5D%2C%20%5B37.864238%2C%20-122.265263%5D%2C%20%5B37.863811%2C%20-122.267412%5D%2C%20%5B37.891095%2C%20-122.284247%5D%2C%20%5B37.870054%2C%20-122.284263%5D%2C%20%5B37.85583%2C%20-122.27339%5D%2C%20%5B37.888053%2C%20-122.253497%5D%2C%20%5B37.869688%2C%20-122.272805%5D%2C%20%5B37.867176%2C%20-122.267802%5D%2C%20%5B37.870549%2C%20-122.275186%5D%2C%20%5B37.864238%2C%20-122.265263%5D%2C%20%5B37.848152%2C%20-122.275807%5D%2C%20%5B37.850899%2C%20-122.276174%5D%2C%20%5B37.858116%2C%20-122.268002%5D%2C%20%5B37.871167%2C%20-122.268285%5D%2C%20%5B37.859589%2C%20-122.257019%5D%2C%20%5B37.864827%2C%20-122.258577%5D%2C%20%5B37.902692%2C%20-122.264479%5D%2C%20%5B37.868352%2C%20-122.254459%5D%2C%20%5B37.868641%2C%20-122.29415%5D%2C%20%5B37.880312%2C%20-122.296641%5D%2C%20%5B37.869363%2C%20-122.268028%5D%2C%20%5B37.858116%2C%20-122.268002%5D%2C%20%5B37.893148%2C%20-122.274809%5D%2C%20%5B37.858116%2C%20-122.268002%5D%2C%20%5B37.88014%2C%20-122.297498%5D%2C%20%5B37.858147%2C%20-122.2848%5D%2C%20%5B37.861843%2C%20-122.269644%5D%2C%20%5B37.882899%2C%20-122.292918%5D%2C%20%5B37.868815%2C%20-122.292131%5D%2C%20%5B37.866513%2C%20-122.27474%5D%2C%20%5B37.866025%2C%20-122.258623%5D%2C%20%5B37.892524%2C%20-122.256323%5D%2C%20%5B37.884902%2C%20-122.24847%5D%2C%20%5B37.87795%2C%20-122.259386%5D%2C%20%5B37.883948%2C%20-122.296991%5D%2C%20%5B37.864827%2C%20-122.258577%5D%2C%20%5B37.873687%2C%20-122.268616%5D%2C%20%5B37.874929%2C%20-122.267601%5D%2C%20%5B37.868785%2C%20-122.272701%5D%2C%20%5B37.857452%2C%20-122.259548%5D%2C%20%5B37.858116%2C%20-122.268002%5D%2C%20%5B37.869688%2C%20-122.272805%5D%2C%20%5B37.889989%2C%20-122.252226%5D%2C%20%5B37.853554%2C%20-122.276925%5D%2C%20%5B37.869332%2C%20-122.25019%5D%2C%20%5B37.878407%2C%20-122.267962%5D%2C%20%5B37.871167%2C%20-122.268285%5D%2C%20%5B37.871486%2C%20-122.300027%5D%2C%20%5B37.871246%2C%20-122.274991%5D%2C%20%5B37.866293%2C%20-122.30551%5D%2C%20%5B37.864701%2C%20-122.260693%5D%2C%20%5B37.868714%2C%20-122.259189%5D%2C%20%5B37.877528%2C%20-122.275956%5D%2C%20%5B37.868714%2C%20-122.259189%5D%2C%20%5B37.863353%2C%20-122.272097%5D%2C%20%5B37.857787%2C%20-122.257013%5D%2C%20%5B37.88788%2C%20-122.272336%5D%2C%20%5B37.868595%2C%20-122.273835%5D%2C%20%5B37.865149%2C%20-122.256487%5D%2C%20%5B37.868706%2C%20-122.266279%5D%2C%20%5B37.881164%2C%20-122.292378%5D%2C%20%5B37.880227%2C%20-122.26936%5D%2C%20%5B37.854286%2C%20-122.271015%5D%2C%20%5B37.864238%2C%20-122.265263%5D%2C%20%5B37.86626%2C%20-122.298335%5D%2C%20%5B37.866074%2C%20-122.26331%5D%2C%20%5B37.870145%2C%20-122.276287%5D%2C%20%5B37.868815%2C%20-122.292131%5D%2C%20%5B37.871167%2C%20-122.268285%5D%2C%20%5B37.880787%2C%20-122.277865%5D%2C%20%5B37.871246%2C%20-122.274991%5D%2C%20%5B37.858116%2C%20-122.268002%5D%2C%20%5B37.866936%2C%20-122.296218%5D%2C%20%5B37.865772%2C%20-122.267643%5D%2C%20%5B37.883103%2C%20-122.261459%5D%2C%20%5B37.874251%2C%20-122.280203%5D%2C%20%5B37.869084%2C%20-122.299245%5D%2C%20%5B37.861843%2C%20-122.269644%5D%2C%20%5B37.882033%2C%20-122.296381%5D%2C%20%5B37.860732%2C%20-122.291369%5D%2C%20%5B37.88014%2C%20-122.297498%5D%2C%20%5B37.871246%2C%20-122.274991%5D%2C%20%5B37.860768%2C%20-122.278249%5D%2C%20%5B37.871246%2C%20-122.274991%5D%2C%20%5B37.844763%2C%20-122.284231%5D%2C%20%5B37.873017%2C%20-122.275481%5D%2C%20%5B37.860225%2C%20-122.269453%5D%2C%20%5B37.87325%2C%20-122.293558%5D%2C%20%5B37.873687%2C%20-122.268616%5D%2C%20%5B37.880477%2C%20-122.265919%5D%2C%20%5B37.873085%2C%20-122.273187%5D%2C%20%5B37.871167%2C%20-122.268285%5D%2C%20%5B37.861081%2C%20-122.275984%5D%2C%20%5B37.869688%2C%20-122.272805%5D%2C%20%5B37.856111%2C%20-122.260248%5D%2C%20%5B37.85489%2C%20-122.252564%5D%2C%20%5B37.855435%2C%20-122.259841%5D%2C%20%5B37.877047%2C%20-122.286183%5D%2C%20%5B37.876921%2C%20-122.265567%5D%2C%20%5B37.870205%2C%20-122.292581%5D%2C%20%5B37.865511%2C%20-122.309967%5D%2C%20%5B37.855935%2C%20-122.250579%5D%2C%20%5B37.862763%2C%20-122.262639%5D%2C%20%5B37.866929%2C%20-122.295042%5D%2C%20%5B37.853143%2C%20-122.264085%5D%2C%20%5B37.866969%2C%20-122.26553%5D%2C%20%5B37.877247%2C%20-122.27708%5D%2C%20%5B37.880312%2C%20-122.296641%5D%2C%20%5B37.865349%2C%20-122.28377%5D%2C%20%5B37.870054%2C%20-122.284263%5D%2C%20%5B37.871167%2C%20-122.268285%5D%2C%20%5B37.863823%2C%20-122.252575%5D%2C%20%5B37.875053%2C%20-122.26548%5D%2C%20%5B37.871167%2C%20-122.268285%5D%2C%20%5B37.869105%2C%20-122.270064%5D%2C%20%5B37.863934%2C%20-122.250262%5D%2C%20%5B37.868706%2C%20-122.266279%5D%2C%20%5B37.890706%2C%20-122.267186%5D%2C%20%5B37.879689%2C%20-122.271614%5D%2C%20%5B37.889482%2C%20-122.281718%5D%2C%20%5B37.866568%2C%20-122.254084%5D%2C%20%5B37.88014%2C%20-122.297498%5D%2C%20%5B37.880266%2C%20-122.269032%5D%2C%20%5B37.868263%2C%20-122.296013%5D%2C%20%5B37.880228%2C%20-122.295798%5D%2C%20%5B37.869888%2C%20-122.300618%5D%2C%20%5B37.863353%2C%20-122.272097%5D%2C%20%5B37.884743%2C%20-122.250296%5D%2C%20%5B37.894233%2C%20-122.260552%5D%2C%20%5B37.882033%2C%20-122.296381%5D%2C%20%5B37.86771%2C%20-122.298466%5D%2C%20%5B37.853959%2C%20-122.28016%5D%2C%20%5B37.871167%2C%20-122.268285%5D%2C%20%5B37.851263%2C%20-122.252477%5D%2C%20%5B37.869839%2C%20-122.252365%5D%2C%20%5B37.855998%2C%20-122.271278%5D%2C%20%5B37.863072%2C%20-122.260352%5D%2C%20%5B37.896776%2C%20-122.281277%5D%2C%20%5B37.882825%2C%20-122.297836%5D%2C%20%5B37.870652%2C%20-122.27958%5D%2C%20%5B37.851653%2C%20-122.289194%5D%2C%20%5B37.881191%2C%20-122.271769%5D%2C%20%5B37.865202%2C%20-122.257795%5D%2C%20%5B37.851503%2C%20-122.278518%5D%2C%20%5B37.88055%2C%20-122.304962%5D%2C%20%5B37.859309%2C%20-122.259291%5D%2C%20%5B37.853552%2C%20-122.291561%5D%2C%20%5B37.896703%2C%20-122.284274%5D%2C%20%5B37.87199%2C%20-122.268396%5D%2C%20%5B37.85306%2C%20-122.281362%5D%2C%20%5B37.853864%2C%20-122.285643%5D%2C%20%5B37.862927%2C%20-122.258784%5D%2C%20%5B37.871265%2C%20-122.295043%5D%2C%20%5B37.858116%2C%20-122.268002%5D%2C%20%5B37.867212%2C%20-122.281739%5D%2C%20%5B37.896956%2C%20-122.261613%5D%2C%20%5B37.863292%2C%20-122.256293%5D%2C%20%5B37.862927%2C%20-122.258784%5D%2C%20%5B37.853554%2C%20-122.276925%5D%2C%20%5B37.86771%2C%20-122.298466%5D%2C%20%5B37.863385%2C%20-122.290219%5D%2C%20%5B37.869105%2C%20-122.270064%5D%2C%20%5B37.865149%2C%20-122.256487%5D%2C%20%5B37.858448%2C%20-122.282308%5D%2C%20%5B37.883555%2C%20-122.272036%5D%2C%20%5B37.876307%2C%20-122.268923%5D%2C%20%5B37.868352%2C%20-122.254459%5D%2C%20%5B37.867708%2C%20-122.250801%5D%2C%20%5B37.870639%2C%20-122.272468%5D%2C%20%5B37.867822%2C%20-122.266003%5D%2C%20%5B37.858116%2C%20-122.268002%5D%2C%20%5B37.854534%2C%20-122.281798%5D%2C%20%5B37.861078%2C%20-122.289632%5D%2C%20%5B37.875391%2C%20-122.271141%5D%2C%20%5B37.856719%2C%20-122.266672%5D%2C%20%5B37.896395%2C%20-122.285494%5D%2C%20%5B37.864701%2C%20-122.260693%5D%2C%20%5B37.854985%2C%20-122.293982%5D%2C%20%5B37.870054%2C%20-122.284263%5D%2C%20%5B37.865149%2C%20-122.256487%5D%2C%20%5B37.869105%2C%20-122.270064%5D%2C%20%5B37.870054%2C%20-122.284263%5D%2C%20%5B37.875922%2C%20-122.29441%5D%2C%20%5B37.862817%2C%20-122.298359%5D%2C%20%5B37.882033%2C%20-122.296381%5D%2C%20%5B37.880312%2C%20-122.296641%5D%2C%20%5B37.88014%2C%20-122.297498%5D%2C%20%5B37.846404%2C%20-122.275263%5D%2C%20%5B37.881141%2C%20-122.275177%5D%2C%20%5B37.880228%2C%20-122.295798%5D%2C%20%5B37.858116%2C%20-122.268002%5D%2C%20%5B37.867947%2C%20-122.257926%5D%2C%20%5B37.862927%2C%20-122.258784%5D%2C%20%5B37.876339%2C%20-122.285012%5D%2C%20%5B37.891332%2C%20-122.279975%5D%2C%20%5B37.880248%2C%20-122.285626%5D%2C%20%5B37.853576%2C%20-122.287202%5D%2C%20%5B37.874489%2C%20-122.271072%5D%2C%20%5B37.866739%2C%20-122.267299%5D%2C%20%5B37.868759%2C%20-122.297933%5D%2C%20%5B37.896431%2C%20-122.278418%5D%2C%20%5B37.875391%2C%20-122.271141%5D%2C%20%5B37.868699%2C%20-122.287718%5D%2C%20%5B37.854536%2C%20-122.266403%5D%2C%20%5B37.869084%2C%20-122.299245%5D%2C%20%5B37.856755%2C%20-122.255248%5D%2C%20%5B37.891214%2C%20-122.282158%5D%2C%20%5B37.858116%2C%20-122.268002%5D%2C%20%5B37.87325%2C%20-122.293558%5D%2C%20%5B37.877596%2C%20-122.28657%5D%2C%20%5B37.855969%2C%20-122.236484%5D%2C%20%5B37.85062%2C%20-122.278313%5D%2C%20%5B37.889482%2C%20-122.281718%5D%2C%20%5B37.875189%2C%20-122.294176%5D%2C%20%5B37.88014%2C%20-122.297498%5D%2C%20%5B37.861571%2C%20-122.271722%5D%2C%20%5B37.868815%2C%20-122.292131%5D%2C%20%5B37.865772%2C%20-122.267643%5D%2C%20%5B37.869363%2C%20-122.268028%5D%2C%20%5B37.866426%2C%20-122.269762%5D%2C%20%5B37.868714%2C%20-122.259189%5D%2C%20%5B37.864827%2C%20-122.258577%5D%2C%20%5B37.864226%2C%20-122.277937%5D%2C%20%5B37.862927%2C%20-122.258784%5D%2C%20%5B37.868263%2C%20-122.296013%5D%2C%20%5B37.868667%2C%20-122.313656%5D%2C%20%5B37.867852%2C%20-122.258699%5D%2C%20%5B37.864826%2C%20-122.260719%5D%2C%20%5B37.858116%2C%20-122.268002%5D%2C%20%5B37.883948%2C%20-122.296991%5D%2C%20%5B37.868785%2C%20-122.272701%5D%2C%20%5B37.867551%2C%20-122.297541%5D%2C%20%5B37.868263%2C%20-122.296013%5D%2C%20%5B37.861078%2C%20-122.289632%5D%2C%20%5B37.898168%2C%20-122.262253%5D%2C%20%5B37.891332%2C%20-122.279975%5D%2C%20%5B37.887344%2C%20-122.277321%5D%2C%20%5B37.858116%2C%20-122.268002%5D%2C%20%5B37.879968%2C%20-122.296885%5D%2C%20%5B37.855408%2C%20-122.276149%5D%2C%20%5B37.880859%2C%20-122.287774%5D%2C%20%5B37.870054%2C%20-122.284263%5D%2C%20%5B37.862635%2C%20-122.293663%5D%2C%20%5B37.865793%2C%20-122.301779%5D%2C%20%5B37.868785%2C%20-122.272701%5D%2C%20%5B37.857099%2C%20-122.263785%5D%2C%20%5B37.870396%2C%20-122.281585%5D%2C%20%5B37.86542%2C%20-122.25618%5D%2C%20%5B37.873687%2C%20-122.268616%5D%2C%20%5B37.871167%2C%20-122.268285%5D%2C%20%5B37.863679%2C%20-122.269631%5D%2C%20%5B37.863934%2C%20-122.250262%5D%2C%20%5B37.858759%2C%20-122.264112%5D%2C%20%5B37.86771%2C%20-122.298466%5D%2C%20%5B37.853111%2C%20-122.266049%5D%2C%20%5B37.86476%2C%20-122.297852%5D%2C%20%5B37.885032%2C%20-122.274324%5D%2C%20%5B37.877663%2C%20-122.274831%5D%2C%20%5B37.852618%2C%20-122.283677%5D%2C%20%5B37.871246%2C%20-122.274991%5D%2C%20%5B37.870287%2C%20-122.316238%5D%2C%20%5B37.858448%2C%20-122.282308%5D%2C%20%5B37.878407%2C%20-122.267962%5D%2C%20%5B37.867501%2C%20-122.291709%5D%2C%20%5B37.864061%2C%20-122.29877%5D%2C%20%5B37.880803%2C%20-122.274005%5D%2C%20%5B37.870287%2C%20-122.316238%5D%2C%20%5B37.848152%2C%20-122.275807%5D%2C%20%5B37.894468%2C%20-122.265464%5D%2C%20%5B37.866563%2C%20-122.297217%5D%2C%20%5B37.860105%2C%20-122.261901%5D%2C%20%5B37.857899%2C%20-122.254371%5D%2C%20%5B37.879968%2C%20-122.296885%5D%2C%20%5B37.858116%2C%20-122.268002%5D%2C%20%5B37.888072%2C%20-122.272344%5D%2C%20%5B37.872499%2C%20-122.286632%5D%2C%20%5B37.871167%2C%20-122.268285%5D%2C%20%5B37.870054%2C%20-122.284263%5D%2C%20%5B37.854833%2C%20-122.279839%5D%2C%20%5B37.863611%2C%20-122.317566%5D%2C%20%5B37.861387%2C%20-122.259001%5D%2C%20%5B37.869888%2C%20-122.300618%5D%2C%20%5B37.877482%2C%20-122.256109%5D%2C%20%5B37.848774%2C%20-122.271171%5D%2C%20%5B37.880312%2C%20-122.296641%5D%2C%20%5B37.877678%2C%20-122.281631%5D%2C%20%5B37.881164%2C%20-122.292378%5D%2C%20%5B37.866629%2C%20-122.300423%5D%2C%20%5B37.867708%2C%20-122.250801%5D%2C%20%5B37.850387%2C%20-122.276278%5D%2C%20%5B37.859906%2C%20-122.284931%5D%2C%20%5B37.856488%2C%20-122.257329%5D%2C%20%5B37.868815%2C%20-122.292131%5D%2C%20%5B37.846443%2C%20-122.274971%5D%2C%20%5B37.89977%2C%20-122.275237%5D%2C%20%5B37.868164%2C%20-122.256314%5D%2C%20%5B37.854215%2C%20-122.269167%5D%2C%20%5B37.880376%2C%20-122.268183%5D%2C%20%5B37.85306%2C%20-122.281362%5D%2C%20%5B37.88014%2C%20-122.297498%5D%2C%20%5B37.869067%2C%20-122.292043%5D%2C%20%5B37.878868%2C%20-122.290083%5D%2C%20%5B37.867176%2C%20-122.267802%5D%2C%20%5B37.860225%2C%20-122.269453%5D%2C%20%5B37.871167%2C%20-122.268285%5D%2C%20%5B37.848774%2C%20-122.271171%5D%2C%20%5B37.864705%2C%20-122.258463%5D%2C%20%5B37.870948%2C%20-122.27733%5D%2C%20%5B37.854186%2C%20-122.279157%5D%2C%20%5B37.877835%2C%20-122.260354%5D%2C%20%5B37.866174%2C%20-122.26454%5D%2C%20%5B37.888199%2C%20-122.250826%5D%2C%20%5B37.888842%2C%20-122.254155%5D%2C%20%5B37.863679%2C%20-122.269631%5D%2C%20%5B37.893448%2C%20-122.272137%5D%2C%20%5B37.871369%2C%20-122.292954%5D%2C%20%5B37.868913%2C%20-122.28608%5D%2C%20%5B37.850385%2C%20-122.270897%5D%2C%20%5B37.86466%2C%20-122.257744%5D%2C%20%5B37.880266%2C%20-122.269032%5D%2C%20%5B37.858116%2C%20-122.268002%5D%2C%20%5B37.862927%2C%20-122.258784%5D%2C%20%5B37.880228%2C%20-122.295798%5D%2C%20%5B37.854833%2C%20-122.279839%5D%2C%20%5B37.86825%2C%20-122.300093%5D%2C%20%5B37.860225%2C%20-122.269453%5D%2C%20%5B37.867852%2C%20-122.258699%5D%2C%20%5B37.887344%2C%20-122.277321%5D%2C%20%5B37.858116%2C%20-122.268002%5D%2C%20%5B37.867176%2C%20-122.267802%5D%2C%20%5B37.869688%2C%20-122.272805%5D%2C%20%5B37.856088%2C%20-122.29274%5D%2C%20%5B37.899349%2C%20-122.260994%5D%2C%20%5B37.88014%2C%20-122.297498%5D%2C%20%5B37.880312%2C%20-122.296641%5D%2C%20%5B37.868641%2C%20-122.29415%5D%2C%20%5B37.87662%2C%20-122.29269%5D%2C%20%5B37.871167%2C%20-122.268285%5D%2C%20%5B37.867176%2C%20-122.267802%5D%2C%20%5B37.867551%2C%20-122.297541%5D%2C%20%5B37.867947%2C%20-122.257926%5D%2C%20%5B37.861409%2C%20-122.253481%5D%2C%20%5B37.889399%2C%20-122.262594%5D%2C%20%5B37.858116%2C%20-122.268002%5D%2C%20%5B37.890928%2C%20-122.287251%5D%2C%20%5B37.858116%2C%20-122.268002%5D%2C%20%5B37.868641%2C%20-122.29415%5D%2C%20%5B37.857776%2C%20-122.286576%5D%2C%20%5B37.861118%2C%20-122.259948%5D%2C%20%5B37.855042%2C%20-122.284746%5D%2C%20%5B37.870948%2C%20-122.27733%5D%2C%20%5B37.876595%2C%20-122.267789%5D%2C%20%5B37.858116%2C%20-122.268002%5D%2C%20%5B37.862927%2C%20-122.258784%5D%2C%20%5B37.867513%2C%20-122.25195%5D%2C%20%5B37.870054%2C%20-122.284263%5D%2C%20%5B37.86939%2C%20-122.267883%5D%2C%20%5B37.869688%2C%20-122.272805%5D%2C%20%5B37.867176%2C%20-122.267802%5D%2C%20%5B37.899602%2C%20-122.271102%5D%2C%20%5B37.869764%2C%20-122.28655%5D%2C%20%5B37.861283%2C%20-122.273911%5D%2C%20%5B37.870924%2C%20-122.277518%5D%2C%20%5B37.881957%2C%20-122.269551%5D%2C%20%5B37.891332%2C%20-122.279975%5D%2C%20%5B37.862024%2C%20-122.251212%5D%2C%20%5B37.863611%2C%20-122.317566%5D%2C%20%5B37.854536%2C%20-122.266403%5D%2C%20%5B37.868263%2C%20-122.296013%5D%2C%20%5B37.858116%2C%20-122.268002%5D%2C%20%5B37.876921%2C%20-122.265567%5D%2C%20%5B37.866924%2C%20-122.283899%5D%2C%20%5B37.858116%2C%20-122.268002%5D%2C%20%5B37.879058%2C%20-122.282584%5D%2C%20%5B37.850001%2C%20-122.275963%5D%2C%20%5B37.869332%2C%20-122.25019%5D%2C%20%5B37.861843%2C%20-122.269644%5D%2C%20%5B37.858116%2C%20-122.268002%5D%2C%20%5B37.862927%2C%20-122.258784%5D%2C%20%5B37.872175%2C%20-122.267835%5D%2C%20%5B37.874781%2C%20-122.268758%5D%2C%20%5B37.875308%2C%20-122.30592%5D%2C%20%5B37.88014%2C%20-122.297498%5D%2C%20%5B37.898162%2C%20-122.286279%5D%2C%20%5B37.870054%2C%20-122.284263%5D%2C%20%5B37.862927%2C%20-122.258784%5D%2C%20%5B37.858392%2C%20-122.275421%5D%2C%20%5B37.870948%2C%20-122.27733%5D%2C%20%5B37.856968%2C%20-122.279544%5D%2C%20%5B37.855435%2C%20-122.259841%5D%2C%20%5B37.881004%2C%20-122.283225%5D%2C%20%5B37.855969%2C%20-122.236484%5D%2C%20%5B37.870924%2C%20-122.277518%5D%2C%20%5B37.852211%2C%20-122.286336%5D%2C%20%5B37.881957%2C%20-122.269551%5D%2C%20%5B37.869113%2C%20-122.250903%5D%2C%20%5B37.869113%2C%20-122.250903%5D%2C%20%5B37.871167%2C%20-122.268285%5D%2C%20%5B37.88014%2C%20-122.297498%5D%2C%20%5B37.865511%2C%20-122.309967%5D%2C%20%5B37.862024%2C%20-122.251212%5D%2C%20%5B37.856111%2C%20-122.260248%5D%2C%20%5B37.866761%2C%20-122.258779%5D%2C%20%5B37.881788%2C%20-122.270678%5D%2C%20%5B37.870205%2C%20-122.292581%5D%2C%20%5B37.859216%2C%20-122.26855%5D%2C%20%5B37.871246%2C%20-122.274991%5D%2C%20%5B37.869764%2C%20-122.28655%5D%2C%20%5B37.870054%2C%20-122.284263%5D%2C%20%5B37.862059%2C%20-122.274073%5D%2C%20%5B37.865511%2C%20-122.309967%5D%2C%20%5B37.867176%2C%20-122.267802%5D%2C%20%5B37.867513%2C%20-122.25195%5D%2C%20%5B37.869363%2C%20-122.268028%5D%2C%20%5B37.867643%2C%20-122.280643%5D%2C%20%5B37.852304%2C%20-122.270045%5D%2C%20%5B37.860766%2C%20-122.255895%5D%2C%20%5B37.864827%2C%20-122.258577%5D%2C%20%5B37.904235%2C%20-122.26951%5D%2C%20%5B37.850175%2C%20-122.293099%5D%2C%20%5B37.851653%2C%20-122.289194%5D%2C%20%5B37.871167%2C%20-122.268285%5D%2C%20%5B37.854215%2C%20-122.269167%5D%2C%20%5B37.892137%2C%20-122.269182%5D%2C%20%5B37.855998%2C%20-122.271278%5D%2C%20%5B37.871828%2C%20-122.270516%5D%2C%20%5B37.85525%2C%20-122.277126%5D%2C%20%5B37.891594%2C%20-122.264883%5D%2C%20%5B37.869105%2C%20-122.270064%5D%2C%20%5B37.859184%2C%20-122.289022%5D%2C%20%5B37.859665%2C%20-122.27169%5D%2C%20%5B37.881957%2C%20-122.269551%5D%2C%20%5B37.858116%2C%20-122.268002%5D%2C%20%5B37.865059%2C%20-122.272291%5D%2C%20%5B37.877247%2C%20-122.27708%5D%2C%20%5B37.871265%2C%20-122.295043%5D%2C%20%5B37.877951%2C%20-122.271395%5D%2C%20%5B37.858116%2C%20-122.268002%5D%2C%20%5B37.865202%2C%20-122.257795%5D%2C%20%5B37.859665%2C%20-122.27169%5D%2C%20%5B37.867501%2C%20-122.291709%5D%2C%20%5B37.873739%2C%20-122.275557%5D%2C%20%5B37.858116%2C%20-122.268002%5D%2C%20%5B37.866761%2C%20-122.258779%5D%2C%20%5B37.862763%2C%20-122.262639%5D%2C%20%5B37.88055%2C%20-122.304962%5D%2C%20%5B37.866568%2C%20-122.254084%5D%2C%20%5B37.863679%2C%20-122.269631%5D%2C%20%5B37.859195%2C%20-122.261915%5D%2C%20%5B37.85108%2C%20-122.293322%5D%2C%20%5B37.855293%2C%20-122.266502%5D%2C%20%5B37.864705%2C%20-122.258463%5D%2C%20%5B37.882706%2C%20-122.263356%5D%2C%20%5B37.882033%2C%20-122.296381%5D%2C%20%5B37.857495%2C%20-122.275256%5D%2C%20%5B37.861571%2C%20-122.271722%5D%2C%20%5B37.870086%2C%20-122.265901%5D%2C%20%5B37.866969%2C%20-122.26553%5D%2C%20%5B37.867176%2C%20-122.267802%5D%2C%20%5B37.85525%2C%20-122.277126%5D%2C%20%5B37.858116%2C%20-122.268002%5D%2C%20%5B37.893448%2C%20-122.272137%5D%2C%20%5B37.849609%2C%20-122.282%5D%2C%20%5B37.857452%2C%20-122.259548%5D%2C%20%5B37.86939%2C%20-122.267883%5D%2C%20%5B37.868641%2C%20-122.29415%5D%2C%20%5B37.878837%2C%20-122.285555%5D%2C%20%5B37.865034%2C%20-122.297939%5D%2C%20%5B37.868785%2C%20-122.272701%5D%2C%20%5B37.868641%2C%20-122.29415%5D%2C%20%5B37.869105%2C%20-122.270064%5D%2C%20%5B37.882033%2C%20-122.296381%5D%2C%20%5B37.867176%2C%20-122.267802%5D%2C%20%5B37.876307%2C%20-122.268923%5D%2C%20%5B37.882033%2C%20-122.296381%5D%2C%20%5B37.847908%2C%20-122.277685%5D%2C%20%5B37.869764%2C%20-122.28655%5D%2C%20%5B37.855408%2C%20-122.276149%5D%2C%20%5B37.867176%2C%20-122.267802%5D%2C%20%5B37.851203%2C%20-122.289129%5D%2C%20%5B37.875391%2C%20-122.271141%5D%2C%20%5B37.856111%2C%20-122.260248%5D%2C%20%5B37.879677%2C%20-122.299779%5D%2C%20%5B37.865793%2C%20-122.301779%5D%2C%20%5B37.869688%2C%20-122.272805%5D%2C%20%5B37.873607%2C%20-122.270903%5D%2C%20%5B37.869385%2C%20-122.28953%5D%2C%20%5B37.867176%2C%20-122.267802%5D%2C%20%5B37.874581%2C%20-122.277744%5D%2C%20%5B37.871369%2C%20-122.292954%5D%2C%20%5B37.883948%2C%20-122.296991%5D%2C%20%5B37.882825%2C%20-122.297836%5D%2C%20%5B37.878407%2C%20-122.267962%5D%2C%20%5B37.858518%2C%20-122.252653%5D%2C%20%5B37.869888%2C%20-122.300618%5D%2C%20%5B37.862927%2C%20-122.258784%5D%2C%20%5B37.897333%2C%20-122.276042%5D%2C%20%5B37.855684%2C%20-122.263491%5D%2C%20%5B37.858214%2C%20-122.269252%5D%2C%20%5B37.869688%2C%20-122.272805%5D%2C%20%5B37.868108%2C%20-122.277222%5D%2C%20%5B37.869289%2C%20-122.28081%5D%2C%20%5B37.847888%2C%20-122.275752%5D%2C%20%5B37.863611%2C%20-122.317566%5D%2C%20%5B37.867176%2C%20-122.267802%5D%2C%20%5B37.854186%2C%20-122.279157%5D%2C%20%5B37.848812%2C%20-122.278043%5D%2C%20%5B37.863072%2C%20-122.260352%5D%2C%20%5B37.883948%2C%20-122.296991%5D%2C%20%5B37.868532%2C%20-122.274764%5D%2C%20%5B37.873017%2C%20-122.275481%5D%2C%20%5B37.882033%2C%20-122.296381%5D%2C%20%5B37.865511%2C%20-122.309967%5D%2C%20%5B37.869764%2C%20-122.28655%5D%2C%20%5B37.877625%2C%20-122.294534%5D%2C%20%5B37.873327%2C%20-122.273214%5D%2C%20%5B37.868714%2C%20-122.259189%5D%2C%20%5B37.863679%2C%20-122.269631%5D%2C%20%5B37.876921%2C%20-122.265567%5D%2C%20%5B37.881957%2C%20-122.269551%5D%2C%20%5B37.867176%2C%20-122.267802%5D%2C%20%5B37.871246%2C%20-122.274991%5D%2C%20%5B37.880734%2C%20-122.265359%5D%2C%20%5B37.858392%2C%20-122.275421%5D%2C%20%5B37.88014%2C%20-122.297498%5D%2C%20%5B37.882482%2C%20-122.261872%5D%2C%20%5B37.864079%2C%20-122.266509%5D%2C%20%5B37.876428%2C%20-122.291736%5D%2C%20%5B37.851477%2C%20-122.278651%5D%2C%20%5B37.88014%2C%20-122.297498%5D%2C%20%5B37.869688%2C%20-122.272805%5D%2C%20%5B37.868931%2C%20-122.281731%5D%2C%20%5B37.867176%2C%20-122.267802%5D%2C%20%5B37.862927%2C%20-122.258784%5D%2C%20%5B37.86331%2C%20-122.316113%5D%2C%20%5B37.8559%2C%20-122.283101%5D%2C%20%5B37.867176%2C%20-122.267802%5D%2C%20%5B37.849786%2C%20-122.269782%5D%2C%20%5B37.865149%2C%20-122.256487%5D%2C%20%5B37.86771%2C%20-122.298466%5D%2C%20%5B37.891214%2C%20-122.282158%5D%2C%20%5B37.870256%2C%20-122.298419%5D%2C%20%5B37.885683%2C%20-122.308114%5D%2C%20%5B37.874251%2C%20-122.280203%5D%2C%20%5B37.857792%2C%20-122.258537%5D%2C%20%5B37.853386%2C%20-122.263973%5D%2C%20%5B37.8559%2C%20-122.283101%5D%2C%20%5B37.862927%2C%20-122.258784%5D%2C%20%5B37.856111%2C%20-122.260248%5D%2C%20%5B37.86277%2C%20-122.297218%5D%2C%20%5B37.892804%2C%20-122.285696%5D%2C%20%5B37.868913%2C%20-122.28608%5D%2C%20%5B37.855435%2C%20-122.259841%5D%2C%20%5B37.880652%2C%20-122.283181%5D%2C%20%5B37.858116%2C%20-122.268002%5D%2C%20%5B37.885032%2C%20-122.274324%5D%2C%20%5B37.865529%2C%20-122.282628%5D%2C%20%5B37.857694%2C%20-122.281628%5D%2C%20%5B37.897393%2C%20-122.28115%5D%2C%20%5B37.866037%2C%20-122.265618%5D%2C%20%5B37.87935%2C%20-122.276123%5D%2C%20%5B37.862927%2C%20-122.258784%5D%2C%20%5B37.867176%2C%20-122.267802%5D%2C%20%5B37.850675%2C%20-122.286265%5D%2C%20%5B37.849609%2C%20-122.282%5D%2C%20%5B37.849376%2C%20-122.294952%5D%2C%20%5B37.868785%2C%20-122.272701%5D%2C%20%5B37.858392%2C%20-122.275421%5D%2C%20%5B37.863839%2C%20-122.281391%5D%2C%20%5B37.861129%2C%20-122.273879%5D%2C%20%5B37.86466%2C%20-122.267381%5D%2C%20%5B37.866037%2C%20-122.265618%5D%2C%20%5B37.870924%2C%20-122.277518%5D%2C%20%5B37.865511%2C%20-122.309967%5D%2C%20%5B37.862927%2C%20-122.258784%5D%2C%20%5B37.881164%2C%20-122.292378%5D%2C%20%5B37.868667%2C%20-122.313656%5D%2C%20%5B37.853929%2C%20-122.289679%5D%2C%20%5B37.86825%2C%20-122.300093%5D%2C%20%5B37.876045%2C%20-122.260336%5D%2C%20%5B37.896776%2C%20-122.281277%5D%2C%20%5B37.866037%2C%20-122.265618%5D%2C%20%5B37.865134%2C%20-122.258331%5D%2C%20%5B37.899278%2C%20-122.283222%5D%2C%20%5B37.862927%2C%20-122.258784%5D%2C%20%5B37.858116%2C%20-122.268002%5D%2C%20%5B37.855815%2C%20-122.280413%5D%2C%20%5B37.88014%2C%20-122.297498%5D%2C%20%5B37.865134%2C%20-122.258331%5D%2C%20%5B37.867501%2C%20-122.291709%5D%2C%20%5B37.865511%2C%20-122.309967%5D%2C%20%5B37.850681%2C%20-122.270619%5D%2C%20%5B37.859309%2C%20-122.259291%5D%2C%20%5B37.85717%2C%20-122.252209%5D%2C%20%5B37.868815%2C%20-122.292131%5D%2C%20%5B37.864723%2C%20-122.263034%5D%2C%20%5B37.867852%2C%20-122.258699%5D%2C%20%5B37.853683%2C%20-122.261744%5D%2C%20%5B37.864925%2C%20-122.273436%5D%2C%20%5B37.902692%2C%20-122.264479%5D%2C%20%5B37.870205%2C%20-122.292581%5D%2C%20%5B37.865984%2C%20-122.293289%5D%2C%20%5B37.871828%2C%20-122.270516%5D%2C%20%5B37.875922%2C%20-122.29441%5D%2C%20%5B37.877417%2C%20-122.300713%5D%2C%20%5B37.860225%2C%20-122.269453%5D%2C%20%5B37.869167%2C%20-122.284138%5D%2C%20%5B37.866969%2C%20-122.26553%5D%2C%20%5B37.867176%2C%20-122.267802%5D%2C%20%5B37.860225%2C%20-122.269453%5D%2C%20%5B37.866074%2C%20-122.26331%5D%2C%20%5B37.867935%2C%20-122.258021%5D%2C%20%5B37.856968%2C%20-122.279544%5D%2C%20%5B37.853576%2C%20-122.287202%5D%2C%20%5B37.864908%2C%20-122.267289%5D%2C%20%5B37.871167%2C%20-122.268285%5D%2C%20%5B37.88014%2C%20-122.297498%5D%2C%20%5B37.869423%2C%20-122.281951%5D%2C%20%5B37.875166%2C%20-122.280125%5D%2C%20%5B37.866739%2C%20-122.267299%5D%2C%20%5B37.868714%2C%20-122.259189%5D%2C%20%5B37.855632%2C%20-122.256606%5D%2C%20%5B37.855684%2C%20-122.263491%5D%2C%20%5B37.882006%2C%20-122.283736%5D%2C%20%5B37.865443%2C%20-122.263189%5D%2C%20%5B37.866074%2C%20-122.26331%5D%2C%20%5B37.859006%2C%20-122.277874%5D%2C%20%5B37.862516%2C%20-122.27853%5D%2C%20%5B37.865868%2C%20-122.251595%5D%2C%20%5B37.881957%2C%20-122.269551%5D%2C%20%5B37.880636%2C%20-122.264757%5D%2C%20%5B37.870219%2C%20-122.273994%5D%2C%20%5B37.880228%2C%20-122.295798%5D%2C%20%5B37.862334%2C%20-122.264828%5D%2C%20%5B37.868356%2C%20-122.268904%5D%2C%20%5B37.868164%2C%20-122.256314%5D%2C%20%5B37.861387%2C%20-122.259001%5D%2C%20%5B37.858116%2C%20-122.268002%5D%2C%20%5B37.859804%2C%20-122.251257%5D%2C%20%5B37.865772%2C%20-122.267643%5D%2C%20%5B37.866739%2C%20-122.267299%5D%2C%20%5B37.886101%2C%20-122.273116%5D%2C%20%5B37.878113%2C%20-122.269114%5D%2C%20%5B37.865984%2C%20-122.293289%5D%2C%20%5B37.871167%2C%20-122.268285%5D%2C%20%5B37.867708%2C%20-122.250801%5D%2C%20%5B37.858116%2C%20-122.268002%5D%2C%20%5B37.89977%2C%20-122.275237%5D%2C%20%5B37.889399%2C%20-122.262594%5D%2C%20%5B37.854215%2C%20-122.269167%5D%2C%20%5B37.853275%2C%20-122.279078%5D%2C%20%5B37.88014%2C%20-122.297498%5D%2C%20%5B37.850385%2C%20-122.270897%5D%2C%20%5B37.859674%2C%20-122.286861%5D%2C%20%5B37.860993%2C%20-122.262104%5D%2C%20%5B37.852211%2C%20-122.286336%5D%2C%20%5B37.857452%2C%20-122.259548%5D%2C%20%5B37.868667%2C%20-122.313656%5D%2C%20%5B37.881957%2C%20-122.269551%5D%2C%20%5B37.871167%2C%20-122.268285%5D%2C%20%5B37.851107%2C%20-122.28324%5D%2C%20%5B37.866568%2C%20-122.254084%5D%2C%20%5B37.856291%2C%20-122.234692%5D%2C%20%5B37.859066%2C%20-122.284541%5D%2C%20%5B37.860225%2C%20-122.269453%5D%2C%20%5B37.871369%2C%20-122.292954%5D%2C%20%5B37.862652%2C%20-122.293668%5D%2C%20%5B37.871132%2C%20-122.276743%5D%2C%20%5B37.879677%2C%20-122.299779%5D%2C%20%5B37.861689%2C%20-122.255732%5D%2C%20%5B37.849376%2C%20-122.294952%5D%2C%20%5B37.858116%2C%20-122.268002%5D%2C%20%5B37.853221%2C%20-122.280832%5D%2C%20%5B37.88014%2C%20-122.297498%5D%2C%20%5B37.867176%2C%20-122.267802%5D%2C%20%5B37.865034%2C%20-122.297939%5D%2C%20%5B37.858628%2C%20-122.250783%5D%2C%20%5B37.855935%2C%20-122.250579%5D%2C%20%5B37.862817%2C%20-122.298359%5D%2C%20%5B37.871369%2C%20-122.292954%5D%2C%20%5B37.867176%2C%20-122.267802%5D%2C%20%5B37.871167%2C%20-122.268285%5D%2C%20%5B37.870603%2C%20-122.270612%5D%2C%20%5B37.867501%2C%20-122.291709%5D%2C%20%5B37.865748%2C%20-122.253396%5D%2C%20%5B37.857856%2C%20-122.279721%5D%2C%20%5B37.863679%2C%20-122.269631%5D%2C%20%5B37.881957%2C%20-122.269551%5D%2C%20%5B37.88014%2C%20-122.297498%5D%2C%20%5B37.902033%2C%20-122.265247%5D%2C%20%5B37.868356%2C%20-122.268904%5D%2C%20%5B37.858116%2C%20-122.268002%5D%2C%20%5B37.863369%2C%20-122.257622%5D%2C%20%5B37.856111%2C%20-122.260248%5D%2C%20%5B37.880227%2C%20-122.26936%5D%2C%20%5B37.857452%2C%20-122.259548%5D%2C%20%5B37.8559%2C%20-122.283101%5D%2C%20%5B37.866568%2C%20-122.254084%5D%2C%20%5B37.855435%2C%20-122.259841%5D%2C%20%5B37.855389%2C%20-122.264552%5D%2C%20%5B37.859259%2C%20-122.275787%5D%2C%20%5B37.870639%2C%20-122.272468%5D%2C%20%5B37.852956%2C%20-122.266195%5D%2C%20%5B37.864908%2C%20-122.267289%5D%2C%20%5B37.850385%2C%20-122.270897%5D%2C%20%5B37.880228%2C%20-122.295798%5D%2C%20%5B37.858116%2C%20-122.268002%5D%2C%20%5B37.859826%2C%20-122.270996%5D%2C%20%5B37.85525%2C%20-122.277126%5D%2C%20%5B37.869105%2C%20-122.270064%5D%2C%20%5B37.857792%2C%20-122.258537%5D%2C%20%5B37.852435%2C%20-122.270917%5D%2C%20%5B37.899668%2C%20-122.27375%5D%2C%20%5B37.870054%2C%20-122.284263%5D%2C%20%5B37.864701%2C%20-122.260693%5D%2C%20%5B37.850541%2C%20-122.286037%5D%2C%20%5B37.869363%2C%20-122.268028%5D%2C%20%5B37.878722%2C%20-122.295312%5D%2C%20%5B37.850899%2C%20-122.276174%5D%2C%20%5B37.869764%2C%20-122.28655%5D%2C%20%5B37.868815%2C%20-122.292131%5D%2C%20%5B37.854186%2C%20-122.279157%5D%2C%20%5B37.850681%2C%20-122.270619%5D%2C%20%5B37.861571%2C%20-122.271722%5D%2C%20%5B37.867366%2C%20-122.296346%5D%2C%20%5B37.861078%2C%20-122.289632%5D%2C%20%5B37.885541%2C%20-122.274771%5D%2C%20%5B37.863811%2C%20-122.267412%5D%2C%20%5B37.862927%2C%20-122.258784%5D%2C%20%5B37.863611%2C%20-122.317566%5D%2C%20%5B37.879773%2C%20-122.30623%5D%2C%20%5B37.867501%2C%20-122.291709%5D%2C%20%5B37.869688%2C%20-122.272805%5D%2C%20%5B37.864583%2C%20-122.275705%5D%2C%20%5B37.854272%2C%20-122.268418%5D%2C%20%5B37.854612%2C%20-122.281178%5D%2C%20%5B37.864238%2C%20-122.265263%5D%2C%20%5B37.862562%2C%20-122.262598%5D%2C%20%5B37.880551%2C%20-122.304085%5D%2C%20%5B37.864385%2C%20-122.290697%5D%2C%20%5B37.866145%2C%20-122.300016%5D%2C%20%5B37.877047%2C%20-122.286183%5D%2C%20%5B37.882033%2C%20-122.296381%5D%2C%20%5B37.860993%2C%20-122.262104%5D%2C%20%5B37.858116%2C%20-122.268002%5D%2C%20%5B37.854517%2C%20-122.281755%5D%2C%20%5B37.871167%2C%20-122.268285%5D%2C%20%5B37.870205%2C%20-122.292581%5D%2C%20%5B37.851477%2C%20-122.278651%5D%2C%20%5B37.851263%2C%20-122.252477%5D%2C%20%5B37.879968%2C%20-122.296885%5D%2C%20%5B37.857713%2C%20-122.250709%5D%2C%20%5B37.851503%2C%20-122.278518%5D%2C%20%5B37.85968%2C%20-122.255796%5D%2C%20%5B37.891332%2C%20-122.279975%5D%2C%20%5B37.854102%2C%20-122.251059%5D%2C%20%5B37.851017%2C%20-122.291088%5D%2C%20%5B37.862491%2C%20-122.2646%5D%2C%20%5B37.869688%2C%20-122.272805%5D%2C%20%5B37.862493%2C%20-122.24708%5D%2C%20%5B37.858116%2C%20-122.268002%5D%2C%20%5B37.866508%2C%20-122.261057%5D%2C%20%5B37.867501%2C%20-122.291709%5D%2C%20%5B37.891332%2C%20-122.279975%5D%2C%20%5B37.885541%2C%20-122.274771%5D%2C%20%5B37.864827%2C%20-122.258577%5D%2C%20%5B37.867513%2C%20-122.25195%5D%2C%20%5B37.860189%2C%20-122.294048%5D%2C%20%5B37.880227%2C%20-122.26936%5D%2C%20%5B37.88788%2C%20-122.272336%5D%2C%20%5B37.871167%2C%20-122.268285%5D%2C%20%5B37.868352%2C%20-122.254459%5D%2C%20%5B37.871246%2C%20-122.274991%5D%2C%20%5B37.88014%2C%20-122.297498%5D%2C%20%5B37.851477%2C%20-122.278651%5D%2C%20%5B37.86097%2C%20-122.262273%5D%2C%20%5B37.871246%2C%20-122.274991%5D%2C%20%5B37.855671%2C%20-122.262461%5D%2C%20%5B37.870243%2C%20-122.275149%5D%2C%20%5B37.854104%2C%20-122.271109%5D%2C%20%5B37.852174%2C%20-122.267824%5D%2C%20%5B37.885691%2C%20-122.27282%5D%2C%20%5B37.858628%2C%20-122.250783%5D%2C%20%5B37.858116%2C%20-122.268002%5D%2C%20%5B37.853683%2C%20-122.261744%5D%2C%20%5B37.852304%2C%20-122.270045%5D%2C%20%5B37.877247%2C%20-122.27708%5D%2C%20%5B37.852491%2C%20-122.243412%5D%2C%20%5B37.854091%2C%20-122.256132%5D%2C%20%5B37.866037%2C%20-122.265618%5D%2C%20%5B37.889482%2C%20-122.281718%5D%2C%20%5B37.871167%2C%20-122.268285%5D%2C%20%5B37.861387%2C%20-122.259001%5D%2C%20%5B37.897393%2C%20-122.28115%5D%2C%20%5B37.871461%2C%20-122.270706%5D%2C%20%5B37.862516%2C%20-122.27853%5D%2C%20%5B37.856769%2C%20-122.27984%5D%2C%20%5B37.871167%2C%20-122.268285%5D%2C%20%5B37.872907%2C%20-122.266975%5D%2C%20%5B37.868667%2C%20-122.313656%5D%2C%20%5B37.852871%2C%20-122.26799%5D%2C%20%5B37.8559%2C%20-122.283101%5D%2C%20%5B37.863934%2C%20-122.250262%5D%2C%20%5B37.86007%2C%20-122.28931%5D%2C%20%5B37.849786%2C%20-122.269782%5D%2C%20%5B37.855998%2C%20-122.271278%5D%2C%20%5B37.85525%2C%20-122.277126%5D%2C%20%5B37.865845%2C%20-122.260009%5D%2C%20%5B37.875391%2C%20-122.271141%5D%2C%20%5B37.885413%2C%20-122.268753%5D%2C%20%5B37.876921%2C%20-122.265567%5D%2C%20%5B37.867852%2C%20-122.258699%5D%2C%20%5B37.868667%2C%20-122.313656%5D%2C%20%5B37.854247%2C%20-122.24375%5D%2C%20%5B37.862024%2C%20-122.251212%5D%2C%20%5B37.878973%2C%20-122.279366%5D%2C%20%5B37.863611%2C%20-122.317566%5D%2C%20%5B37.881957%2C%20-122.269551%5D%2C%20%5B37.880228%2C%20-122.295798%5D%2C%20%5B37.880228%2C%20-122.295798%5D%2C%20%5B37.848292%2C%20-122.271773%5D%2C%20%5B37.870054%2C%20-122.284263%5D%2C%20%5B37.88113%2C%20-122.276389%5D%2C%20%5B37.855026%2C%20-122.266475%5D%2C%20%5B37.863611%2C%20-122.317566%5D%2C%20%5B37.853576%2C%20-122.287202%5D%2C%20%5B37.864226%2C%20-122.277937%5D%2C%20%5B37.865443%2C%20-122.263189%5D%2C%20%5B37.862901%2C%20-122.261616%5D%2C%20%5B37.885559%2C%20-122.258485%5D%2C%20%5B37.867176%2C%20-122.267802%5D%2C%20%5B37.889989%2C%20-122.252226%5D%2C%20%5B37.865748%2C%20-122.253396%5D%2C%20%5B37.866881%2C%20-122.299689%5D%2C%20%5B37.866265%2C%20-122.278162%5D%2C%20%5B37.871167%2C%20-122.268285%5D%2C%20%5B37.860334%2C%20-122.280567%5D%2C%20%5B37.849027%2C%20-122.26926%5D%2C%20%5B37.868355%2C%20-122.274953%5D%2C%20%5B37.854154%2C%20-122.272171%5D%2C%20%5B37.855408%2C%20-122.276149%5D%2C%20%5B37.853221%2C%20-122.280832%5D%2C%20%5B37.866563%2C%20-122.297217%5D%2C%20%5B37.865149%2C%20-122.256487%5D%2C%20%5B37.861409%2C%20-122.253481%5D%2C%20%5B37.867176%2C%20-122.267802%5D%2C%20%5B37.876897%2C%20-122.28868%5D%2C%20%5B37.868574%2C%20-122.270415%5D%2C%20%5B37.891095%2C%20-122.284252%5D%2C%20%5B37.866936%2C%20-122.296218%5D%2C%20%5B37.864826%2C%20-122.260719%5D%2C%20%5B37.875738%2C%20-122.275607%5D%2C%20%5B37.85177%2C%20-122.276489%5D%2C%20%5B37.858116%2C%20-122.268002%5D%2C%20%5B37.846404%2C%20-122.275263%5D%2C%20%5B37.870603%2C%20-122.270612%5D%2C%20%5B37.881366%2C%20-122.289688%5D%2C%20%5B37.880228%2C%20-122.295798%5D%2C%20%5B37.8719%2C%20-122.268389%5D%2C%20%5B37.854891%2C%20-122.280148%5D%2C%20%5B37.851176%2C%20-122.253096%5D%2C%20%5B37.879451%2C%20-122.300901%5D%2C%20%5B37.894468%2C%20-122.265464%5D%2C%20%5B37.851919%2C%20-122.286667%5D%2C%20%5B37.858116%2C%20-122.268002%5D%2C%20%5B37.859195%2C%20-122.261915%5D%2C%20%5B37.864827%2C%20-122.258577%5D%2C%20%5B37.858116%2C%20-122.268002%5D%2C%20%5B37.869105%2C%20-122.270064%5D%2C%20%5B37.88014%2C%20-122.297498%5D%2C%20%5B37.869764%2C%20-122.28655%5D%2C%20%5B37.86249%2C%20-122.29124%5D%2C%20%5B37.874251%2C%20-122.280203%5D%2C%20%5B37.867513%2C%20-122.281165%5D%2C%20%5B37.852066%2C%20-122.272994%5D%2C%20%5B37.857387%2C%20-122.261536%5D%2C%20%5B37.872753%2C%20-122.291926%5D%2C%20%5B37.856968%2C%20-122.279544%5D%2C%20%5B37.869888%2C%20-122.300618%5D%2C%20%5B37.858116%2C%20-122.268002%5D%2C%20%5B37.861078%2C%20-122.289632%5D%2C%20%5B37.869067%2C%20-122.292043%5D%2C%20%5B37.87325%2C%20-122.293558%5D%2C%20%5B37.858116%2C%20-122.268002%5D%2C%20%5B37.853576%2C%20-122.287202%5D%2C%20%5B37.876897%2C%20-122.28868%5D%2C%20%5B37.882033%2C%20-122.296381%5D%2C%20%5B37.865202%2C%20-122.257795%5D%2C%20%5B37.869385%2C%20-122.28953%5D%2C%20%5B37.863292%2C%20-122.256293%5D%2C%20%5B37.871461%2C%20-122.270706%5D%2C%20%5B37.867176%2C%20-122.267802%5D%2C%20%5B37.870054%2C%20-122.284263%5D%2C%20%5B37.850675%2C%20-122.286265%5D%2C%20%5B37.880312%2C%20-122.296641%5D%2C%20%5B37.862927%2C%20-122.258784%5D%2C%20%5B37.85062%2C%20-122.278313%5D%2C%20%5B37.862927%2C%20-122.258784%5D%2C%20%5B37.880312%2C%20-122.296641%5D%2C%20%5B37.872499%2C%20-122.286632%5D%2C%20%5B37.857452%2C%20-122.280961%5D%2C%20%5B37.856848%2C%20-122.288122%5D%2C%20%5B37.869363%2C%20-122.268028%5D%2C%20%5B37.854442%2C%20-122.277107%5D%2C%20%5B37.868714%2C%20-122.259189%5D%2C%20%5B37.871246%2C%20-122.274991%5D%2C%20%5B37.858116%2C%20-122.268002%5D%2C%20%5B37.862927%2C%20-122.258784%5D%2C%20%5B37.862927%2C%20-122.258784%5D%2C%20%5B37.869688%2C%20-122.272805%5D%2C%20%5B37.855824%2C%20-122.25502%5D%2C%20%5B37.868108%2C%20-122.277222%5D%2C%20%5B37.871167%2C%20-122.268285%5D%2C%20%5B37.883512%2C%20-122.27103%5D%2C%20%5B37.880037%2C%20-122.303902%5D%2C%20%5B37.866293%2C%20-122.30551%5D%2C%20%5B37.874251%2C%20-122.280203%5D%2C%20%5B37.858527%2C%20-122.293006%5D%2C%20%5B37.863811%2C%20-122.267412%5D%2C%20%5B37.878839%2C%20-122.259307%5D%2C%20%5B37.885559%2C%20-122.258485%5D%2C%20%5B37.853221%2C%20-122.280832%5D%2C%20%5B37.864701%2C%20-122.260693%5D%2C%20%5B37.877863%2C%20-122.308855%5D%2C%20%5B37.876297%2C%20-122.27124%5D%2C%20%5B37.853552%2C%20-122.268286%5D%2C%20%5B37.847281%2C%20-122.27545%5D%2C%20%5B37.877951%2C%20-122.271395%5D%2C%20%5B37.86825%2C%20-122.300093%5D%2C%20%5B37.868263%2C%20-122.296013%5D%2C%20%5B37.880636%2C%20-122.264757%5D%2C%20%5B37.880027%2C%20-122.279976%5D%2C%20%5B37.878935%2C%20-122.293437%5D%2C%20%5B37.867176%2C%20-122.267802%5D%2C%20%5B37.855969%2C%20-122.236484%5D%2C%20%5B37.88014%2C%20-122.297498%5D%2C%20%5B37.860105%2C%20-122.261901%5D%2C%20%5B37.851107%2C%20-122.28324%5D%2C%20%5B37.872158%2C%20-122.282066%5D%2C%20%5B37.883072%2C%20-122.291168%5D%2C%20%5B37.870287%2C%20-122.316238%5D%2C%20%5B37.852211%2C%20-122.286336%5D%2C%20%5B37.871167%2C%20-122.268285%5D%2C%20%5B37.871167%2C%20-122.268285%5D%2C%20%5B37.871167%2C%20-122.268285%5D%2C%20%5B37.868263%2C%20-122.296013%5D%2C%20%5B37.871167%2C%20-122.268285%5D%2C%20%5B37.867176%2C%20-122.267802%5D%2C%20%5B37.870603%2C%20-122.270612%5D%2C%20%5B37.861118%2C%20-122.259948%5D%2C%20%5B37.866761%2C%20-122.258779%5D%2C%20%5B37.858116%2C%20-122.268002%5D%2C%20%5B37.870639%2C%20-122.272468%5D%2C%20%5B37.865793%2C%20-122.301779%5D%2C%20%5B37.891332%2C%20-122.279975%5D%2C%20%5B37.855435%2C%20-122.259841%5D%2C%20%5B37.868108%2C%20-122.277222%5D%2C%20%5B37.861107%2C%20-122.289485%5D%2C%20%5B37.85489%2C%20-122.252564%5D%2C%20%5B37.867852%2C%20-122.258699%5D%2C%20%5B37.849512%2C%20-122.272671%5D%2C%20%5B37.857336%2C%20-122.290797%5D%2C%20%5B37.852529%2C%20-122.247255%5D%2C%20%5B37.904235%2C%20-122.26951%5D%2C%20%5B37.866074%2C%20-122.26331%5D%2C%20%5B37.869888%2C%20-122.300618%5D%2C%20%5B37.865149%2C%20-122.256487%5D%2C%20%5B37.869067%2C%20-122.292043%5D%2C%20%5B37.877482%2C%20-122.256109%5D%2C%20%5B37.862927%2C%20-122.258784%5D%2C%20%5B37.857714%2C%20-122.288536%5D%2C%20%5B37.878722%2C%20-122.295312%5D%2C%20%5B37.881957%2C%20-122.269551%5D%2C%20%5B37.864827%2C%20-122.258577%5D%2C%20%5B37.869839%2C%20-122.252365%5D%2C%20%5B37.88674%2C%20-122.262299%5D%2C%20%5B37.882353%2C%20-122.267136%5D%2C%20%5B37.894676%2C%20-122.285563%5D%2C%20%5B37.86549%2C%20-122.295702%5D%2C%20%5B37.852529%2C%20-122.247255%5D%2C%20%5B37.87325%2C%20-122.293558%5D%2C%20%5B37.858116%2C%20-122.268002%5D%2C%20%5B37.862264%2C%20-122.250972%5D%2C%20%5B37.88548%2C%20-122.2713%5D%2C%20%5B37.880228%2C%20-122.295798%5D%2C%20%5B37.862927%2C%20-122.258784%5D%2C%20%5B37.864238%2C%20-122.265263%5D%2C%20%5B37.88014%2C%20-122.297498%5D%2C%20%5B37.858392%2C%20-122.275421%5D%2C%20%5B37.8559%2C%20-122.287818%5D%2C%20%5B37.863811%2C%20-122.267412%5D%2C%20%5B37.857787%2C%20-122.257013%5D%2C%20%5B37.853959%2C%20-122.284067%5D%2C%20%5B37.869246%2C%20-122.244474%5D%2C%20%5B37.898747%2C%20-122.266109%5D%2C%20%5B37.853275%2C%20-122.279078%5D%2C%20%5B37.8719%2C%20-122.268389%5D%2C%20%5B37.867176%2C%20-122.267802%5D%2C%20%5B37.882033%2C%20-122.296381%5D%2C%20%5B37.869888%2C%20-122.300618%5D%2C%20%5B37.882469%2C%20-122.294567%5D%2C%20%5B37.873687%2C%20-122.268616%5D%2C%20%5B37.858116%2C%20-122.268002%5D%2C%20%5B37.871167%2C%20-122.268285%5D%2C%20%5B37.864827%2C%20-122.258577%5D%2C%20%5B37.878239%2C%20-122.288374%5D%2C%20%5B37.885683%2C%20-122.308114%5D%2C%20%5B37.856195%2C%20-122.288053%5D%2C%20%5B37.864827%2C%20-122.258577%5D%2C%20%5B37.858116%2C%20-122.268002%5D%2C%20%5B37.88055%2C%20-122.304962%5D%2C%20%5B37.883948%2C%20-122.296991%5D%2C%20%5B37.869067%2C%20-122.292043%5D%2C%20%5B37.87325%2C%20-122.293558%5D%2C%20%5B37.873687%2C%20-122.268616%5D%2C%20%5B37.86531%2C%20-122.25699%5D%2C%20%5B37.868164%2C%20-122.256314%5D%2C%20%5B37.868714%2C%20-122.259189%5D%2C%20%5B37.856035%2C%20-122.240397%5D%2C%20%5B37.858448%2C%20-122.282308%5D%2C%20%5B37.848812%2C%20-122.278043%5D%2C%20%5B37.858777%2C%20-122.29006%5D%2C%20%5B37.88222%2C%20-122.247955%5D%2C%20%5B37.867185%2C%20-122.267803%5D%2C%20%5B37.871167%2C%20-122.268285%5D%2C%20%5B37.871167%2C%20-122.268285%5D%2C%20%5B37.862927%2C%20-122.258784%5D%2C%20%5B37.871544%2C%20-122.272714%5D%2C%20%5B37.865772%2C%20-122.267643%5D%2C%20%5B37.881957%2C%20-122.269551%5D%2C%20%5B37.871544%2C%20-122.272714%5D%2C%20%5B37.875084%2C%20-122.300897%5D%2C%20%5B37.857295%2C%20-122.243843%5D%2C%20%5B37.87965%2C%20-122.273873%5D%2C%20%5B37.867176%2C%20-122.267802%5D%2C%20%5B37.859682%2C%20-122.267008%5D%2C%20%5B37.872563%2C%20-122.284648%5D%2C%20%5B37.855748%2C%20-122.290281%5D%2C%20%5B37.858116%2C%20-122.268002%5D%2C%20%5B37.862491%2C%20-122.2646%5D%2C%20%5B37.865141%2C%20-122.265441%5D%2C%20%5B37.862927%2C%20-122.258784%5D%2C%20%5B37.855065%2C%20-122.249937%5D%2C%20%5B37.872175%2C%20-122.267835%5D%2C%20%5B37.880228%2C%20-122.295798%5D%2C%20%5B37.861387%2C%20-122.259001%5D%2C%20%5B37.88265%2C%20-122.279975%5D%2C%20%5B37.871167%2C%20-122.268285%5D%2C%20%5B37.858116%2C%20-122.268002%5D%2C%20%5B37.862516%2C%20-122.27853%5D%2C%20%5B37.863611%2C%20-122.317566%5D%2C%20%5B37.865772%2C%20-122.267643%5D%2C%20%5B37.866206%2C%20-122.29129%5D%2C%20%5B37.868714%2C%20-122.259189%5D%2C%20%5B37.880383%2C%20-122.285574%5D%2C%20%5B37.894636%2C%20-122.284305%5D%2C%20%5B37.861571%2C%20-122.271722%5D%2C%20%5B37.880228%2C%20-122.295798%5D%2C%20%5B37.868164%2C%20-122.256314%5D%2C%20%5B37.871265%2C%20-122.295043%5D%2C%20%5B37.88014%2C%20-122.297498%5D%2C%20%5B37.853552%2C%20-122.291561%5D%2C%20%5B37.850798%2C%20-122.294689%5D%2C%20%5B37.856111%2C%20-122.260248%5D%2C%20%5B37.8598%2C%20-122.264351%5D%2C%20%5B37.868334%2C%20-122.303753%5D%2C%20%5B37.879921%2C%20-122.271646%5D%2C%20%5B37.865511%2C%20-122.309967%5D%2C%20%5B37.896703%2C%20-122.284274%5D%2C%20%5B37.855076%2C%20-122.292412%5D%2C%20%5B37.8871%2C%20-122.251321%5D%2C%20%5B37.85717%2C%20-122.252209%5D%2C%20%5B37.88014%2C%20-122.297498%5D%2C%20%5B37.863099%2C%20-122.27207%5D%2C%20%5B37.863593%2C%20-122.276751%5D%2C%20%5B37.869385%2C%20-122.28953%5D%2C%20%5B37.880228%2C%20-122.295798%5D%2C%20%5B37.875189%2C%20-122.294176%5D%2C%20%5B37.867176%2C%20-122.267802%5D%2C%20%5B37.871716%2C%20-122.252796%5D%2C%20%5B37.871167%2C%20-122.268285%5D%2C%20%5B37.862927%2C%20-122.258784%5D%2C%20%5B37.855576%2C%20-122.282153%5D%2C%20%5B37.868714%2C%20-122.259189%5D%2C%20%5B37.862927%2C%20-122.258784%5D%2C%20%5B37.856698%2C%20-122.290343%5D%2C%20%5B37.870219%2C%20-122.273994%5D%2C%20%5B37.854833%2C%20-122.279839%5D%2C%20%5B37.88189%2C%20-122.29825%5D%2C%20%5B37.871167%2C%20-122.268285%5D%2C%20%5B37.869306%2C%20-122.268487%5D%2C%20%5B37.880756%2C%20-122.303056%5D%2C%20%5B37.871544%2C%20-122.272714%5D%2C%20%5B37.851921%2C%20-122.269813%5D%2C%20%5B37.861387%2C%20-122.259001%5D%2C%20%5B37.868815%2C%20-122.292131%5D%2C%20%5B37.861627%2C%20-122.285466%5D%2C%20%5B37.896395%2C%20-122.285494%5D%2C%20%5B37.896431%2C%20-122.278418%5D%2C%20%5B37.867852%2C%20-122.258699%5D%2C%20%5B37.880667%2C%20-122.29489%5D%2C%20%5B37.862552%2C%20-122.289951%5D%2C%20%5B37.880636%2C%20-122.264757%5D%2C%20%5B37.865772%2C%20-122.267643%5D%2C%20%5B37.86156%2C%20-122.285969%5D%2C%20%5B37.868161%2C%20-122.291751%5D%2C%20%5B37.864827%2C%20-122.258577%5D%2C%20%5B37.850444%2C%20-122.288866%5D%2C%20%5B37.871167%2C%20-122.268285%5D%2C%20%5B37.866074%2C%20-122.26331%5D%2C%20%5B37.847281%2C%20-122.27545%5D%2C%20%5B37.868192%2C%20-122.248515%5D%2C%20%5B37.852683%2C%20-122.276556%5D%2C%20%5B37.859906%2C%20-122.284931%5D%2C%20%5B37.865748%2C%20-122.253396%5D%2C%20%5B37.887344%2C%20-122.277321%5D%2C%20%5B37.891332%2C%20-122.279975%5D%2C%20%5B37.874581%2C%20-122.277744%5D%2C%20%5B37.860507%2C%20-122.280446%5D%2C%20%5B37.854186%2C%20-122.279157%5D%2C%20%5B37.875391%2C%20-122.271141%5D%2C%20%5B37.88222%2C%20-122.247955%5D%2C%20%5B37.868161%2C%20-122.291751%5D%2C%20%5B37.881957%2C%20-122.269551%5D%2C%20%5B37.858448%2C%20-122.282308%5D%2C%20%5B37.863611%2C%20-122.317566%5D%2C%20%5B37.868334%2C%20-122.303753%5D%2C%20%5B37.867176%2C%20-122.267802%5D%2C%20%5B37.863611%2C%20-122.317566%5D%2C%20%5B37.855065%2C%20-122.249937%5D%2C%20%5B37.865795%2C%20-122.28044%5D%2C%20%5B37.870205%2C%20-122.292581%5D%2C%20%5B37.869385%2C%20-122.28953%5D%2C%20%5B37.871167%2C%20-122.268285%5D%2C%20%5B37.88014%2C%20-122.297498%5D%2C%20%5B37.853864%2C%20-122.285643%5D%2C%20%5B37.869067%2C%20-122.292043%5D%2C%20%5B37.856853%2C%20-122.26482%5D%2C%20%5B37.880227%2C%20-122.26936%5D%2C%20%5B37.856132%2C%20-122.271292%5D%2C%20%5B37.858116%2C%20-122.268002%5D%2C%20%5B37.878407%2C%20-122.267962%5D%2C%20%5B37.894256%2C%20-122.281603%5D%2C%20%5B37.866969%2C%20-122.26553%5D%2C%20%5B37.865868%2C%20-122.251595%5D%2C%20%5B37.869764%2C%20-122.28655%5D%2C%20%5B37.851919%2C%20-122.286667%5D%2C%20%5B37.892875%2C%20-122.268748%5D%2C%20%5B37.870054%2C%20-122.284263%5D%2C%20%5B37.855832%2C%20-122.272369%5D%2C%20%5B37.858116%2C%20-122.268002%5D%2C%20%5B37.869105%2C%20-122.270064%5D%2C%20%5B37.865868%2C%20-122.251595%5D%2C%20%5B37.858427%2C%20-122.282485%5D%2C%20%5B37.871167%2C%20-122.268285%5D%2C%20%5B37.870298%2C%20-122.275101%5D%2C%20%5B37.888679%2C%20-122.280432%5D%2C%20%5B37.867212%2C%20-122.281739%5D%2C%20%5B37.84905%2C%20-122.269098%5D%2C%20%5B37.855798%2C%20-122.252707%5D%2C%20%5B37.859665%2C%20-122.27169%5D%2C%20%5B37.858116%2C%20-122.268002%5D%2C%20%5B37.860372%2C%20-122.25981%5D%2C%20%5B37.868667%2C%20-122.313656%5D%2C%20%5B37.881366%2C%20-122.289688%5D%2C%20%5B37.871369%2C%20-122.292954%5D%2C%20%5B37.85175%2C%20-122.29379%5D%2C%20%5B37.88674%2C%20-122.262299%5D%2C%20%5B37.870948%2C%20-122.27733%5D%2C%20%5B37.860372%2C%20-122.25981%5D%2C%20%5B37.851017%2C%20-122.291088%5D%2C%20%5B37.85948%2C%20-122.266689%5D%2C%20%5B37.855798%2C%20-122.252707%5D%2C%20%5B37.872656%2C%20-122.292748%5D%2C%20%5B37.878864%2C%20-122.265718%5D%2C%20%5B37.84905%2C%20-122.269098%5D%2C%20%5B37.869688%2C%20-122.272805%5D%2C%20%5B37.878405%2C%20-122.306072%5D%2C%20%5B37.870054%2C%20-122.284263%5D%2C%20%5B37.871167%2C%20-122.268285%5D%2C%20%5B37.891755%2C%20-122.269881%5D%2C%20%5B37.856769%2C%20-122.27984%5D%2C%20%5B37.903781%2C%20-122.273576%5D%2C%20%5B37.882033%2C%20-122.296381%5D%2C%20%5B37.871167%2C%20-122.268285%5D%2C%20%5B37.867212%2C%20-122.281739%5D%2C%20%5B37.852348%2C%20-122.271972%5D%2C%20%5B37.879968%2C%20-122.296885%5D%2C%20%5B37.871167%2C%20-122.268285%5D%2C%20%5B37.871246%2C%20-122.274991%5D%2C%20%5B37.859881%2C%20-122.285128%5D%2C%20%5B37.857784%2C%20-122.272998%5D%2C%20%5B37.85488%2C%20-122.269079%5D%2C%20%5B37.869688%2C%20-122.272805%5D%2C%20%5B37.85717%2C%20-122.252209%5D%2C%20%5B37.858888%2C%20-122.264137%5D%2C%20%5B37.858116%2C%20-122.268002%5D%2C%20%5B37.848774%2C%20-122.271171%5D%2C%20%5B37.854612%2C%20-122.281178%5D%2C%20%5B37.872499%2C%20-122.286632%5D%2C%20%5B37.882016%2C%20-122.281271%5D%2C%20%5B37.858147%2C%20-122.2848%5D%2C%20%5B37.868641%2C%20-122.29415%5D%2C%20%5B37.871167%2C%20-122.268285%5D%2C%20%5B37.880376%2C%20-122.268183%5D%2C%20%5B37.867176%2C%20-122.267802%5D%2C%20%5B37.871917%2C%20-122.298961%5D%2C%20%5B37.866936%2C%20-122.296218%5D%2C%20%5B37.866025%2C%20-122.258623%5D%2C%20%5B37.863611%2C%20-122.317566%5D%2C%20%5B37.865772%2C%20-122.267643%5D%2C%20%5B37.857336%2C%20-122.290797%5D%2C%20%5B37.889658%2C%20-122.270137%5D%2C%20%5B37.883798%2C%20-122.268567%5D%2C%20%5B37.887246%2C%20-122.278286%5D%2C%20%5B37.864925%2C%20-122.273436%5D%2C%20%5B37.878986%2C%20-122.277231%5D%2C%20%5B37.852315%2C%20-122.272231%5D%2C%20%5B37.891214%2C%20-122.282158%5D%2C%20%5B37.858392%2C%20-122.275421%5D%2C%20%5B37.880592%2C%20-122.268207%5D%2C%20%5B37.88014%2C%20-122.297498%5D%2C%20%5B37.869363%2C%20-122.268028%5D%2C%20%5B37.867176%2C%20-122.267802%5D%2C%20%5B37.889482%2C%20-122.281718%5D%2C%20%5B37.855969%2C%20-122.236484%5D%2C%20%5B37.871167%2C%20-122.268285%5D%2C%20%5B37.869764%2C%20-122.28655%5D%2C%20%5B37.857856%2C%20-122.279721%5D%2C%20%5B37.882482%2C%20-122.261872%5D%2C%20%5B37.867708%2C%20-122.250801%5D%2C%20%5B37.850629%2C%20-122.28065%5D%2C%20%5B37.880334%2C%20-122.27627%5D%2C%20%5B37.866074%2C%20-122.26331%5D%2C%20%5B37.857452%2C%20-122.259548%5D%2C%20%5B37.859413%2C%20-122.288733%5D%2C%20%5B37.868206%2C%20-122.277232%5D%2C%20%5B37.8611%2C%20-122.297826%5D%2C%20%5B37.870867%2C%20-122.270635%5D%2C%20%5B37.863823%2C%20-122.252575%5D%2C%20%5B37.897333%2C%20-122.276042%5D%2C%20%5B37.849431%2C%20-122.278174%5D%2C%20%5B37.869186%2C%20-122.283943%5D%2C%20%5B37.866293%2C%20-122.30551%5D%2C%20%5B37.887843%2C%20-122.270011%5D%2C%20%5B37.861573%2C%20-122.257452%5D%2C%20%5B37.867501%2C%20-122.291709%5D%2C%20%5B37.851503%2C%20-122.278518%5D%2C%20%5B37.875053%2C%20-122.26548%5D%2C%20%5B37.858116%2C%20-122.268002%5D%2C%20%5B37.854857%2C%20-122.262314%5D%2C%20%5B37.856111%2C%20-122.260248%5D%2C%20%5B37.876615%2C%20-122.291393%5D%2C%20%5B37.888768%2C%20-122.279287%5D%2C%20%5B37.871167%2C%20-122.268285%5D%2C%20%5B37.888702%2C%20-122.26371%5D%2C%20%5B37.858448%2C%20-122.282308%5D%2C%20%5B37.865141%2C%20-122.265441%5D%2C%20%5B37.88014%2C%20-122.297498%5D%2C%20%5B37.868913%2C%20-122.28608%5D%2C%20%5B37.871161%2C%20-122.298716%5D%2C%20%5B37.850798%2C%20-122.294689%5D%2C%20%5B37.878051%2C%20-122.285222%5D%2C%20%5B37.865793%2C%20-122.301779%5D%2C%20%5B37.862393%2C%20-122.248851%5D%2C%20%5B37.866563%2C%20-122.297217%5D%2C%20%5B37.858392%2C%20-122.275421%5D%2C%20%5B37.870396%2C%20-122.281585%5D%2C%20%5B37.850629%2C%20-122.28065%5D%2C%20%5B37.864827%2C%20-122.258577%5D%2C%20%5B37.852934%2C%20-122.294575%5D%2C%20%5B37.869741%2C%20-122.279479%5D%2C%20%5B37.869104%2C%20-122.256017%5D%2C%20%5B37.867513%2C%20-122.25195%5D%2C%20%5B37.869067%2C%20-122.292043%5D%2C%20%5B37.871828%2C%20-122.270516%5D%2C%20%5B37.866761%2C%20-122.258779%5D%2C%20%5B37.870205%2C%20-122.292581%5D%2C%20%5B37.862024%2C%20-122.251212%5D%2C%20%5B37.881957%2C%20-122.269551%5D%2C%20%5B37.865772%2C%20-122.267643%5D%2C%20%5B37.88014%2C%20-122.297498%5D%2C%20%5B37.868714%2C%20-122.259189%5D%2C%20%5B37.865134%2C%20-122.258331%5D%2C%20%5B37.858116%2C%20-122.268002%5D%2C%20%5B37.869764%2C%20-122.28655%5D%2C%20%5B37.899959%2C%20-122.282042%5D%2C%20%5B37.864827%2C%20-122.258577%5D%2C%20%5B37.858116%2C%20-122.268002%5D%2C%20%5B37.897731%2C%20-122.271759%5D%2C%20%5B37.865149%2C%20-122.256487%5D%2C%20%5B37.862927%2C%20-122.258784%5D%2C%20%5B37.896688%2C%20-122.27456%5D%2C%20%5B37.891332%2C%20-122.279975%5D%2C%20%5B37.858116%2C%20-122.268002%5D%2C%20%5B37.892598%2C%20-122.280094%5D%2C%20%5B37.865511%2C%20-122.309967%5D%2C%20%5B37.863072%2C%20-122.260352%5D%2C%20%5B37.867176%2C%20-122.267802%5D%2C%20%5B37.871461%2C%20-122.270706%5D%2C%20%5B37.868714%2C%20-122.259189%5D%2C%20%5B37.870205%2C%20-122.292581%5D%2C%20%5B37.851919%2C%20-122.286667%5D%2C%20%5B37.869764%2C%20-122.28655%5D%2C%20%5B37.897333%2C%20-122.276042%5D%2C%20%5B37.894233%2C%20-122.260552%5D%2C%20%5B37.871167%2C%20-122.268285%5D%2C%20%5B37.864385%2C%20-122.290697%5D%2C%20%5B37.881227%2C%20-122.29097%5D%2C%20%5B37.869113%2C%20-122.250903%5D%2C%20%5B37.869363%2C%20-122.268028%5D%2C%20%5B37.885653%2C%20-122.269953%5D%2C%20%5B37.875113%2C%20-122.273413%5D%2C%20%5B37.871167%2C%20-122.268285%5D%2C%20%5B37.870054%2C%20-122.284263%5D%2C%20%5B37.869764%2C%20-122.28655%5D%2C%20%5B37.866761%2C%20-122.258779%5D%2C%20%5B37.875113%2C%20-122.273413%5D%2C%20%5B37.853203%2C%20-122.279642%5D%2C%20%5B37.856111%2C%20-122.260248%5D%2C%20%5B37.878904%2C%20-122.258814%5D%2C%20%5B37.852871%2C%20-122.26799%5D%2C%20%5B37.857452%2C%20-122.259548%5D%2C%20%5B37.868714%2C%20-122.259189%5D%2C%20%5B37.870185%2C%20-122.299609%5D%2C%20%5B37.888072%2C%20-122.272344%5D%2C%20%5B37.862927%2C%20-122.258784%5D%2C%20%5B37.863839%2C%20-122.281391%5D%2C%20%5B37.856111%2C%20-122.260248%5D%2C%20%5B37.891594%2C%20-122.264883%5D%2C%20%5B37.853552%2C%20-122.291561%5D%2C%20%5B37.860459%2C%20-122.266139%5D%2C%20%5B37.865324%2C%20-122.256883%5D%2C%20%5B37.855998%2C%20-122.271278%5D%2C%20%5B37.85177%2C%20-122.276489%5D%2C%20%5B37.870054%2C%20-122.284263%5D%2C%20%5B37.881957%2C%20-122.269551%5D%2C%20%5B37.872158%2C%20-122.282066%5D%2C%20%5B37.848812%2C%20-122.278043%5D%2C%20%5B37.868714%2C%20-122.259189%5D%2C%20%5B37.865748%2C%20-122.253396%5D%2C%20%5B37.86549%2C%20-122.295702%5D%2C%20%5B37.878113%2C%20-122.269114%5D%2C%20%5B37.867176%2C%20-122.267802%5D%2C%20%5B37.865748%2C%20-122.253396%5D%2C%20%5B37.87783%2C%20-122.298557%5D%2C%20%5B37.873976%2C%20-122.282257%5D%2C%20%5B37.871167%2C%20-122.268285%5D%2C%20%5B37.861677%2C%20-122.26716%5D%2C%20%5B37.876339%2C%20-122.285012%5D%2C%20%5B37.862024%2C%20-122.251212%5D%2C%20%5B37.867373%2C%20-122.249515%5D%2C%20%5B37.88014%2C%20-122.297498%5D%2C%20%5B37.879188%2C%20-122.276107%5D%2C%20%5B37.855389%2C%20-122.264552%5D%2C%20%5B37.852422%2C%20-122.278571%5D%2C%20%5B37.891755%2C%20-122.269881%5D%2C%20%5B37.869993%2C%20-122.294774%5D%2C%20%5B37.858116%2C%20-122.268002%5D%2C%20%5B37.88113%2C%20-122.276389%5D%2C%20%5B37.880756%2C%20-122.303056%5D%2C%20%5B37.879058%2C%20-122.282584%5D%2C%20%5B37.891383%2C%20-122.257303%5D%2C%20%5B37.866293%2C%20-122.30551%5D%2C%20%5B37.85062%2C%20-122.278313%5D%2C%20%5B37.860225%2C%20-122.269453%5D%2C%20%5B37.878571%2C%20-122.282954%5D%2C%20%5B37.858116%2C%20-122.268002%5D%2C%20%5B37.870054%2C%20-122.284263%5D%2C%20%5B37.88014%2C%20-122.297498%5D%2C%20%5B37.855293%2C%20-122.266502%5D%2C%20%5B37.85976%2C%20-122.257034%5D%2C%20%5B37.858116%2C%20-122.268002%5D%2C%20%5B37.880228%2C%20-122.295798%5D%2C%20%5B37.857452%2C%20-122.259548%5D%2C%20%5B37.875826%2C%20-122.273495%5D%2C%20%5B37.868815%2C%20-122.292131%5D%2C%20%5B37.860225%2C%20-122.269453%5D%2C%20%5B37.857714%2C%20-122.288536%5D%2C%20%5B37.869962%2C%20-122.277411%5D%2C%20%5B37.853576%2C%20-122.287202%5D%2C%20%5B37.883608%2C%20-122.285672%5D%2C%20%5B37.862927%2C%20-122.258784%5D%2C%20%5B37.868995%2C%20-122.279598%5D%2C%20%5B37.877247%2C%20-122.27708%5D%2C%20%5B37.875963%2C%20-122.296521%5D%2C%20%5B37.850385%2C%20-122.270897%5D%2C%20%5B37.871167%2C%20-122.268285%5D%2C%20%5B37.868815%2C%20-122.292131%5D%2C%20%5B37.854833%2C%20-122.279839%5D%2C%20%5B37.889482%2C%20-122.281718%5D%2C%20%5B37.891214%2C%20-122.282158%5D%2C%20%5B37.898189%2C%20-122.286977%5D%2C%20%5B37.871167%2C%20-122.268285%5D%2C%20%5B37.878662%2C%20-122.291965%5D%2C%20%5B37.861387%2C%20-122.259001%5D%2C%20%5B37.897333%2C%20-122.276042%5D%2C%20%5B37.858047%2C%20-122.245306%5D%2C%20%5B37.875571%2C%20-122.268722%5D%2C%20%5B37.857869%2C%20-122.248398%5D%2C%20%5B37.848798%2C%20-122.296242%5D%2C%20%5B37.873687%2C%20-122.268616%5D%2C%20%5B37.866969%2C%20-122.26553%5D%2C%20%5B37.868714%2C%20-122.259189%5D%2C%20%5B37.864826%2C%20-122.260719%5D%2C%20%5B37.862927%2C%20-122.258784%5D%2C%20%5B37.875865%2C%20-122.261749%5D%2C%20%5B37.865134%2C%20-122.258331%5D%2C%20%5B37.897333%2C%20-122.276042%5D%2C%20%5B37.868785%2C%20-122.272701%5D%2C%20%5B37.867176%2C%20-122.267802%5D%2C%20%5B37.868663%2C%20-122.301325%5D%2C%20%5B37.871167%2C%20-122.268285%5D%2C%20%5B37.856756%2C%20-122.273832%5D%2C%20%5B37.882033%2C%20-122.296381%5D%2C%20%5B37.87783%2C%20-122.298557%5D%2C%20%5B37.849609%2C%20-122.282%5D%2C%20%5B37.871167%2C%20-122.268285%5D%2C%20%5B37.878405%2C%20-122.306072%5D%2C%20%5B37.86939%2C%20-122.267883%5D%2C%20%5B37.871167%2C%20-122.268285%5D%2C%20%5B37.873017%2C%20-122.275481%5D%2C%20%5B37.870287%2C%20-122.316238%5D%2C%20%5B37.86771%2C%20-122.298466%5D%2C%20%5B37.880027%2C%20-122.279976%5D%2C%20%5B37.850175%2C%20-122.293099%5D%2C%20%5B37.864238%2C%20-122.265263%5D%2C%20%5B37.862808%2C%20-122.27633%5D%2C%20%5B37.868058%2C%20-122.278332%5D%2C%20%5B37.856853%2C%20-122.26482%5D%2C%20%5B37.868194%2C%20-122.276063%5D%2C%20%5B37.871167%2C%20-122.268285%5D%2C%20%5B37.87325%2C%20-122.293558%5D%2C%20%5B37.870054%2C%20-122.284263%5D%2C%20%5B37.879188%2C%20-122.276107%5D%2C%20%5B37.885381%2C%20-122.272269%5D%2C%20%5B37.865816%2C%20-122.281601%5D%2C%20%5B37.854833%2C%20-122.279839%5D%2C%20%5B37.863938%2C%20-122.253735%5D%2C%20%5B37.878407%2C%20-122.267962%5D%2C%20%5B37.888512%2C%20-122.266746%5D%2C%20%5B37.865202%2C%20-122.257795%5D%2C%20%5B37.854891%2C%20-122.280148%5D%2C%20%5B37.863072%2C%20-122.260352%5D%2C%20%5B37.867176%2C%20-122.267802%5D%2C%20%5B37.890977%2C%20-122.259745%5D%2C%20%5B37.866206%2C%20-122.29129%5D%2C%20%5B37.870185%2C%20-122.299609%5D%2C%20%5B37.863839%2C%20-122.281391%5D%2C%20%5B37.856769%2C%20-122.27984%5D%2C%20%5B37.853221%2C%20-122.280832%5D%2C%20%5B37.858047%2C%20-122.245306%5D%2C%20%5B37.863369%2C%20-122.257622%5D%2C%20%5B37.853576%2C%20-122.287202%5D%2C%20%5B37.858116%2C%20-122.268002%5D%2C%20%5B37.856111%2C%20-122.260248%5D%2C%20%5B37.865349%2C%20-122.28377%5D%2C%20%5B37.870054%2C%20-122.284263%5D%2C%20%5B37.864976%2C%20-122.266752%5D%2C%20%5B37.883512%2C%20-122.27103%5D%2C%20%5B37.872175%2C%20-122.267835%5D%2C%20%5B37.890928%2C%20-122.287251%5D%2C%20%5B37.88014%2C%20-122.297498%5D%2C%20%5B37.86549%2C%20-122.295702%5D%2C%20%5B37.859556%2C%20-122.273545%5D%2C%20%5B37.85941%2C%20-122.25919%5D%2C%20%5B37.858759%2C%20-122.264112%5D%2C%20%5B37.88014%2C%20-122.297498%5D%2C%20%5B37.873025%2C%20-122.275438%5D%2C%20%5B37.865945%2C%20-122.250471%5D%2C%20%5B37.883791%2C%20-122.249709%5D%2C%20%5B37.862927%2C%20-122.258784%5D%2C%20%5B37.869363%2C%20-122.268028%5D%2C%20%5B37.864226%2C%20-122.277937%5D%2C%20%5B37.869363%2C%20-122.268028%5D%2C%20%5B37.873607%2C%20-122.270903%5D%2C%20%5B37.871167%2C%20-122.268285%5D%2C%20%5B37.877696%2C%20-122.273684%5D%2C%20%5B37.852211%2C%20-122.286336%5D%2C%20%5B37.870603%2C%20-122.270612%5D%2C%20%5B37.868667%2C%20-122.313656%5D%2C%20%5B37.856111%2C%20-122.260248%5D%2C%20%5B37.875391%2C%20-122.271141%5D%2C%20%5B37.858116%2C%20-122.268002%5D%2C%20%5B37.863072%2C%20-122.260352%5D%2C%20%5B37.848292%2C%20-122.271773%5D%2C%20%5B37.882015%2C%20-122.292643%5D%2C%20%5B37.894172%2C%20-122.253946%5D%2C%20%5B37.872158%2C%20-122.282066%5D%2C%20%5B37.87241%2C%20-122.277692%5D%2C%20%5B37.866206%2C%20-122.29129%5D%2C%20%5B37.869701%2C%20-122.287039%5D%2C%20%5B37.866528%2C%20-122.290227%5D%2C%20%5B37.861627%2C%20-122.285466%5D%2C%20%5B37.871246%2C%20-122.274991%5D%2C%20%5B37.867935%2C%20-122.258021%5D%2C%20%5B37.867176%2C%20-122.267802%5D%2C%20%5B37.878405%2C%20-122.306072%5D%2C%20%5B37.858628%2C%20-122.250783%5D%2C%20%5B37.864827%2C%20-122.258577%5D%2C%20%5B37.901596%2C%20-122.270187%5D%2C%20%5B37.868714%2C%20-122.259189%5D%2C%20%5B37.863292%2C%20-122.256293%5D%2C%20%5B37.868263%2C%20-122.296013%5D%2C%20%5B37.866508%2C%20-122.261057%5D%2C%20%5B37.858116%2C%20-122.268002%5D%2C%20%5B37.883512%2C%20-122.27103%5D%2C%20%5B37.857745%2C%20-122.23991%5D%2C%20%5B37.862927%2C%20-122.258784%5D%2C%20%5B37.873639%2C%20-122.27064%5D%2C%20%5B37.869764%2C%20-122.28655%5D%2C%20%5B37.848152%2C%20-122.275807%5D%2C%20%5B37.871167%2C%20-122.268285%5D%2C%20%5B37.869385%2C%20-122.28953%5D%2C%20%5B37.864827%2C%20-122.258577%5D%2C%20%5B37.869385%2C%20-122.28953%5D%2C%20%5B37.869993%2C%20-122.294774%5D%2C%20%5B37.890928%2C%20-122.287251%5D%2C%20%5B37.891095%2C%20-122.284247%5D%2C%20%5B37.862927%2C%20-122.258784%5D%2C%20%5B37.88014%2C%20-122.297498%5D%2C%20%5B37.899602%2C%20-122.271102%5D%2C%20%5B37.870396%2C%20-122.281585%5D%2C%20%5B37.862927%2C%20-122.258784%5D%2C%20%5B37.858433%2C%20-122.280183%5D%2C%20%5B37.858427%2C%20-122.282485%5D%2C%20%5B37.883798%2C%20-122.268567%5D%2C%20%5B37.8683%2C%20-122.262426%5D%2C%20%5B37.878571%2C%20-122.282954%5D%2C%20%5B37.867259%2C%20-122.26324%5D%2C%20%5B37.867668%2C%20-122.260109%5D%2C%20%5B37.869363%2C%20-122.268028%5D%2C%20%5B37.862817%2C%20-122.298359%5D%2C%20%5B37.869402%2C%20-122.297654%5D%2C%20%5B37.877482%2C%20-122.256109%5D%2C%20%5B37.8549%2C%20-122.27945%5D%2C%20%5B37.865443%2C%20-122.263189%5D%2C%20%5B37.862927%2C%20-122.258784%5D%2C%20%5B37.871167%2C%20-122.268285%5D%2C%20%5B37.880228%2C%20-122.295798%5D%2C%20%5B37.88014%2C%20-122.297498%5D%2C%20%5B37.866405%2C%20-122.272443%5D%2C%20%5B37.881957%2C%20-122.269551%5D%2C%20%5B37.870538%2C%20-122.297407%5D%2C%20%5B37.879869%2C%20-122.269192%5D%2C%20%5B37.870205%2C%20-122.292581%5D%2C%20%5B37.872408%2C%20-122.26843%5D%2C%20%5B37.881943%2C%20-122.284971%5D%2C%20%5B37.884743%2C%20-122.250296%5D%2C%20%5B37.883621%2C%20-122.269734%5D%2C%20%5B37.857592%2C%20-122.269186%5D%2C%20%5B37.885381%2C%20-122.272269%5D%2C%20%5B37.902647%2C%20-122.277413%5D%2C%20%5B37.870603%2C%20-122.270612%5D%2C%20%5B37.8598%2C%20-122.264351%5D%2C%20%5B37.866293%2C%20-122.30551%5D%2C%20%5B37.882875%2C%20-122.288595%5D%2C%20%5B37.863977%2C%20-122.267307%5D%2C%20%5B37.870054%2C%20-122.284263%5D%2C%20%5B37.880636%2C%20-122.264757%5D%2C%20%5B37.870243%2C%20-122.275149%5D%2C%20%5B37.866145%2C%20-122.300016%5D%2C%20%5B37.875053%2C%20-122.26548%5D%2C%20%5B37.891117%2C%20-122.280265%5D%2C%20%5B37.858525%2C%20-122.266906%5D%2C%20%5B37.872134%2C%20-122.284582%5D%2C%20%5B37.872656%2C%20-122.292748%5D%2C%20%5B37.858116%2C%20-122.268002%5D%2C%20%5B37.858116%2C%20-122.268002%5D%2C%20%5B37.876595%2C%20-122.267789%5D%2C%20%5B37.880227%2C%20-122.26936%5D%2C%20%5B37.896395%2C%20-122.285494%5D%2C%20%5B37.871167%2C%20-122.268285%5D%2C%20%5B37.878405%2C%20-122.306072%5D%2C%20%5B37.868714%2C%20-122.259189%5D%2C%20%5B37.857246%2C%20-122.277347%5D%2C%20%5B37.868108%2C%20-122.277222%5D%2C%20%5B37.855523%2C%20-122.266529%5D%2C%20%5B37.862927%2C%20-122.258784%5D%2C%20%5B37.867595%2C%20-122.253254%5D%2C%20%5B37.862927%2C%20-122.258784%5D%2C%20%5B37.87965%2C%20-122.273873%5D%2C%20%5B37.859556%2C%20-122.273545%5D%2C%20%5B37.868714%2C%20-122.259189%5D%2C%20%5B37.875076%2C%20-122.299959%5D%2C%20%5B37.856968%2C%20-122.279544%5D%2C%20%5B37.869839%2C%20-122.252365%5D%2C%20%5B37.88014%2C%20-122.297498%5D%2C%20%5B37.858116%2C%20-122.268002%5D%2C%20%5B37.862927%2C%20-122.258784%5D%2C%20%5B37.863611%2C%20-122.317566%5D%2C%20%5B37.860677%2C%20-122.279%5D%2C%20%5B37.880893%2C%20-122.263673%5D%2C%20%5B37.862927%2C%20-122.258784%5D%2C%20%5B37.862927%2C%20-122.258784%5D%2C%20%5B37.849786%2C%20-122.269782%5D%2C%20%5B37.868641%2C%20-122.29415%5D%2C%20%5B37.857452%2C%20-122.259548%5D%2C%20%5B37.865059%2C%20-122.272291%5D%2C%20%5B37.853861%2C%20-122.26598%5D%2C%20%5B37.865772%2C%20-122.267643%5D%2C%20%5B37.870054%2C%20-122.284263%5D%2C%20%5B37.870337%2C%20-122.282043%5D%2C%20%5B37.867176%2C%20-122.267802%5D%2C%20%5B37.888842%2C%20-122.254155%5D%2C%20%5B37.868898%2C%20-122.243093%5D%2C%20%5B37.898747%2C%20-122.266109%5D%2C%20%5B37.858116%2C%20-122.268002%5D%2C%20%5B37.87325%2C%20-122.293558%5D%2C%20%5B37.870948%2C%20-122.27733%5D%2C%20%5B37.871167%2C%20-122.268285%5D%2C%20%5B37.856132%2C%20-122.271292%5D%2C%20%5B37.862562%2C%20-122.262598%5D%2C%20%5B37.883621%2C%20-122.269734%5D%2C%20%5B37.848774%2C%20-122.271171%5D%2C%20%5B37.853951%2C%20-122.273198%5D%2C%20%5B37.869764%2C%20-122.28655%5D%2C%20%5B37.871461%2C%20-122.270706%5D%2C%20%5B37.8559%2C%20-122.283101%5D%2C%20%5B37.860172%2C%20-122.282847%5D%2C%20%5B37.85444%2C%20-122.296619%5D%2C%20%5B37.892638%2C%20-122.284804%5D%2C%20%5B37.848413%2C%20-122.277936%5D%2C%20%5B37.862169%2C%20-122.267084%5D%2C%20%5B37.862927%2C%20-122.258784%5D%2C%20%5B37.871175%2C%20-122.304755%5D%2C%20%5B37.864238%2C%20-122.265263%5D%2C%20%5B37.857714%2C%20-122.288536%5D%2C%20%5B37.871265%2C%20-122.295043%5D%2C%20%5B37.872499%2C%20-122.286632%5D%2C%20%5B37.867307%2C%20-122.300468%5D%2C%20%5B37.880227%2C%20-122.26936%5D%2C%20%5B37.874182%2C%20-122.265937%5D%2C%20%5B37.865797%2C%20-122.252741%5D%2C%20%5B37.855798%2C%20-122.252707%5D%2C%20%5B37.884902%2C%20-122.24847%5D%2C%20%5B37.858392%2C%20-122.275421%5D%2C%20%5B37.868263%2C%20-122.296013%5D%2C%20%5B37.868352%2C%20-122.254459%5D%2C%20%5B37.870205%2C%20-122.292581%5D%2C%20%5B37.862059%2C%20-122.281167%5D%2C%20%5B37.855435%2C%20-122.259841%5D%2C%20%5B37.868263%2C%20-122.296013%5D%2C%20%5B37.860687%2C%20-122.26454%5D%2C%20%5B37.871246%2C%20-122.274991%5D%2C%20%5B37.871317%2C%20-122.286575%5D%2C%20%5B37.867176%2C%20-122.267802%5D%2C%20%5B37.871167%2C%20-122.268285%5D%2C%20%5B37.850704%2C%20-122.230786%5D%2C%20%5B37.858116%2C%20-122.268002%5D%2C%20%5B37.878239%2C%20-122.288374%5D%2C%20%5B37.877442%2C%20-122.266726%5D%2C%20%5B37.865748%2C%20-122.253396%5D%2C%20%5B37.86825%2C%20-122.300093%5D%2C%20%5B37.871167%2C%20-122.268285%5D%2C%20%5B37.872725%2C%20-122.277729%5D%2C%20%5B37.873687%2C%20-122.268616%5D%2C%20%5B37.870054%2C%20-122.284263%5D%2C%20%5B37.864826%2C%20-122.260719%5D%2C%20%5B37.850798%2C%20-122.294689%5D%2C%20%5B37.85976%2C%20-122.257034%5D%2C%20%5B37.858628%2C%20-122.250783%5D%2C%20%5B37.862516%2C%20-122.27853%5D%2C%20%5B37.873393%2C%20-122.286956%5D%2C%20%5B37.869067%2C%20-122.292043%5D%2C%20%5B37.866568%2C%20-122.254084%5D%2C%20%5B37.86771%2C%20-122.298466%5D%2C%20%5B37.8719%2C%20-122.268389%5D%2C%20%5B37.865748%2C%20-122.253396%5D%2C%20%5B37.896395%2C%20-122.285494%5D%2C%20%5B37.856111%2C%20-122.260248%5D%2C%20%5B37.879677%2C%20-122.299779%5D%2C%20%5B37.853216%2C%20-122.281082%5D%2C%20%5B37.859006%2C%20-122.277874%5D%2C%20%5B37.863611%2C%20-122.317566%5D%2C%20%5B37.857714%2C%20-122.288536%5D%2C%20%5B37.869993%2C%20-122.294774%5D%2C%20%5B37.870054%2C%20-122.284263%5D%2C%20%5B37.855798%2C%20-122.252707%5D%2C%20%5B37.869363%2C%20-122.268028%5D%2C%20%5B37.862024%2C%20-122.251212%5D%2C%20%5B37.879968%2C%20-122.296885%5D%2C%20%5B37.869067%2C%20-122.292043%5D%2C%20%5B37.868263%2C%20-122.296013%5D%2C%20%5B37.854833%2C%20-122.279839%5D%2C%20%5B37.853959%2C%20-122.284067%5D%2C%20%5B37.896453%2C%20-122.260331%5D%2C%20%5B37.871246%2C%20-122.274991%5D%2C%20%5B37.868714%2C%20-122.259189%5D%2C%20%5B37.88014%2C%20-122.297498%5D%2C%20%5B37.858116%2C%20-122.268002%5D%2C%20%5B37.867176%2C%20-122.267802%5D%2C%20%5B37.867972%2C%20-122.263699%5D%2C%20%5B37.852491%2C%20-122.243412%5D%2C%20%5B37.881957%2C%20-122.269551%5D%2C%20%5B37.869332%2C%20-122.25019%5D%2C%20%5B37.859215%2C%20-122.268555%5D%2C%20%5B37.870205%2C%20-122.292581%5D%2C%20%5B37.876897%2C%20-122.28868%5D%2C%20%5B37.861081%2C%20-122.275984%5D%2C%20%5B37.856132%2C%20-122.271292%5D%2C%20%5B37.879451%2C%20-122.300901%5D%2C%20%5B37.867176%2C%20-122.267802%5D%2C%20%5B37.858756%2C%20-122.253219%5D%2C%20%5B37.861843%2C%20-122.269644%5D%2C%20%5B37.867513%2C%20-122.25195%5D%2C%20%5B37.86771%2C%20-122.298466%5D%2C%20%5B37.858116%2C%20-122.268002%5D%2C%20%5B37.895076%2C%20-122.264743%5D%2C%20%5B37.85976%2C%20-122.257034%5D%2C%20%5B37.848774%2C%20-122.271171%5D%2C%20%5B37.865748%2C%20-122.253396%5D%2C%20%5B37.857452%2C%20-122.259548%5D%2C%20%5B37.85732%2C%20-122.284575%5D%2C%20%5B37.862927%2C%20-122.258784%5D%2C%20%5B37.869363%2C%20-122.268028%5D%2C%20%5B37.866761%2C%20-122.258779%5D%2C%20%5B37.878372%2C%20-122.296373%5D%2C%20%5B37.890928%2C%20-122.287251%5D%2C%20%5B37.855167%2C%20-122.258753%5D%2C%20%5B37.881003%2C%20-122.293212%5D%2C%20%5B37.879027%2C%20-122.288477%5D%2C%20%5B37.867501%2C%20-122.291709%5D%2C%20%5B37.867176%2C%20-122.267802%5D%2C%20%5B37.855293%2C%20-122.266502%5D%2C%20%5B37.892524%2C%20-122.256323%5D%2C%20%5B37.866084%2C%20-122.292775%5D%2C%20%5B37.867513%2C%20-122.26127%5D%2C%20%5B37.904224%2C%20-122.272694%5D%2C%20%5B37.868785%2C%20-122.272701%5D%2C%20%5B37.859216%2C%20-122.26855%5D%2C%20%5B37.870639%2C%20-122.272468%5D%2C%20%5B37.878864%2C%20-122.265718%5D%2C%20%5B37.853576%2C%20-122.287202%5D%2C%20%5B37.877793%2C%20-122.260709%5D%2C%20%5B37.882033%2C%20-122.296381%5D%2C%20%5B37.853723%2C%20-122.259975%5D%2C%20%5B37.867176%2C%20-122.267802%5D%2C%20%5B37.86771%2C%20-122.298466%5D%2C%20%5B37.873327%2C%20-122.273214%5D%2C%20%5B37.867501%2C%20-122.291709%5D%2C%20%5B37.871167%2C%20-122.268285%5D%2C%20%5B37.867717%2C%20-122.249901%5D%2C%20%5B37.88014%2C%20-122.297498%5D%2C%20%5B37.862512%2C%20-122.290094%5D%2C%20%5B37.861118%2C%20-122.259948%5D%2C%20%5B37.865748%2C%20-122.253396%5D%2C%20%5B37.864701%2C%20-122.260693%5D%2C%20%5B37.864079%2C%20-122.266509%5D%2C%20%5B37.880228%2C%20-122.295798%5D%2C%20%5B37.880734%2C%20-122.265359%5D%2C%20%5B37.880228%2C%20-122.295798%5D%2C%20%5B37.867176%2C%20-122.267802%5D%2C%20%5B37.849431%2C%20-122.278174%5D%2C%20%5B37.858116%2C%20-122.268002%5D%2C%20%5B37.851653%2C%20-122.289194%5D%2C%20%5B37.868667%2C%20-122.313656%5D%2C%20%5B37.864701%2C%20-122.260693%5D%2C%20%5B37.879933%2C%20-122.283098%5D%2C%20%5B37.858116%2C%20-122.268002%5D%2C%20%5B37.848152%2C%20-122.275807%5D%2C%20%5B37.867513%2C%20-122.26127%5D%2C%20%5B37.868714%2C%20-122.259189%5D%2C%20%5B37.898898%2C%20-122.274322%5D%2C%20%5B37.864535%2C%20-122.262993%5D%2C%20%5B37.867513%2C%20-122.26127%5D%2C%20%5B37.866724%2C%20-122.288804%5D%2C%20%5B37.883621%2C%20-122.269734%5D%2C%20%5B37.877951%2C%20-122.271395%5D%2C%20%5B37.858116%2C%20-122.268002%5D%2C%20%5B37.855293%2C%20-122.266502%5D%2C%20%5B37.868815%2C%20-122.292131%5D%2C%20%5B37.850675%2C%20-122.286265%5D%2C%20%5B37.865034%2C%20-122.297939%5D%2C%20%5B37.863611%2C%20-122.317566%5D%2C%20%5B37.857787%2C%20-122.257013%5D%2C%20%5B37.868355%2C%20-122.274953%5D%2C%20%5B37.861129%2C%20-122.273879%5D%2C%20%5B37.865511%2C%20-122.309967%5D%2C%20%5B37.867176%2C%20-122.267802%5D%2C%20%5B37.88014%2C%20-122.297498%5D%2C%20%5B37.871167%2C%20-122.268285%5D%2C%20%5B37.867513%2C%20-122.25195%5D%2C%20%5B37.866563%2C%20-122.297217%5D%2C%20%5B37.846404%2C%20-122.275263%5D%2C%20%5B37.871461%2C%20-122.270706%5D%2C%20%5B37.879888%2C%20-122.285306%5D%2C%20%5B37.898747%2C%20-122.266109%5D%2C%20%5B37.867822%2C%20-122.266003%5D%2C%20%5B37.868714%2C%20-122.259189%5D%2C%20%5B37.891827%2C%20-122.275094%5D%2C%20%5B37.872175%2C%20-122.267835%5D%2C%20%5B37.858525%2C%20-122.266906%5D%2C%20%5B37.88014%2C%20-122.297498%5D%2C%20%5B37.868667%2C%20-122.313656%5D%2C%20%5B37.859367%2C%20-122.291421%5D%2C%20%5B37.869744%2C%20-122.28181%5D%2C%20%5B37.853576%2C%20-122.287202%5D%2C%20%5B37.871167%2C%20-122.268285%5D%2C%20%5B37.87199%2C%20-122.273062%5D%2C%20%5B37.866513%2C%20-122.27474%5D%2C%20%5B37.859802%2C%20-122.267177%5D%2C%20%5B37.860687%2C%20-122.26454%5D%2C%20%5B37.88014%2C%20-122.297498%5D%2C%20%5B37.873393%2C%20-122.286956%5D%2C%20%5B37.862927%2C%20-122.258784%5D%2C%20%5B37.85062%2C%20-122.278313%5D%2C%20%5B37.882033%2C%20-122.296381%5D%2C%20%5B37.858116%2C%20-122.268002%5D%2C%20%5B37.864827%2C%20-122.258577%5D%2C%20%5B37.880027%2C%20-122.279976%5D%2C%20%5B37.852435%2C%20-122.270917%5D%2C%20%5B37.869105%2C%20-122.270064%5D%2C%20%5B37.85274%2C%20-122.283711%5D%2C%20%5B37.854186%2C%20-122.279157%5D%2C%20%5B37.88014%2C%20-122.297498%5D%2C%20%5B37.85177%2C%20-122.276489%5D%2C%20%5B37.868913%2C%20-122.28608%5D%2C%20%5B37.866145%2C%20-122.300016%5D%2C%20%5B37.868815%2C%20-122.292131%5D%2C%20%5B37.878644%2C%20-122.303432%5D%2C%20%5B37.869688%2C%20-122.272805%5D%2C%20%5B37.852764%2C%20-122.26165%5D%2C%20%5B37.859364%2C%20-122.288914%5D%2C%20%5B37.869113%2C%20-122.250903%5D%2C%20%5B37.851107%2C%20-122.28324%5D%2C%20%5B37.881788%2C%20-122.270678%5D%2C%20%5B37.867708%2C%20-122.250801%5D%2C%20%5B37.850285%2C%20-122.273794%5D%2C%20%5B37.881003%2C%20-122.293212%5D%2C%20%5B37.887961%2C%20-122.269822%5D%2C%20%5B37.876644%2C%20-122.299354%5D%2C%20%5B37.855042%2C%20-122.284746%5D%2C%20%5B37.859665%2C%20-122.27169%5D%2C%20%5B37.862562%2C%20-122.262598%5D%2C%20%5B37.865149%2C%20-122.256487%5D%2C%20%5B37.869067%2C%20-122.292043%5D%2C%20%5B37.852304%2C%20-122.270045%5D%2C%20%5B37.870287%2C%20-122.316238%5D%2C%20%5B37.867176%2C%20-122.267802%5D%2C%20%5B37.854442%2C%20-122.277107%5D%2C%20%5B37.873687%2C%20-122.268616%5D%2C%20%5B37.864108%2C%20-122.259461%5D%2C%20%5B37.871167%2C%20-122.268285%5D%2C%20%5B37.878629%2C%20-122.260883%5D%2C%20%5B37.870396%2C%20-122.281585%5D%2C%20%5B37.859259%2C%20-122.275787%5D%2C%20%5B37.862092%2C%20-122.289804%5D%2C%20%5B37.868714%2C%20-122.259189%5D%2C%20%5B37.858116%2C%20-122.268002%5D%2C%20%5B37.849786%2C%20-122.269782%5D%2C%20%5B37.880075%2C%20-122.270476%5D%2C%20%5B37.853552%2C%20-122.291561%5D%2C%20%5B37.859309%2C%20-122.259291%5D%2C%20%5B37.864908%2C%20-122.267289%5D%2C%20%5B37.888199%2C%20-122.250826%5D%2C%20%5B37.867176%2C%20-122.267802%5D%2C%20%5B37.85062%2C%20-122.278313%5D%2C%20%5B37.881788%2C%20-122.270678%5D%2C%20%5B37.882033%2C%20-122.296381%5D%2C%20%5B37.858116%2C%20-122.268002%5D%2C%20%5B37.871167%2C%20-122.268285%5D%2C%20%5B37.86825%2C%20-122.300093%5D%2C%20%5B37.877636%2C%20-122.264323%5D%2C%20%5B37.863292%2C%20-122.256293%5D%2C%20%5B37.868532%2C%20-122.274764%5D%2C%20%5B37.862817%2C%20-122.298359%5D%2C%20%5B37.888702%2C%20-122.26371%5D%2C%20%5B37.869688%2C%20-122.272805%5D%2C%20%5B37.868667%2C%20-122.313656%5D%2C%20%5B37.870205%2C%20-122.292581%5D%2C%20%5B37.865202%2C%20-122.257795%5D%2C%20%5B37.853275%2C%20-122.279078%5D%2C%20%5B37.871369%2C%20-122.292954%5D%2C%20%5B37.876307%2C%20-122.268923%5D%2C%20%5B37.875281%2C%20-122.293681%5D%2C%20%5B37.860766%2C%20-122.255895%5D%2C%20%5B37.857099%2C%20-122.263785%5D%2C%20%5B37.865511%2C%20-122.309967%5D%2C%20%5B37.86939%2C%20-122.267883%5D%2C%20%5B37.86939%2C%20-122.267883%5D%2C%20%5B37.885744%2C%20-122.278017%5D%2C%20%5B37.887344%2C%20-122.277321%5D%2C%20%5B37.86825%2C%20-122.300093%5D%2C%20%5B37.869993%2C%20-122.294774%5D%2C%20%5B37.856326%2C%20-122.259709%5D%2C%20%5B37.879713%2C%20-122.299159%5D%2C%20%5B37.850798%2C%20-122.294689%5D%2C%20%5B37.872656%2C%20-122.292748%5D%2C%20%5B37.876307%2C%20-122.268923%5D%2C%20%5B37.858455%2C%20-122.293374%5D%2C%20%5B37.867176%2C%20-122.267802%5D%2C%20%5B37.870054%2C%20-122.284263%5D%2C%20%5B37.877863%2C%20-122.308855%5D%2C%20%5B37.856088%2C%20-122.29274%5D%2C%20%5B37.871167%2C%20-122.268285%5D%2C%20%5B37.866924%2C%20-122.283899%5D%2C%20%5B37.866426%2C%20-122.269762%5D%2C%20%5B37.870911%2C%20-122.289684%5D%2C%20%5B37.871167%2C%20-122.268285%5D%2C%20%5B37.864827%2C%20-122.258577%5D%2C%20%5B37.878722%2C%20-122.295312%5D%2C%20%5B37.86771%2C%20-122.298466%5D%2C%20%5B37.879968%2C%20-122.296885%5D%2C%20%5B37.865511%2C%20-122.309967%5D%2C%20%5B37.857714%2C%20-122.288536%5D%2C%20%5B37.894256%2C%20-122.281603%5D%2C%20%5B37.858116%2C%20-122.268002%5D%2C%20%5B37.867176%2C%20-122.267802%5D%2C%20%5B37.862169%2C%20-122.267084%5D%2C%20%5B37.857254%2C%20-122.262649%5D%2C%20%5B37.870226%2C%20-122.277441%5D%2C%20%5B37.856088%2C%20-122.29274%5D%2C%20%5B37.882016%2C%20-122.281271%5D%2C%20%5B37.869937%2C%20-122.295043%5D%2C%20%5B37.855389%2C%20-122.264552%5D%2C%20%5B37.851921%2C%20-122.269813%5D%2C%20%5B37.881957%2C%20-122.269551%5D%2C%20%5B37.891095%2C%20-122.284247%5D%2C%20%5B37.863811%2C%20-122.267412%5D%2C%20%5B37.871246%2C%20-122.274991%5D%2C%20%5B37.878407%2C%20-122.267962%5D%2C%20%5B37.876045%2C%20-122.260336%5D%2C%20%5B37.867513%2C%20-122.281165%5D%2C%20%5B37.867852%2C%20-122.258699%5D%2C%20%5B37.864827%2C%20-122.258577%5D%2C%20%5B37.856488%2C%20-122.257329%5D%2C%20%5B37.866568%2C%20-122.254084%5D%2C%20%5B37.869363%2C%20-122.268028%5D%2C%20%5B37.863811%2C%20-122.267412%5D%2C%20%5B37.858116%2C%20-122.268002%5D%2C%20%5B37.891408%2C%20-122.278186%5D%2C%20%5B37.876307%2C%20-122.268923%5D%2C%20%5B37.850681%2C%20-122.270619%5D%2C%20%5B37.869385%2C%20-122.28953%5D%2C%20%5B37.865772%2C%20-122.267643%5D%2C%20%5B37.863977%2C%20-122.267307%5D%2C%20%5B37.867176%2C%20-122.267802%5D%2C%20%5B37.864258%2C%20-122.272202%5D%2C%20%5B37.853552%2C%20-122.291561%5D%2C%20%5B37.869186%2C%20-122.283943%5D%2C%20%5B37.861843%2C%20-122.269644%5D%2C%20%5B37.863934%2C%20-122.250262%5D%2C%20%5B37.869962%2C%20-122.277411%5D%2C%20%5B37.855523%2C%20-122.266529%5D%2C%20%5B37.856939%2C%20-122.272438%5D%2C%20%5B37.881957%2C%20-122.269551%5D%2C%20%5B37.858116%2C%20-122.268002%5D%2C%20%5B37.862927%2C%20-122.258784%5D%2C%20%5B37.864258%2C%20-122.272202%5D%2C%20%5B37.887747%2C%20-122.264514%5D%2C%20%5B37.858116%2C%20-122.268002%5D%2C%20%5B37.879679%2C%20-122.273638%5D%2C%20%5B37.856198%2C%20-122.27972%5D%2C%20%5B37.877835%2C%20-122.260354%5D%2C%20%5B37.880027%2C%20-122.279976%5D%2C%20%5B37.882033%2C%20-122.296381%5D%2C%20%5B37.879226%2C%20-122.260975%5D%2C%20%5B37.893104%2C%20-122.267605%5D%2C%20%5B37.870603%2C%20-122.270612%5D%2C%20%5B37.856111%2C%20-122.260248%5D%2C%20%5B37.899249%2C%20-122.279642%5D%2C%20%5B37.864827%2C%20-122.258577%5D%2C%20%5B37.853864%2C%20-122.285643%5D%2C%20%5B37.867513%2C%20-122.25195%5D%2C%20%5B37.871167%2C%20-122.268285%5D%2C%20%5B37.857809%2C%20-122.271478%5D%2C%20%5B37.878405%2C%20-122.306072%5D%2C%20%5B37.854012%2C%20-122.251243%5D%2C%20%5B37.853552%2C%20-122.291561%5D%2C%20%5B37.859195%2C%20-122.261915%5D%2C%20%5B37.846404%2C%20-122.275263%5D%2C%20%5B37.873327%2C%20-122.273214%5D%2C%20%5B37.858903%2C%20-122.243972%5D%2C%20%5B37.883948%2C%20-122.296991%5D%2C%20%5B37.880163%2C%20-122.30676%5D%2C%20%5B37.850541%2C%20-122.286037%5D%2C%20%5B37.855678%2C%20-122.274429%5D%2C%20%5B37.855832%2C%20-122.272369%5D%2C%20%5B37.859802%2C%20-122.267177%5D%2C%20%5B37.868714%2C%20-122.259189%5D%2C%20%5B37.882033%2C%20-122.296381%5D%2C%20%5B37.870256%2C%20-122.298419%5D%2C%20%5B37.868263%2C%20-122.296013%5D%2C%20%5B37.85931%2C%20-122.273495%5D%2C%20%5B37.866206%2C%20-122.29129%5D%2C%20%5B37.878326%2C%20-122.306549%5D%2C%20%5B37.856968%2C%20-122.279544%5D%2C%20%5B37.865772%2C%20-122.267643%5D%2C%20%5B37.889017%2C%20-122.272389%5D%2C%20%5B37.866265%2C%20-122.278162%5D%2C%20%5B37.87241%2C%20-122.277692%5D%2C%20%5B37.878051%2C%20-122.285222%5D%2C%20%5B37.848152%2C%20-122.275807%5D%2C%20%5B37.852348%2C%20-122.271972%5D%2C%20%5B37.880228%2C%20-122.295798%5D%2C%20%5B37.884732%2C%20-122.280918%5D%2C%20%5B37.882944%2C%20-122.26847%5D%2C%20%5B37.871167%2C%20-122.268285%5D%2C%20%5B37.89316%2C%20-122.283937%5D%2C%20%5B37.869363%2C%20-122.268028%5D%2C%20%5B37.869617%2C%20-122.295925%5D%2C%20%5B37.858759%2C%20-122.264112%5D%2C%20%5B37.858116%2C%20-122.268002%5D%2C%20%5B37.880383%2C%20-122.285574%5D%2C%20%5B37.870205%2C%20-122.292581%5D%2C%20%5B37.871544%2C%20-122.272714%5D%2C%20%5B37.876307%2C%20-122.268923%5D%2C%20%5B37.88014%2C%20-122.297498%5D%2C%20%5B37.883948%2C%20-122.296991%5D%2C%20%5B37.85177%2C%20-122.276489%5D%2C%20%5B37.858116%2C%20-122.268002%5D%2C%20%5B37.853576%2C%20-122.287202%5D%2C%20%5B37.8559%2C%20-122.283101%5D%2C%20%5B37.860766%2C%20-122.255895%5D%2C%20%5B37.866568%2C%20-122.254084%5D%2C%20%5B37.868785%2C%20-122.272701%5D%2C%20%5B37.878722%2C%20-122.295312%5D%2C%20%5B37.863938%2C%20-122.253735%5D%2C%20%5B37.88014%2C%20-122.297498%5D%2C%20%5B37.856066%2C%20-122.27019%5D%2C%20%5B37.871167%2C%20-122.268285%5D%2C%20%5B37.865793%2C%20-122.301779%5D%2C%20%5B37.866122%2C%20-122.260981%5D%2C%20%5B37.868334%2C%20-122.303753%5D%2C%20%5B37.849431%2C%20-122.278174%5D%2C%20%5B37.864826%2C%20-122.260719%5D%2C%20%5B37.883555%2C%20-122.272036%5D%2C%20%5B37.868913%2C%20-122.28608%5D%2C%20%5B37.869186%2C%20-122.283943%5D%2C%20%5B37.869363%2C%20-122.268028%5D%2C%20%5B37.859006%2C%20-122.277874%5D%2C%20%5B37.857099%2C%20-122.263785%5D%2C%20%5B37.870603%2C%20-122.270612%5D%2C%20%5B37.884732%2C%20-122.280918%5D%2C%20%5B37.86542%2C%20-122.25618%5D%2C%20%5B37.878405%2C%20-122.306072%5D%2C%20%5B37.868058%2C%20-122.278332%5D%2C%20%5B37.878901%2C%20-122.274916%5D%2C%20%5B37.87304%2C%20-122.289659%5D%2C%20%5B37.883621%2C%20-122.269734%5D%2C%20%5B37.866969%2C%20-122.26553%5D%2C%20%5B37.846388%2C%20-122.273111%5D%2C%20%5B37.871828%2C%20-122.270516%5D%2C%20%5B37.849747%2C%20-122.277907%5D%2C%20%5B37.854944%2C%20-122.257583%5D%2C%20%5B37.881164%2C%20-122.292378%5D%2C%20%5B37.857776%2C%20-122.286576%5D%2C%20%5B37.894468%2C%20-122.265464%5D%2C%20%5B37.86825%2C%20-122.300093%5D%2C%20%5B37.868785%2C%20-122.272701%5D%2C%20%5B37.876307%2C%20-122.268923%5D%2C%20%5B37.866074%2C%20-122.26331%5D%2C%20%5B37.872499%2C%20-122.286632%5D%2C%20%5B37.851203%2C%20-122.289129%5D%2C%20%5B37.889989%2C%20-122.252226%5D%2C%20%5B37.871246%2C%20-122.274991%5D%2C%20%5B37.871544%2C%20-122.272714%5D%2C%20%5B37.870205%2C%20-122.292581%5D%2C%20%5B37.869307%2C%20-122.248958%5D%2C%20%5B37.861283%2C%20-122.273911%5D%2C%20%5B37.871544%2C%20-122.272714%5D%2C%20%5B37.867176%2C%20-122.267802%5D%2C%20%5B37.867176%2C%20-122.267802%5D%2C%20%5B37.872656%2C%20-122.292748%5D%2C%20%5B37.860225%2C%20-122.269453%5D%2C%20%5B37.865149%2C%20-122.256487%5D%2C%20%5B37.882199%2C%20-122.268386%5D%2C%20%5B37.856968%2C%20-122.279544%5D%2C%20%5B37.858116%2C%20-122.268002%5D%2C%20%5B37.878407%2C%20-122.267962%5D%2C%20%5B37.870054%2C%20-122.284263%5D%2C%20%5B37.890928%2C%20-122.287251%5D%2C%20%5B37.869888%2C%20-122.300618%5D%2C%20%5B37.857784%2C%20-122.272998%5D%2C%20%5B37.859309%2C%20-122.259291%5D%2C%20%5B37.84905%2C%20-122.269098%5D%2C%20%5B37.881957%2C%20-122.269551%5D%2C%20%5B37.866559%2C%20-122.299584%5D%2C%20%5B37.869764%2C%20-122.28655%5D%2C%20%5B37.863611%2C%20-122.317566%5D%2C%20%5B37.85968%2C%20-122.255796%5D%2C%20%5B37.864827%2C%20-122.258577%5D%5D%2C%0A%20%20%20%20%20%20%20%20%20%20%20%20%20%20%20%20%7B%22blur%22%3A%2015%2C%20%22maxZoom%22%3A%2018%2C%20%22minOpacity%22%3A%200.5%2C%20%22radius%22%3A%2010%7D%0A%20%20%20%20%20%20%20%20%20%20%20%20%29.addTo%28map_d0456689ec3740188429afe80d743a54%29%3B%0A%20%20%20%20%20%20%20%20%0A%3C/script%3E onload=\"this.contentDocument.open();this.contentDocument.write(    decodeURIComponent(this.getAttribute('data-html')));this.contentDocument.close();\" allowfullscreen webkitallowfullscreen mozallowfullscreen></iframe></div></div>"
      ],
      "text/plain": [
       "<folium.folium.Map at 0x7f3d89bb99a0>"
      ]
     },
     "execution_count": 38,
     "metadata": {},
     "output_type": "execute_result"
    }
   ],
   "source": [
    "# just run this cell\n",
    "import folium\n",
    "import folium.plugins\n",
    "\n",
    "SF_COORDINATES = (37.87, -122.28)\n",
    "sf_map = folium.Map(location=SF_COORDINATES, zoom_start=13)\n",
    "locs = calls.drop(missing_lat_lon.index)[['Lat', 'Lon']].astype('float').values\n",
    "heatmap = folium.plugins.HeatMap(locs.tolist(), radius=10)\n",
    "sf_map.add_child(heatmap)"
   ]
  },
  {
   "cell_type": "markdown",
   "metadata": {
    "deletable": false,
    "editable": false
   },
   "source": [
    "Based on the above map, what could be some **drawbacks** of using the location fields in this dataset to draw conclusions about crime in Berkeley? Here are some sub-questions to consider:\n",
    "* Is campus really the safest place to be?\n",
    "* Why are all the calls located on the street and often at intersections?\n",
    "\n",
    "<!--\n",
    "BEGIN QUESTION\n",
    "name: q3d\n",
    "-->"
   ]
  },
  {
   "cell_type": "markdown",
   "metadata": {},
   "source": [
    "Drawbacks include the way that location excludes a lot of other factors so to claim that location is the only reason for a crime would be wrong. For example, you might be more likely to be involved in a call if you are on a large intersection because more car accidents happen there."
   ]
  },
  {
   "cell_type": "markdown",
   "metadata": {},
   "source": [
    "<br/>\n",
    "\n",
    "<hr style=\"border: 5px solid #003262;\" />\n",
    "\n",
    "**Important**: To make sure the test cases run correctly, click `Kernel>Restart & Run All` and make sure all of the test cases are still passing. Doing so will submit your code for you. \n",
    "\n",
    "If your test cases are no longer passing after restarting, it's likely because you're missing a variable, or the modifications that you'd previously made to your DataFrame are no longer taking place (perhaps because you deleted a cell). \n",
    "\n",
    "You may submit this assignment as many times as you'd like before the deadline.\n",
    "\n",
    "**You must restart and run all cells before submitting. Otherwise, you may pass test cases locally, but not on our servers. We will not entertain regrade requests of the form, “my code passed all of my local test cases, but failed the autograder”.**"
   ]
  },
  {
   "cell_type": "markdown",
   "metadata": {
    "nbgrader": {
     "grade": false,
     "grade_id": "finish",
     "locked": true,
     "schema_version": 2,
     "solution": false
    }
   },
   "source": [
    "## Congratulations!\n",
    "\n",
    "Congrats! You are finished with this lab."
   ]
  },
  {
   "cell_type": "markdown",
   "metadata": {
    "deletable": false,
    "editable": false
   },
   "source": [
    "---\n",
    "\n",
    "To double-check your work, the cell below will rerun all of the autograder tests."
   ]
  },
  {
   "cell_type": "code",
   "execution_count": 39,
   "metadata": {
    "deletable": false,
    "editable": false
   },
   "outputs": [
    {
     "data": {
      "text/plain": [
       "q1 results: All test cases passed!\n",
       "\n",
       "q2a results: All test cases passed!\n",
       "\n",
       "q2b results: All test cases passed!\n",
       "\n",
       "q2c results: All test cases passed!\n",
       "\n",
       "q3a results: All test cases passed!\n",
       "\n",
       "q3b results: All test cases passed!\n",
       "\n",
       "q3c results: All test cases passed!"
      ]
     },
     "execution_count": 39,
     "metadata": {},
     "output_type": "execute_result"
    }
   ],
   "source": [
    "grader.check_all()"
   ]
  },
  {
   "cell_type": "markdown",
   "metadata": {
    "deletable": false,
    "editable": false
   },
   "source": [
    "## Submission\n",
    "\n",
    "Make sure you have run all cells in your notebook in order before running the cell below, so that all images/graphs appear in the output. The cell below will generate a zip file for you to submit. **Please save before exporting!**"
   ]
  },
  {
   "cell_type": "code",
   "execution_count": 40,
   "metadata": {
    "deletable": false,
    "editable": false
   },
   "outputs": [
    {
     "data": {
      "text/html": [
       "\n",
       "            <p>Your submission has been exported. Click <a href=\"lab03_2022_02_08T02_52_05_313690.zip\" download=\"lab03_2022_02_08T02_52_05_313690.zip\" target=\"_blank\">here</a>\n",
       "            to download the zip file.</p>\n",
       "            "
      ],
      "text/plain": [
       "<IPython.core.display.HTML object>"
      ]
     },
     "metadata": {},
     "output_type": "display_data"
    }
   ],
   "source": [
    "# Save your notebook first, then run this cell to export your submission.\n",
    "grader.export(pdf=False)"
   ]
  },
  {
   "cell_type": "markdown",
   "metadata": {},
   "source": [
    " "
   ]
  }
 ],
 "metadata": {
  "celltoolbar": "Create Assignment",
  "kernelspec": {
   "display_name": "Python 3 (ipykernel)",
   "language": "python",
   "name": "python3"
  },
  "language_info": {
   "codemirror_mode": {
    "name": "ipython",
    "version": 3
   },
   "file_extension": ".py",
   "mimetype": "text/x-python",
   "name": "python",
   "nbconvert_exporter": "python",
   "pygments_lexer": "ipython3",
   "version": "3.9.10"
  }
 },
 "nbformat": 4,
 "nbformat_minor": 4
}
